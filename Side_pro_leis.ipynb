{
 "cells": [
  {
   "cell_type": "code",
   "execution_count": 32,
   "id": "facb3891",
   "metadata": {},
   "outputs": [],
   "source": [
    "import pandas as pd\n",
    "import numpy as np\n",
    "import re\n",
    "import warnings\n",
    "\n",
    "warnings.filterwarnings(\"ignore\")"
   ]
  },
  {
   "cell_type": "code",
   "execution_count": 33,
   "id": "e497618b",
   "metadata": {},
   "outputs": [],
   "source": [
    "List_country = ['Australia', 'Austria', 'Belgium', 'Canada', \"China (People's Republic of)\",\n",
    " 'Denmark', 'Estonia', 'Finland', 'France', 'Germany', 'Greece', 'Hungary',\n",
    " 'India', 'Ireland', 'Italy', 'Japan', 'Korea', 'Latvia', 'Lithuania',\n",
    " 'Luxembourg', 'Mexico', 'Netherlands', 'New Zealand', 'Norway', 'Poland',\n",
    " 'Portugal', 'Slovenia', 'South Africa', 'Spain', 'Sweden', 'T체rkiye',\n",
    " 'United Kingdom', 'United States']"
   ]
  },
  {
   "cell_type": "code",
   "execution_count": 34,
   "id": "3d23b072",
   "metadata": {},
   "outputs": [],
   "source": [
    "List_country_korean = [\"호주\", \"오스트리아\", \"벨기에\", \"캐나다\", \"중국\", \"덴마크\", \"에스토니아\",\n",
    "                       \"핀란드\", \"프랑스\", \"독일\", \"그리스\", \"헝가리\", \"인도\", \"아일랜드\", \n",
    "                       \"이탈리아\", \"일본\", \"대한민국\", \"라트비아\", \"리투아니아\", \"룩셈브르크\",\n",
    "                       \"멕시코\", \"네덜란드\", \"뉴질랜드\", \"노르웨이\", \"폴란드\", \"포르투갈\",\n",
    "                       \"슬로베니아\", \"남아프리카 공화국\", \"스페인\", \"스웨덴\", \"튀르키예\", \"영국\", \n",
    "                       \"미국\"]"
   ]
  },
  {
   "cell_type": "code",
   "execution_count": null,
   "id": "8abee3e9",
   "metadata": {},
   "outputs": [],
   "source": [
    "print(\"원본 갯수 : \",len(List_country))\n",
    "print(\"번역본 갯수 : \",len(List_country_korean))"
   ]
  },
  {
   "attachments": {},
   "cell_type": "markdown",
   "id": "929ea9db",
   "metadata": {},
   "source": [
    "# <font color=\"#666666\">Functions</font>"
   ]
  },
  {
   "cell_type": "code",
   "execution_count": 35,
   "id": "abc37a4a",
   "metadata": {},
   "outputs": [],
   "source": [
    "def leisure_pretreat(dframe, turnOnAvg=0, choice_yr=None, input_cat=None) : \n",
    "\n",
    "    \"\"\"\n",
    "    \n",
    "    Ver. 7\n",
    "    \n",
    "    여가 관련 통계조사 전처리 함수입니다.\n",
    "\n",
    "    -------------------------------------------------------------------------------\n",
    "\n",
    "    1. (Ver. 2 -> Ver. 3 : '평균' 컬럼을 선택적으로 제외할 수 있게 수정)\n",
    "\n",
    "    'turnOnAvg' 파라미터에 1을 입력하면 '평균' 컬럼을 유지합니다.\n",
    "\n",
    "    2. (Ver. 3 -> Ver. 4 : '연도'를 입력하면 해당 연도 이상의 연도 리스트만 반환)\n",
    "\n",
    "    'choice_yr' 파라미터에 연도를 입력하면, 해당 연도 이상의 컬럼만 반환합니다.\n",
    "\n",
    "    3. (Ver. 4 -> Ver. 5 : 행 인덱스를 reset_index)\n",
    "\n",
    "    4. (Ver. 5 -> Ver. 6 : 카테고리와 세부 카테고리로 나눔)\n",
    "\n",
    "    5. (Ver. 6 -> Ver. 7 : 여가 종류를 하나의 카테고리로 묶음)\n",
    "\n",
    "    -------------------------------------------------------------------------------\n",
    "\n",
    "    \"\"\"\n",
    "\n",
    "    year_List = list(range(2016,2022))\n",
    "    year_List = [value for value in year_List if value != 2017]   # 2017년도 빼기\n",
    "\n",
    "    if choice_yr : \n",
    "        year_List = [value for value in year_List if value >= choice_yr]\n",
    "\n",
    "    category = [\"연령별\", \"가구소득별\"]\n",
    "\n",
    "    leis_sep = dframe.iloc[:,:2]\n",
    "\n",
    "    conc_list_age = []\n",
    "    conc_list_inc = []\n",
    "\n",
    "    for yr in year_List : \n",
    "\n",
    "        pattern = str(yr)\n",
    "        df_name = \"DataFrame_\" + str(yr)\n",
    "\n",
    "        globals()[df_name] = dframe.filter(like=pattern)    # 조건에 만족하는 데이터 프레임 반환\n",
    "        globals()[df_name] = pd.concat([leis_sep, globals()[df_name]], axis=1)     # 왼쪽 오른쪽으로 합치기, 인덱스가 다르면 outer join\n",
    "        globals()[df_name] = globals()[df_name].replace(\"-\",0)\n",
    "        globals()[df_name].columns = globals()[df_name].iloc[0,:].to_list()\n",
    "        globals()[df_name] = globals()[df_name].iloc[1:,:]\n",
    "        globals()[df_name].iloc[:,2:] = globals()[df_name].iloc[:,2:].astype(float)\n",
    "\n",
    "        if turnOnAvg == 1:\n",
    "            col_avg = globals()[df_name][\"평균\"]\n",
    "\n",
    "        if \"평균\" in globals()[df_name].columns.to_list() : \n",
    "            globals()[df_name].drop(\"평균\", axis=1, inplace=True)\n",
    "            \n",
    "\n",
    "        globals()[df_name].iloc[:,3:] = globals()[df_name].iloc[:,3:].apply(lambda x : x * globals()[df_name].iloc[:,2] / 100)  # 백분율로 표시된 값을 실제 값으로 변환\n",
    "        globals()[df_name] = globals()[df_name].drop(\"표본수\",axis=1)  # 합계 부분 삭제\n",
    "        globals()[df_name].iloc[:,2:] = globals()[df_name].iloc[:,2:].astype(int)\n",
    "\n",
    "        # 평균 컬럼을 보기 원한다면\n",
    "        if turnOnAvg == 1 :\n",
    "            globals()[df_name] = pd.concat([globals()[df_name], col_avg], axis=1)\n",
    "            \n",
    "        for cat1 in category : \n",
    "\n",
    "            df_name_c1 = \"DataFrame_\" + str(yr) + cat1\n",
    "            globals()[df_name_c1] = globals()[df_name][globals()[df_name][\"통계분류(1)\"]==cat1].iloc[:,1:]\n",
    "            globals()[df_name_c1].insert(0, \"연도별\", yr)\n",
    "            globals()[df_name_c1].rename({\"통계분류(2)\":\"세부 조사대상\"},axis=1,inplace=True)\n",
    "            globals()[df_name_c1].insert(1, \"조사대상\", cat1)\n",
    "\n",
    "            if input_cat : \n",
    "                globals()[df_name_c1].insert(1, \"여가 종류\", input_cat)\n",
    "\n",
    "            if cat1 == category[0] : \n",
    "                conc_list_age.append(globals()[df_name_c1])     # 연령별과 같으면\n",
    "            else : \n",
    "                conc_list_inc.append(globals()[df_name_c1])     # 수입과 같으면\n",
    "\n",
    "    df1 = pd.concat(conc_list_age, axis=0)\n",
    "    df2 = pd.concat(conc_list_inc, axis=0)\n",
    "\n",
    "    df1.fillna(0, axis=1, inplace=True)\n",
    "    df2.fillna(0, axis=1, inplace=True)\n",
    "\n",
    "    # 연령과 수입을 join\n",
    "    df_conc = pd.concat([df1, df2], axis=0)\n",
    "    df_conc.reset_index(drop=True, inplace=True)   #원래 있던 인덱스를 컬럼으로 만들지 않고 버림\n",
    "\n",
    "    # 조인할 때 공백으로 인해 컬럼명이 달라 outer join이 일어나므로, 공백 제거\n",
    "    df_conc = df_conc.rename(columns=lambda x: x.replace(\" \",\"\"))  \n",
    "    \n",
    "    return df_conc"
   ]
  },
  {
   "cell_type": "code",
   "execution_count": 36,
   "id": "d391ba8f",
   "metadata": {},
   "outputs": [],
   "source": [
    "def csv_to_excel(dataframe, filename) : \n",
    "\n",
    "    import os\n",
    "\n",
    "    dir_path = \"./pretreat_data/\"\n",
    "    xlsx_dir = os.path.join(dir_path,str(filename))\n",
    "\n",
    "    dataframe.to_excel(excel_writer=xlsx_dir)"
   ]
  },
  {
   "attachments": {},
   "cell_type": "markdown",
   "id": "e3baed34",
   "metadata": {},
   "source": [
    "# 여가 관련 자료"
   ]
  },
  {
   "attachments": {},
   "cell_type": "markdown",
   "id": "536afec1",
   "metadata": {},
   "source": [
    "## <font color=#FFB6C1> 세계 행복 지수 </font>"
   ]
  },
  {
   "cell_type": "code",
   "execution_count": 37,
   "id": "95cea694",
   "metadata": {},
   "outputs": [
    {
     "data": {
      "text/html": [
       "<div>\n",
       "<style scoped>\n",
       "    .dataframe tbody tr th:only-of-type {\n",
       "        vertical-align: middle;\n",
       "    }\n",
       "\n",
       "    .dataframe tbody tr th {\n",
       "        vertical-align: top;\n",
       "    }\n",
       "\n",
       "    .dataframe thead th {\n",
       "        text-align: right;\n",
       "    }\n",
       "</style>\n",
       "<table border=\"1\" class=\"dataframe\">\n",
       "  <thead>\n",
       "    <tr style=\"text-align: right;\">\n",
       "      <th></th>\n",
       "      <th>순위</th>\n",
       "      <th>국가</th>\n",
       "      <th>행복지수</th>\n",
       "    </tr>\n",
       "  </thead>\n",
       "  <tbody>\n",
       "    <tr>\n",
       "      <th>0</th>\n",
       "      <td>1</td>\n",
       "      <td>핀란드</td>\n",
       "      <td>7.804</td>\n",
       "    </tr>\n",
       "    <tr>\n",
       "      <th>1</th>\n",
       "      <td>2</td>\n",
       "      <td>덴마크</td>\n",
       "      <td>7.586</td>\n",
       "    </tr>\n",
       "    <tr>\n",
       "      <th>2</th>\n",
       "      <td>3</td>\n",
       "      <td>아이슬란드</td>\n",
       "      <td>7.530</td>\n",
       "    </tr>\n",
       "    <tr>\n",
       "      <th>3</th>\n",
       "      <td>4</td>\n",
       "      <td>이스라엘</td>\n",
       "      <td>7.473</td>\n",
       "    </tr>\n",
       "    <tr>\n",
       "      <th>4</th>\n",
       "      <td>5</td>\n",
       "      <td>네덜란드</td>\n",
       "      <td>7.403</td>\n",
       "    </tr>\n",
       "  </tbody>\n",
       "</table>\n",
       "</div>"
      ],
      "text/plain": [
       "   순위     국가   행복지수\n",
       "0   1    핀란드  7.804\n",
       "1   2    덴마크  7.586\n",
       "2   3  아이슬란드  7.530\n",
       "3   4   이스라엘  7.473\n",
       "4   5   네덜란드  7.403"
      ]
     },
     "execution_count": 37,
     "metadata": {},
     "output_type": "execute_result"
    }
   ],
   "source": [
    "happy_world = pd.read_excel(\"G:/내 드라이브/취미/세계행복지수_2020~2022.xlsx\")\n",
    "happy_world.head()"
   ]
  },
  {
   "cell_type": "code",
   "execution_count": null,
   "id": "ea83cd20",
   "metadata": {},
   "outputs": [],
   "source": [
    "csv_to_excel(happy_world, \"전처리_세계행복지수_2020~2022.xlsx\")"
   ]
  },
  {
   "attachments": {},
   "cell_type": "markdown",
   "id": "f5d24777",
   "metadata": {},
   "source": [
    "## <font color=#E19B50> OECD 국가별 시간 사용 </font>"
   ]
  },
  {
   "cell_type": "code",
   "execution_count": 38,
   "id": "4c4ad484",
   "metadata": {},
   "outputs": [],
   "source": [
    "\"\"\"\n",
    "1. Paid work or study : 근무 시간, 대학교 등을 포함한 정규 교육 시간(숙제 포함), 구직 활동 등을 포함한 시간\n",
    "\n",
    "2. unpaid work : 집안일, 쇼핑, 양육, 가족 여행 등 가족 구성원과 관련된 시간\n",
    "\n",
    "3. personal care : 잠, 식사, 휴식 등 건강을 유지하기 위해 필요한 시간\n",
    "\n",
    "4. leisure : 문화 생활, 스포츠 / 게임, 야외 활동 등 즐거움을 위한 사회 / 개인 활동\n",
    "\n",
    "5. others : 종교 혹은 그 이외의 활동\n",
    "\n",
    "\n",
    "시간은 분(min) 단위임\n",
    "\"\"\"\n",
    "\n",
    "timeUse_oecd = pd.read_csv(\"G:/내 드라이브/취미/TIME_USE_25052023035411993.csv\", encoding=\"cp949\",sep=\"\\t\")\n",
    "# timeUse_oecd.info()\n",
    "# timeUse_oecd.head()"
   ]
  },
  {
   "cell_type": "code",
   "execution_count": 39,
   "id": "5047fe54",
   "metadata": {},
   "outputs": [],
   "source": [
    "# 성별에 Total을 없앰\n",
    "timeUse_oecd = timeUse_oecd[timeUse_oecd[\"SEX\"] != \"TOTAL\"]"
   ]
  },
  {
   "cell_type": "code",
   "execution_count": 40,
   "id": "e8962cc9",
   "metadata": {},
   "outputs": [],
   "source": [
    "# value 컬럼명을 minutes로 변경\n",
    "timeUse_oecd.rename({\"Value\":\"minutes\"}, axis=1, inplace=True)"
   ]
  },
  {
   "cell_type": "code",
   "execution_count": 41,
   "id": "3e339b98",
   "metadata": {},
   "outputs": [
    {
     "data": {
      "text/html": [
       "<div>\n",
       "<style scoped>\n",
       "    .dataframe tbody tr th:only-of-type {\n",
       "        vertical-align: middle;\n",
       "    }\n",
       "\n",
       "    .dataframe tbody tr th {\n",
       "        vertical-align: top;\n",
       "    }\n",
       "\n",
       "    .dataframe thead th {\n",
       "        text-align: right;\n",
       "    }\n",
       "</style>\n",
       "<table border=\"1\" class=\"dataframe\">\n",
       "  <thead>\n",
       "    <tr style=\"text-align: right;\">\n",
       "      <th></th>\n",
       "      <th>국가</th>\n",
       "      <th>분류</th>\n",
       "      <th>성별</th>\n",
       "      <th>분(min)</th>\n",
       "    </tr>\n",
       "  </thead>\n",
       "  <tbody>\n",
       "    <tr>\n",
       "      <th>0</th>\n",
       "      <td>Australia</td>\n",
       "      <td>Leisure</td>\n",
       "      <td>MEN</td>\n",
       "      <td>297.031370</td>\n",
       "    </tr>\n",
       "    <tr>\n",
       "      <th>1</th>\n",
       "      <td>Australia</td>\n",
       "      <td>Other</td>\n",
       "      <td>MEN</td>\n",
       "      <td>18.062717</td>\n",
       "    </tr>\n",
       "    <tr>\n",
       "      <th>2</th>\n",
       "      <td>Australia</td>\n",
       "      <td>Paid work or study</td>\n",
       "      <td>MEN</td>\n",
       "      <td>304.055760</td>\n",
       "    </tr>\n",
       "    <tr>\n",
       "      <th>3</th>\n",
       "      <td>Australia</td>\n",
       "      <td>Personal care</td>\n",
       "      <td>MEN</td>\n",
       "      <td>649.254330</td>\n",
       "    </tr>\n",
       "    <tr>\n",
       "      <th>4</th>\n",
       "      <td>Australia</td>\n",
       "      <td>Unpaid work</td>\n",
       "      <td>MEN</td>\n",
       "      <td>171.595830</td>\n",
       "    </tr>\n",
       "  </tbody>\n",
       "</table>\n",
       "</div>"
      ],
      "text/plain": [
       "          국가                  분류   성별      분(min)\n",
       "0  Australia             Leisure  MEN  297.031370\n",
       "1  Australia               Other  MEN   18.062717\n",
       "2  Australia  Paid work or study  MEN  304.055760\n",
       "3  Australia       Personal care  MEN  649.254330\n",
       "4  Australia         Unpaid work  MEN  171.595830"
      ]
     },
     "execution_count": 41,
     "metadata": {},
     "output_type": "execute_result"
    }
   ],
   "source": [
    "# 아래와 같은 순서로 오름차순 후 인덱스 리셋\n",
    "timeUse_oecd = timeUse_oecd.sort_values(by=[\"Country\", \"SEX\", \"Description\"], ascending=True)\n",
    "timeUse_oecd = timeUse_oecd.reset_index(drop=True)\n",
    "timeUse_oecd.columns = [\"국가\", \"분류\", \"성별\", \"분(min)\"]\n",
    "timeUse_oecd.head()"
   ]
  },
  {
   "cell_type": "code",
   "execution_count": 42,
   "id": "27d3ec00",
   "metadata": {},
   "outputs": [
    {
     "data": {
      "text/plain": [
       "array(['호주', '오스트리아', '벨기에', '캐나다', '중국', '덴마크', '에스토니아', '핀란드', '프랑스',\n",
       "       '독일', '그리스', '헝가리', '인도', '아일랜드', '이탈리아', '일본', '대한민국', '라트비아',\n",
       "       '리투아니아', '룩셈브르크', '멕시코', '네덜란드', '뉴질랜드', '노르웨이', '폴란드', '포르투갈',\n",
       "       '슬로베니아', '남아프리카 공화국', '스페인', '스웨덴', '튀르키예', '영국', '미국'],\n",
       "      dtype=object)"
      ]
     },
     "execution_count": 42,
     "metadata": {},
     "output_type": "execute_result"
    }
   ],
   "source": [
    "timeUse_oecd.replace(List_country, List_country_korean, inplace=True)\n",
    "timeUse_oecd[\"국가\"].unique()"
   ]
  },
  {
   "cell_type": "code",
   "execution_count": 43,
   "id": "73e88d8c",
   "metadata": {},
   "outputs": [],
   "source": [
    "timeUse_oecd_gr = timeUse_oecd.groupby(by=[\"국가\", \"분류\"]).sum()"
   ]
  },
  {
   "cell_type": "code",
   "execution_count": 44,
   "id": "056949ca",
   "metadata": {},
   "outputs": [
    {
     "data": {
      "text/html": [
       "<div>\n",
       "<style scoped>\n",
       "    .dataframe tbody tr th:only-of-type {\n",
       "        vertical-align: middle;\n",
       "    }\n",
       "\n",
       "    .dataframe tbody tr th {\n",
       "        vertical-align: top;\n",
       "    }\n",
       "\n",
       "    .dataframe thead th {\n",
       "        text-align: right;\n",
       "    }\n",
       "</style>\n",
       "<table border=\"1\" class=\"dataframe\">\n",
       "  <thead>\n",
       "    <tr style=\"text-align: right;\">\n",
       "      <th></th>\n",
       "      <th>국가</th>\n",
       "      <th>분류</th>\n",
       "      <th>분(min)</th>\n",
       "    </tr>\n",
       "  </thead>\n",
       "  <tbody>\n",
       "    <tr>\n",
       "      <th>0</th>\n",
       "      <td>그리스</td>\n",
       "      <td>Leisure</td>\n",
       "      <td>685.994260</td>\n",
       "    </tr>\n",
       "    <tr>\n",
       "      <th>1</th>\n",
       "      <td>그리스</td>\n",
       "      <td>Other</td>\n",
       "      <td>12.283877</td>\n",
       "    </tr>\n",
       "    <tr>\n",
       "      <th>2</th>\n",
       "      <td>그리스</td>\n",
       "      <td>Paid work or study</td>\n",
       "      <td>458.808250</td>\n",
       "    </tr>\n",
       "    <tr>\n",
       "      <th>3</th>\n",
       "      <td>그리스</td>\n",
       "      <td>Personal care</td>\n",
       "      <td>1368.716550</td>\n",
       "    </tr>\n",
       "    <tr>\n",
       "      <th>4</th>\n",
       "      <td>그리스</td>\n",
       "      <td>Unpaid work</td>\n",
       "      <td>354.565556</td>\n",
       "    </tr>\n",
       "  </tbody>\n",
       "</table>\n",
       "</div>"
      ],
      "text/plain": [
       "    국가                  분류       분(min)\n",
       "0  그리스             Leisure   685.994260\n",
       "1  그리스               Other    12.283877\n",
       "2  그리스  Paid work or study   458.808250\n",
       "3  그리스       Personal care  1368.716550\n",
       "4  그리스         Unpaid work   354.565556"
      ]
     },
     "execution_count": 44,
     "metadata": {},
     "output_type": "execute_result"
    }
   ],
   "source": [
    "timeUse_oecd_gr.reset_index(inplace=True)\n",
    "timeUse_oecd_gr.head()"
   ]
  },
  {
   "cell_type": "code",
   "execution_count": null,
   "id": "b803568c",
   "metadata": {},
   "outputs": [],
   "source": [
    "timeUse_oecd_gr = timeUse_oecd_gr[timeUse_oecd_gr[\"분류\"]==\"Leisure\"]\n",
    "timeUse_oecd_gr.head()"
   ]
  },
  {
   "cell_type": "code",
   "execution_count": null,
   "id": "865b0c4e",
   "metadata": {},
   "outputs": [],
   "source": [
    "timeUse_oecd_gr.reset_index(drop=True, inplace=True)\n",
    "timeUse_oecd_gr.head()"
   ]
  },
  {
   "cell_type": "code",
   "execution_count": null,
   "id": "ad632634",
   "metadata": {},
   "outputs": [],
   "source": [
    "csv_to_excel(timeUse_oecd, \"전처리_OECD 국가별 시간 사용.xlsx\")"
   ]
  },
  {
   "attachments": {},
   "cell_type": "markdown",
   "id": "3d800671",
   "metadata": {},
   "source": [
    "## 행복지수와 여가 시간 merge"
   ]
  },
  {
   "cell_type": "code",
   "execution_count": null,
   "id": "41db3390",
   "metadata": {},
   "outputs": [],
   "source": [
    "mrg_hp_use = pd.merge(happy_world, timeUse_oecd_gr, how='left', left_on=\"국가\", right_on=\"국가\")\n",
    "mrg_hp_use"
   ]
  },
  {
   "cell_type": "code",
   "execution_count": null,
   "id": "49ed8b71",
   "metadata": {},
   "outputs": [],
   "source": [
    "mrg_hp_use_dropna = mrg_hp_use.dropna(axis=0, how=\"any\")"
   ]
  },
  {
   "cell_type": "code",
   "execution_count": null,
   "id": "971c3bcd",
   "metadata": {},
   "outputs": [],
   "source": [
    "csv_to_excel(mrg_hp_use_dropna, \"전처리_행복지수+여가시간.xlsx\")"
   ]
  },
  {
   "cell_type": "code",
   "execution_count": null,
   "id": "261f7fca",
   "metadata": {},
   "outputs": [],
   "source": [
    "print(mrg_hp_use_dropna.corr(method=\"pearson\"))"
   ]
  },
  {
   "cell_type": "code",
   "execution_count": 47,
   "id": "fec7bbbe",
   "metadata": {},
   "outputs": [
    {
     "data": {
      "text/html": [
       "<div>\n",
       "<style scoped>\n",
       "    .dataframe tbody tr th:only-of-type {\n",
       "        vertical-align: middle;\n",
       "    }\n",
       "\n",
       "    .dataframe tbody tr th {\n",
       "        vertical-align: top;\n",
       "    }\n",
       "\n",
       "    .dataframe thead th {\n",
       "        text-align: right;\n",
       "    }\n",
       "</style>\n",
       "<table border=\"1\" class=\"dataframe\">\n",
       "  <thead>\n",
       "    <tr style=\"text-align: right;\">\n",
       "      <th></th>\n",
       "      <th>순위</th>\n",
       "      <th>국가</th>\n",
       "      <th>행복지수</th>\n",
       "      <th>분류</th>\n",
       "      <th>분(min)</th>\n",
       "    </tr>\n",
       "  </thead>\n",
       "  <tbody>\n",
       "    <tr>\n",
       "      <th>0</th>\n",
       "      <td>1</td>\n",
       "      <td>핀란드</td>\n",
       "      <td>7.804</td>\n",
       "      <td>Leisure</td>\n",
       "      <td>662.343630</td>\n",
       "    </tr>\n",
       "    <tr>\n",
       "      <th>1</th>\n",
       "      <td>1</td>\n",
       "      <td>핀란드</td>\n",
       "      <td>7.804</td>\n",
       "      <td>Other</td>\n",
       "      <td>85.128215</td>\n",
       "    </tr>\n",
       "    <tr>\n",
       "      <th>2</th>\n",
       "      <td>1</td>\n",
       "      <td>핀란드</td>\n",
       "      <td>7.804</td>\n",
       "      <td>Paid work or study</td>\n",
       "      <td>458.450750</td>\n",
       "    </tr>\n",
       "    <tr>\n",
       "      <th>3</th>\n",
       "      <td>1</td>\n",
       "      <td>핀란드</td>\n",
       "      <td>7.804</td>\n",
       "      <td>Personal care</td>\n",
       "      <td>1280.843020</td>\n",
       "    </tr>\n",
       "    <tr>\n",
       "      <th>4</th>\n",
       "      <td>1</td>\n",
       "      <td>핀란드</td>\n",
       "      <td>7.804</td>\n",
       "      <td>Unpaid work</td>\n",
       "      <td>393.234390</td>\n",
       "    </tr>\n",
       "    <tr>\n",
       "      <th>...</th>\n",
       "      <td>...</td>\n",
       "      <td>...</td>\n",
       "      <td>...</td>\n",
       "      <td>...</td>\n",
       "      <td>...</td>\n",
       "    </tr>\n",
       "    <tr>\n",
       "      <th>264</th>\n",
       "      <td>133</td>\n",
       "      <td>콩고 민주공화국</td>\n",
       "      <td>3.207</td>\n",
       "      <td>NaN</td>\n",
       "      <td>NaN</td>\n",
       "    </tr>\n",
       "    <tr>\n",
       "      <th>265</th>\n",
       "      <td>134</td>\n",
       "      <td>짐바브웨</td>\n",
       "      <td>3.204</td>\n",
       "      <td>NaN</td>\n",
       "      <td>NaN</td>\n",
       "    </tr>\n",
       "    <tr>\n",
       "      <th>266</th>\n",
       "      <td>135</td>\n",
       "      <td>시에라리온</td>\n",
       "      <td>3.138</td>\n",
       "      <td>NaN</td>\n",
       "      <td>NaN</td>\n",
       "    </tr>\n",
       "    <tr>\n",
       "      <th>267</th>\n",
       "      <td>136</td>\n",
       "      <td>레바논</td>\n",
       "      <td>2.392</td>\n",
       "      <td>NaN</td>\n",
       "      <td>NaN</td>\n",
       "    </tr>\n",
       "    <tr>\n",
       "      <th>268</th>\n",
       "      <td>137</td>\n",
       "      <td>아프가니스탄</td>\n",
       "      <td>1.859</td>\n",
       "      <td>NaN</td>\n",
       "      <td>NaN</td>\n",
       "    </tr>\n",
       "  </tbody>\n",
       "</table>\n",
       "<p>269 rows × 5 columns</p>\n",
       "</div>"
      ],
      "text/plain": [
       "      순위        국가   행복지수                  분류       분(min)\n",
       "0      1       핀란드  7.804             Leisure   662.343630\n",
       "1      1       핀란드  7.804               Other    85.128215\n",
       "2      1       핀란드  7.804  Paid work or study   458.450750\n",
       "3      1       핀란드  7.804       Personal care  1280.843020\n",
       "4      1       핀란드  7.804         Unpaid work   393.234390\n",
       "..   ...       ...    ...                 ...          ...\n",
       "264  133  콩고 민주공화국  3.207                 NaN          NaN\n",
       "265  134      짐바브웨  3.204                 NaN          NaN\n",
       "266  135     시에라리온  3.138                 NaN          NaN\n",
       "267  136       레바논  2.392                 NaN          NaN\n",
       "268  137    아프가니스탄  1.859                 NaN          NaN\n",
       "\n",
       "[269 rows x 5 columns]"
      ]
     },
     "execution_count": 47,
     "metadata": {},
     "output_type": "execute_result"
    }
   ],
   "source": [
    "mrg_hp_use2 = pd.merge(happy_world, timeUse_oecd_gr, how=\"outer\", left_on=\"국가\", right_on=\"국가\")\n",
    "mrg_hp_use2"
   ]
  },
  {
   "cell_type": "code",
   "execution_count": 55,
   "id": "e08d5f95",
   "metadata": {},
   "outputs": [
    {
     "data": {
      "text/html": [
       "<div>\n",
       "<style scoped>\n",
       "    .dataframe tbody tr th:only-of-type {\n",
       "        vertical-align: middle;\n",
       "    }\n",
       "\n",
       "    .dataframe tbody tr th {\n",
       "        vertical-align: top;\n",
       "    }\n",
       "\n",
       "    .dataframe thead th {\n",
       "        text-align: right;\n",
       "    }\n",
       "</style>\n",
       "<table border=\"1\" class=\"dataframe\">\n",
       "  <thead>\n",
       "    <tr style=\"text-align: right;\">\n",
       "      <th></th>\n",
       "      <th>순위</th>\n",
       "      <th>국가</th>\n",
       "      <th>행복지수</th>\n",
       "      <th>분류</th>\n",
       "      <th>분(min)</th>\n",
       "    </tr>\n",
       "  </thead>\n",
       "  <tbody>\n",
       "    <tr>\n",
       "      <th>10</th>\n",
       "      <td>3</td>\n",
       "      <td>아이슬란드</td>\n",
       "      <td>7.530</td>\n",
       "      <td>NaN</td>\n",
       "      <td>NaN</td>\n",
       "    </tr>\n",
       "    <tr>\n",
       "      <th>11</th>\n",
       "      <td>4</td>\n",
       "      <td>이스라엘</td>\n",
       "      <td>7.473</td>\n",
       "      <td>NaN</td>\n",
       "      <td>NaN</td>\n",
       "    </tr>\n",
       "    <tr>\n",
       "      <th>27</th>\n",
       "      <td>8</td>\n",
       "      <td>스위스</td>\n",
       "      <td>7.240</td>\n",
       "      <td>NaN</td>\n",
       "      <td>NaN</td>\n",
       "    </tr>\n",
       "    <tr>\n",
       "      <th>73</th>\n",
       "      <td>18</td>\n",
       "      <td>체코</td>\n",
       "      <td>6.845</td>\n",
       "      <td>NaN</td>\n",
       "      <td>NaN</td>\n",
       "    </tr>\n",
       "    <tr>\n",
       "      <th>94</th>\n",
       "      <td>23</td>\n",
       "      <td>코스타리카</td>\n",
       "      <td>6.609</td>\n",
       "      <td>NaN</td>\n",
       "      <td>NaN</td>\n",
       "    </tr>\n",
       "    <tr>\n",
       "      <th>...</th>\n",
       "      <td>...</td>\n",
       "      <td>...</td>\n",
       "      <td>...</td>\n",
       "      <td>...</td>\n",
       "      <td>...</td>\n",
       "    </tr>\n",
       "    <tr>\n",
       "      <th>264</th>\n",
       "      <td>133</td>\n",
       "      <td>콩고 민주공화국</td>\n",
       "      <td>3.207</td>\n",
       "      <td>NaN</td>\n",
       "      <td>NaN</td>\n",
       "    </tr>\n",
       "    <tr>\n",
       "      <th>265</th>\n",
       "      <td>134</td>\n",
       "      <td>짐바브웨</td>\n",
       "      <td>3.204</td>\n",
       "      <td>NaN</td>\n",
       "      <td>NaN</td>\n",
       "    </tr>\n",
       "    <tr>\n",
       "      <th>266</th>\n",
       "      <td>135</td>\n",
       "      <td>시에라리온</td>\n",
       "      <td>3.138</td>\n",
       "      <td>NaN</td>\n",
       "      <td>NaN</td>\n",
       "    </tr>\n",
       "    <tr>\n",
       "      <th>267</th>\n",
       "      <td>136</td>\n",
       "      <td>레바논</td>\n",
       "      <td>2.392</td>\n",
       "      <td>NaN</td>\n",
       "      <td>NaN</td>\n",
       "    </tr>\n",
       "    <tr>\n",
       "      <th>268</th>\n",
       "      <td>137</td>\n",
       "      <td>아프가니스탄</td>\n",
       "      <td>1.859</td>\n",
       "      <td>NaN</td>\n",
       "      <td>NaN</td>\n",
       "    </tr>\n",
       "  </tbody>\n",
       "</table>\n",
       "<p>104 rows × 5 columns</p>\n",
       "</div>"
      ],
      "text/plain": [
       "      순위        국가   행복지수   분류  분(min)\n",
       "10     3     아이슬란드  7.530  NaN     NaN\n",
       "11     4      이스라엘  7.473  NaN     NaN\n",
       "27     8       스위스  7.240  NaN     NaN\n",
       "73    18        체코  6.845  NaN     NaN\n",
       "94    23     코스타리카  6.609  NaN     NaN\n",
       "..   ...       ...    ...  ...     ...\n",
       "264  133  콩고 민주공화국  3.207  NaN     NaN\n",
       "265  134      짐바브웨  3.204  NaN     NaN\n",
       "266  135     시에라리온  3.138  NaN     NaN\n",
       "267  136       레바논  2.392  NaN     NaN\n",
       "268  137    아프가니스탄  1.859  NaN     NaN\n",
       "\n",
       "[104 rows x 5 columns]"
      ]
     },
     "execution_count": 55,
     "metadata": {},
     "output_type": "execute_result"
    }
   ],
   "source": [
    "# mrg_hp_use2[mrg_hp_use2[\"분류\"].isnull()]"
   ]
  },
  {
   "cell_type": "code",
   "execution_count": 57,
   "id": "619e9da0",
   "metadata": {},
   "outputs": [],
   "source": [
    "csv_to_excel(mrg_hp_use2, \"전처리_행복지수+여가시간2.xlsx\")"
   ]
  },
  {
   "attachments": {},
   "cell_type": "markdown",
   "id": "5b7606c7",
   "metadata": {},
   "source": [
    "## <font color=#FFE0C6> 행복수준 </font>"
   ]
  },
  {
   "cell_type": "code",
   "execution_count": null,
   "id": "d51cdcda",
   "metadata": {},
   "outputs": [],
   "source": [
    "lev_happiness = pd.read_csv(\"G:/내 드라이브/취미/행복수준_20230510094831.csv\", encoding=\"cp949\")"
   ]
  },
  {
   "cell_type": "code",
   "execution_count": null,
   "id": "2aec7811",
   "metadata": {},
   "outputs": [],
   "source": [
    "lev_happiness = leisure_pretreat(lev_happiness, turnOnAvg=1)\n",
    "lev_happiness.tail()"
   ]
  },
  {
   "cell_type": "code",
   "execution_count": null,
   "id": "253a5121",
   "metadata": {},
   "outputs": [],
   "source": [
    "csv_to_excel(lev_happiness, \"전처리_카테고리별 행복 수준.xlsx\")"
   ]
  },
  {
   "attachments": {},
   "cell_type": "markdown",
   "id": "24b57c54",
   "metadata": {},
   "source": [
    "\n",
    "## <font color=\"#FF5675\"> 일과 여가 생활 균형 </font>"
   ]
  },
  {
   "cell_type": "code",
   "execution_count": null,
   "id": "6bf5b005",
   "metadata": {},
   "outputs": [],
   "source": [
    "leisure_bal = pd.read_csv(\"G:/내 드라이브/취미/일과_여가생활_간_균형_20230510094439.csv\", encoding='cp949')"
   ]
  },
  {
   "cell_type": "code",
   "execution_count": null,
   "id": "5f51acb0",
   "metadata": {},
   "outputs": [],
   "source": [
    "leisure_bal = leisure_pretreat(leisure_bal)\n",
    "leisure_bal.tail()"
   ]
  },
  {
   "cell_type": "code",
   "execution_count": null,
   "id": "e89b8a2c",
   "metadata": {},
   "outputs": [],
   "source": [
    "csv_to_excel(leisure_bal, \"전처리_일과 여가생활 균형.xlsx\")"
   ]
  },
  {
   "attachments": {},
   "cell_type": "markdown",
   "id": "dde8c0de",
   "metadata": {},
   "source": [
    "## <font color=\"#FFD73C\"> 평일 여가 활동_관광 활동 </font>"
   ]
  },
  {
   "cell_type": "code",
   "execution_count": null,
   "id": "ac024deb",
   "metadata": {},
   "outputs": [],
   "source": [
    "trip = pd.read_csv(\"G:/내 드라이브/취미/평일에_참여한_여가활동_만족도_관광활동_20230510095154.csv\", encoding=\"cp949\")\n",
    "# trip.info()\n",
    "# trip.head()"
   ]
  },
  {
   "cell_type": "code",
   "execution_count": null,
   "id": "1c5f332f",
   "metadata": {},
   "outputs": [],
   "source": [
    "trip = leisure_pretreat(trip, input_cat=\"관광\")\n",
    "trip.tail()"
   ]
  },
  {
   "attachments": {},
   "cell_type": "markdown",
   "id": "596ca685",
   "metadata": {},
   "source": [
    "## <font color=\"#FFD73C\"> 평일 여가 활동_문화예술 관람 활동 </font>"
   ]
  },
  {
   "cell_type": "code",
   "execution_count": null,
   "id": "06d86288",
   "metadata": {},
   "outputs": [],
   "source": [
    "artCult = pd.read_csv(\"G:/내 드라이브/취미/평일에_참여한_여가활동_만족도_문화예술_관람활동_20230519170721.csv\", encoding=\"cp949\")\n",
    "artCult.head()"
   ]
  },
  {
   "cell_type": "code",
   "execution_count": null,
   "id": "eed6903b",
   "metadata": {},
   "outputs": [],
   "source": [
    "artCult = leisure_pretreat(artCult, input_cat=\"문화 예술 관람\")\n",
    "artCult.head()"
   ]
  },
  {
   "attachments": {},
   "cell_type": "markdown",
   "id": "72dbf783",
   "metadata": {},
   "source": [
    "## <font color=\"#FFD73C\"> 평일 여가 활동_사회 및 기타 </font>"
   ]
  },
  {
   "cell_type": "code",
   "execution_count": null,
   "id": "f92ec5bd",
   "metadata": {},
   "outputs": [],
   "source": [
    "sc_etc = pd.read_csv(\"G:/내 드라이브/취미/평일에_참여한_여가활동_만족도_사회_및_기타활동_20230510093021.csv\", encoding=\"cp949\")"
   ]
  },
  {
   "cell_type": "code",
   "execution_count": null,
   "id": "3d6fb750",
   "metadata": {},
   "outputs": [],
   "source": [
    "sc_etc = leisure_pretreat(sc_etc, input_cat=\"사회 및 기타\")\n",
    "sc_etc.tail()"
   ]
  },
  {
   "attachments": {},
   "cell_type": "markdown",
   "id": "f920551d",
   "metadata": {},
   "source": [
    "## <font color=\"#FFD73C\"> 평일 여가 활동_스포츠 참여 활동 </font>"
   ]
  },
  {
   "cell_type": "code",
   "execution_count": null,
   "id": "7eed1424",
   "metadata": {},
   "outputs": [],
   "source": [
    "doSports = pd.read_csv(\"G:/내 드라이브/취미/평일에_참여한_여가활동_만족도_스포츠_참여활동_20230510095111.csv\", encoding=\"cp949\")"
   ]
  },
  {
   "cell_type": "code",
   "execution_count": null,
   "id": "c67ac69b",
   "metadata": {},
   "outputs": [],
   "source": [
    "doSports = leisure_pretreat(doSports, input_cat=\"스포츠 참여\")\n",
    "doSports.tail()"
   ]
  },
  {
   "attachments": {},
   "cell_type": "markdown",
   "id": "136e3752",
   "metadata": {},
   "source": [
    "## <font color=\"#FFD73C\"> 평일 여가 활동_스포츠 관람 활동 </font>"
   ]
  },
  {
   "cell_type": "code",
   "execution_count": null,
   "id": "c6bf20bb",
   "metadata": {},
   "outputs": [],
   "source": [
    "wacthSports = pd.read_csv(\"G:/내 드라이브/취미/평일에_참여한_여가활동_만족도_스포츠_관람활동_20230519170812.csv\", encoding=\"cp949\")"
   ]
  },
  {
   "cell_type": "code",
   "execution_count": null,
   "id": "41c2d382",
   "metadata": {},
   "outputs": [],
   "source": [
    "wacthSports = leisure_pretreat(wacthSports, input_cat=\"스포츠 관람\")\n",
    "wacthSports.head()"
   ]
  },
  {
   "attachments": {},
   "cell_type": "markdown",
   "id": "3756b8ca",
   "metadata": {},
   "source": [
    "## <font color=\"#FFD73C\"> 평일 여가 활동_취미 오락 활동 </font>"
   ]
  },
  {
   "cell_type": "code",
   "execution_count": null,
   "id": "4a234d08",
   "metadata": {},
   "outputs": [],
   "source": [
    "games = pd.read_csv(\"G:/내 드라이브/취미/평일에_참여한_여가활동_만족도_취미・오락활동_20230510092915.csv\", encoding=\"cp949\")"
   ]
  },
  {
   "cell_type": "code",
   "execution_count": null,
   "id": "3cec5bd1",
   "metadata": {},
   "outputs": [],
   "source": [
    "games = leisure_pretreat(games, input_cat=\"취미 오락\")\n",
    "games.tail()"
   ]
  },
  {
   "attachments": {},
   "cell_type": "markdown",
   "id": "ea68b54b",
   "metadata": {},
   "source": [
    "## <font color=\"#FFD73C\"> 평일 여가 활동_휴식 활동 </font>"
   ]
  },
  {
   "cell_type": "code",
   "execution_count": null,
   "id": "db065262",
   "metadata": {},
   "outputs": [],
   "source": [
    "takeArest = pd.read_csv(\"G:/내 드라이브/취미/평일에_참여한_여가활동_만족도_휴식활동_20230510092941.csv\", encoding=\"cp949\")"
   ]
  },
  {
   "cell_type": "code",
   "execution_count": null,
   "id": "55e4a048",
   "metadata": {},
   "outputs": [],
   "source": [
    "takeArest = leisure_pretreat(takeArest, input_cat=\"휴식\")\n",
    "takeArest.tail()"
   ]
  },
  {
   "attachments": {},
   "cell_type": "markdown",
   "id": "f73c5f7f",
   "metadata": {},
   "source": [
    "## 평일 여가 활동 합치기"
   ]
  },
  {
   "cell_type": "code",
   "execution_count": null,
   "id": "2e7d967e",
   "metadata": {},
   "outputs": [],
   "source": [
    "allLeisure = pd.concat([trip, artCult, sc_etc, doSports, wacthSports, games, takeArest], axis=0)\n",
    "allLeisure.reset_index(drop=True, inplace=True)\n",
    "print(\"전체 행 길이 :\", len(allLeisure[:]))\n",
    "allLeisure.head()"
   ]
  },
  {
   "cell_type": "code",
   "execution_count": null,
   "id": "d2a646a9",
   "metadata": {},
   "outputs": [],
   "source": [
    "allLeisure = allLeisure.melt(id_vars=['연도별', '여가종류', \"조사대상\", \"세부조사대상\"], \\\n",
    "                             value_vars=[\"매우불만족한다\", \"불만족한다\", \"다소불만족한다\", \"보통이다\", \"다소만족한다\", \"만족한다\", \"매우만족한다\"], \\\n",
    "                            var_name='평가항목', value_name='응답인원')\n",
    "print(\"전체 행 길이 :\", len(allLeisure[:]))\n",
    "allLeisure.head()"
   ]
  },
  {
   "cell_type": "code",
   "execution_count": null,
   "id": "8a29cdae",
   "metadata": {},
   "outputs": [],
   "source": [
    "csv_to_excel(allLeisure, \"전처리_평일 여가 활동.xlsx\")"
   ]
  },
  {
   "attachments": {},
   "cell_type": "markdown",
   "id": "e0ae63ad",
   "metadata": {},
   "source": [
    "## <font color=\"#C1FF6B\t\"> 지난 1년 동안 지속적 반복적 참여 </font>"
   ]
  },
  {
   "cell_type": "code",
   "execution_count": null,
   "id": "a3258698",
   "metadata": {},
   "outputs": [],
   "source": [
    "rep_per_year = pd.read_csv(\"G:/내 드라이브/취미/_지난_1년_동안__지속적_반복적_참여_여가활동_여부_20230510095327.csv\", encoding=\"cp949\")"
   ]
  },
  {
   "cell_type": "code",
   "execution_count": null,
   "id": "8093a2e4",
   "metadata": {},
   "outputs": [],
   "source": [
    "rep_per_year = leisure_pretreat(rep_per_year)"
   ]
  },
  {
   "cell_type": "code",
   "execution_count": null,
   "id": "625a3cd1",
   "metadata": {},
   "outputs": [],
   "source": [
    "csv_to_excel(rep_per_year, \"전처리_1년간 지속반복 참여.xlsx\")"
   ]
  },
  {
   "attachments": {},
   "cell_type": "markdown",
   "id": "0e060ce2",
   "metadata": {},
   "source": [
    "## <font color=\"#00D7FF\t\"> 보다 나은 여가 생활 </font>"
   ]
  },
  {
   "cell_type": "code",
   "execution_count": null,
   "id": "03eba464",
   "metadata": {},
   "outputs": [],
   "source": [
    "btr_leisure = pd.read_csv(\"G:/내 드라이브/취미/정책만족도_보다_나은_여가생활을_위해_관련_법규와_제도를_개선_20230510094233.csv\", encoding=\"cp949\")"
   ]
  },
  {
   "cell_type": "code",
   "execution_count": null,
   "id": "87a5debe",
   "metadata": {},
   "outputs": [],
   "source": [
    "btr_leisure = leisure_pretreat(btr_leisure, turnOnAvg=1)"
   ]
  },
  {
   "cell_type": "code",
   "execution_count": null,
   "id": "5cb9c74f",
   "metadata": {},
   "outputs": [],
   "source": [
    "csv_to_excel(btr_leisure, \"전처리_정책 개선 후 여가 생활 만족도.xlsx\")"
   ]
  },
  {
   "attachments": {},
   "cell_type": "markdown",
   "id": "0c11f2dd",
   "metadata": {},
   "source": [
    "## <font color=\"#90AFFF\"> 근로시간 단축 이후 </font>"
   ]
  },
  {
   "cell_type": "code",
   "execution_count": null,
   "id": "9c7060e1",
   "metadata": {},
   "outputs": [],
   "source": [
    "cut_worktime = pd.read_csv(\"G:/내 드라이브/취미/근로시간_단축_이후_여가만족도_20230510094931.csv\", encoding=\"cp949\")"
   ]
  },
  {
   "cell_type": "code",
   "execution_count": null,
   "id": "d0c28f80",
   "metadata": {},
   "outputs": [],
   "source": [
    "cut_worktime = leisure_pretreat(cut_worktime, turnOnAvg=1, choice_yr=2019)"
   ]
  },
  {
   "cell_type": "code",
   "execution_count": null,
   "id": "16aac3ab",
   "metadata": {},
   "outputs": [],
   "source": [
    "csv_to_excel(cut_worktime, \"전처리_근로시간 단축 후 여가만족도.xlsx\")"
   ]
  },
  {
   "attachments": {},
   "cell_type": "markdown",
   "id": "6bca664c",
   "metadata": {},
   "source": [
    "## <font color=\"#68269A\"> 여가 생활 불만족 </font>"
   ]
  },
  {
   "cell_type": "code",
   "execution_count": null,
   "id": "b76e0f1a",
   "metadata": {},
   "outputs": [],
   "source": [
    "unsat_leis = pd.read_csv(\"G:/내 드라이브/취미/여가생활에_만족하지_못하는_이유_20230525113739.csv\", encoding=\"cp949\")"
   ]
  },
  {
   "cell_type": "code",
   "execution_count": null,
   "id": "c7b4e66b",
   "metadata": {},
   "outputs": [],
   "source": [
    "unsat_leis = leisure_pretreat(unsat_leis)"
   ]
  },
  {
   "cell_type": "code",
   "execution_count": null,
   "id": "27147264",
   "metadata": {},
   "outputs": [],
   "source": [
    "csv_to_excel(unsat_leis, \"전처리_여가 생활 만족 못 하는 이유.xlsx\")"
   ]
  },
  {
   "attachments": {},
   "cell_type": "markdown",
   "id": "27379d12",
   "metadata": {},
   "source": [
    "## <font color=\"#82B3ED\"> OECD 평균 근로시간 </font>"
   ]
  },
  {
   "cell_type": "code",
   "execution_count": null,
   "id": "2f7d03ed",
   "metadata": {},
   "outputs": [],
   "source": [
    "avg_workt_oecd = pd.read_csv(\"G:/내 드라이브/취미/ANHRS_25052023055022396.csv\", sep=\"\\t\", encoding=\"cp949\")"
   ]
  },
  {
   "cell_type": "code",
   "execution_count": null,
   "id": "49d52870",
   "metadata": {},
   "outputs": [],
   "source": [
    "avg_workt_oecd.rename({\"Value\":\"hours\"}, axis=1, inplace=True)"
   ]
  },
  {
   "cell_type": "code",
   "execution_count": null,
   "id": "ef375097",
   "metadata": {},
   "outputs": [],
   "source": [
    "avg_workt_oecd = avg_workt_oecd[avg_workt_oecd[\"Employment status\"] == \"Total employment\"]"
   ]
  },
  {
   "cell_type": "code",
   "execution_count": null,
   "id": "a98fc5fa",
   "metadata": {},
   "outputs": [],
   "source": [
    "avg_workt_oecd.reset_index(drop=True, inplace=True)\n",
    "avg_workt_oecd.columns = [\"국가\", \"전체 고용\", \"연도\", \"시간(hr)\"]\n",
    "avg_workt_oecd.head()"
   ]
  },
  {
   "cell_type": "code",
   "execution_count": null,
   "id": "fea9252e",
   "metadata": {},
   "outputs": [],
   "source": [
    "avg_workt_oecd.replace(List_country, List_country_korean, inplace=True)\n",
    "avg_workt_oecd[\"국가\"].unique()"
   ]
  },
  {
   "cell_type": "code",
   "execution_count": null,
   "id": "62578a16",
   "metadata": {},
   "outputs": [],
   "source": [
    "avg_workt_oecd = avg_workt_oecd[avg_workt_oecd[\"국가\"]!='OECD countries']\n",
    "avg_workt_oecd['국가'].unique()"
   ]
  },
  {
   "cell_type": "code",
   "execution_count": null,
   "id": "20b156da",
   "metadata": {},
   "outputs": [],
   "source": [
    "List_country2 = ['Czech Republic', 'Iceland', 'Slovak Republic', 'Switzerland', 'Israel', 'Chile', 'Costa Rica', 'Colombia']\n",
    "List_country_korean2 = ['체코', '아이슬란드', '슬로바키아', '스위스', '이스라엘', '칠레', '코스타리카', '콜롬비아']"
   ]
  },
  {
   "cell_type": "code",
   "execution_count": null,
   "id": "0d187b0e",
   "metadata": {},
   "outputs": [],
   "source": [
    "avg_workt_oecd.replace(List_country2, List_country_korean2, inplace=True)\n",
    "avg_workt_oecd[\"국가\"].unique()"
   ]
  },
  {
   "cell_type": "code",
   "execution_count": null,
   "id": "31b198f0",
   "metadata": {},
   "outputs": [],
   "source": [
    "csv_to_excel(avg_workt_oecd, \"전처리_OECD 평균 근로시간.xlsx\")"
   ]
  },
  {
   "attachments": {},
   "cell_type": "markdown",
   "id": "cf2b3e0f",
   "metadata": {},
   "source": [
    "# 일과 여가 생활 균형_연습버전"
   ]
  },
  {
   "cell_type": "code",
   "execution_count": null,
   "id": "4b207f69",
   "metadata": {},
   "outputs": [],
   "source": [
    "leisure = pd.read_csv(\"G:/내 드라이브/취미/일과_여가생활_간_균형_20230510094439.csv\", encoding='cp949')\n",
    "# leisure.info()\n",
    "# leisure.head(10)"
   ]
  },
  {
   "cell_type": "code",
   "execution_count": null,
   "id": "5dc618ed",
   "metadata": {},
   "outputs": [],
   "source": [
    "leisure_T = leisure.T   # 행열 전환\n",
    "# leisure_T.head(5)"
   ]
  },
  {
   "cell_type": "code",
   "execution_count": null,
   "id": "d3b5bc2f",
   "metadata": {},
   "outputs": [],
   "source": [
    "leisure_T.replace(\"-\",0,inplace=True)"
   ]
  },
  {
   "cell_type": "code",
   "execution_count": null,
   "id": "aa4f58f8",
   "metadata": {},
   "outputs": [],
   "source": [
    "leis_uq = leisure.iloc[:,0].unique()\n",
    "leis_uq = leis_uq.tolist()   # ndarray -> list\n",
    "leis_uq = [re.sub(r\"\\(+.\\)\",\"\",uq.replace(\" \",\"_\")) for uq in leis_uq]  # 괄호와 괄호 안 글자, 공백 제거\n",
    "print(leis_uq)"
   ]
  },
  {
   "cell_type": "code",
   "execution_count": null,
   "id": "2d6f16f9",
   "metadata": {
    "scrolled": true
   },
   "outputs": [],
   "source": [
    "leisure_T.columns = leisure_T.iloc[0,:]\n",
    "# leisure_T.info()"
   ]
  },
  {
   "cell_type": "code",
   "execution_count": null,
   "id": "e786e0a5",
   "metadata": {},
   "outputs": [],
   "source": [
    "columns_nospace = [re.sub(r\"\\(+.\\)\", \"\", col.replace(\" \",\"_\")) for col in leisure_T.columns]"
   ]
  },
  {
   "cell_type": "code",
   "execution_count": null,
   "id": "1f46427d",
   "metadata": {},
   "outputs": [],
   "source": [
    "leisure_T.columns = columns_nospace\n",
    "print(leisure_T.columns)"
   ]
  },
  {
   "cell_type": "code",
   "execution_count": null,
   "id": "58c99f3e",
   "metadata": {},
   "outputs": [],
   "source": [
    "# 통계 분류별로 데이터 프레임 분류\n",
    "\n",
    "for cat in leis_uq : \n",
    "    globals()[\"leisure_{}\".format(cat)] = leisure_T[cat]\n",
    "    \n",
    "    if type(globals()[\"leisure_{}\".format(cat)]) == pd.core.series.Series :   # type이 시리즈라면\n",
    "        globals()[\"leisure_{}\".format(cat)] = pd.DataFrame(globals()[\"leisure_{}\".format(cat)])   # 시리즈를 데이터프레임으로 변경\n",
    "        \n",
    "    globals()[\"leisure_{}\".format(cat)].columns = globals()[\"leisure_{}\".format(cat)].iloc[1,:]\n",
    "    globals()[\"leisure_{}\".format(cat)] = globals()[\"leisure_{}\".format(cat)].iloc[2:,:]\n",
    "    globals()[\"leisure_{}\".format(cat)].iloc[:,1:] = globals()[\"leisure_{}\".format(cat)].iloc[:,1:].astype(float)"
   ]
  },
  {
   "cell_type": "code",
   "execution_count": null,
   "id": "ebff879b",
   "metadata": {},
   "outputs": [],
   "source": [
    "leis_uq2 = leis_uq[1:]\n",
    "print(leis_uq2)"
   ]
  },
  {
   "cell_type": "code",
   "execution_count": null,
   "id": "f8d40c29",
   "metadata": {},
   "outputs": [],
   "source": [
    "for uq2 in leis_uq2 : \n",
    "    globals()[\"leis_{0}_{1}\".format(uq2, \"합본\")] = pd.concat([leisure_통계분류, globals()[\"leisure_{}\".format(uq2)]],axis=1)"
   ]
  },
  {
   "cell_type": "code",
   "execution_count": null,
   "id": "6a9456f2",
   "metadata": {},
   "outputs": [],
   "source": [
    "for uniq in leis_uq2 : \n",
    "    idx_List = globals()[\"leis_{0}_{1}\".format(uniq, \"합본\")].index.to_list()   # 분리된 데이터프레임 인덱스 리스트로 반환\n",
    "    \n",
    "    for yr in year_List : \n",
    "        sep_year = []    # 정규표현식에 만족하는 인덱스를 저장할 리스트\n",
    "        \n",
    "        for idx in idx_List :\n",
    "            find_yr = re.findall(str(yr)+\"[.0-9]*\",idx)     # 연도 + '.' or 숫자 1개 이상 포함돼 있는 인덱스 저장 \n",
    "\n",
    "            if find_yr:      # 빈 리스트가 아니라면 (findall은 조건에 안 맞으면 빈 리스트 반환)\n",
    "                sep_year.append(find_yr[0])\n",
    "\n",
    "        Last_idx = len(sep_year)\n",
    "        globals()[\"leis_{0}_{1}\".format(uniq, str(yr))] = globals()[\"leis_{0}_{1}\".format(uniq, \"합본\")][:][sep_year[0]:sep_year[Last_idx-1]]    # 행 인덱스로 슬라이싱, 행 인덱스로 슬라이싱할 때 콜론 뒤 값을 포함해서 슬라이싱한다.\n",
    "        pattern = str(yr) + r'[.0-9]*'\n",
    "        new_index = globals()[\"leis_{0}_{1}\".format(uniq, str(yr))].index.map(lambda x: re.sub(pattern, str(yr), x))   # map 함수를 이용해 인덱스마다 정규 표현식 sub를 적용\n",
    "        globals()[\"leis_{0}_{1}\".format(uniq, str(yr))].index = new_index\n",
    "        globals()[\"leis_{0}_{1}\".format(uniq, str(yr))].index = globals()[\"leis_{0}_{1}\".format(uniq, str(yr))].index.astype(int)   # 인덱스를 int 타입으로\n",
    "        globals()[\"leis_{0}_{1}\".format(uniq, str(yr))].rename(columns={\"통계분류(2)\" : \"분류\"}, inplace=True)   # 컬럼명 변경\n",
    "        globals()[\"leis_{0}_{1}\".format(uniq, str(yr))] = globals()[\"leis_{0}_{1}\".format(uniq, str(yr))].reset_index()   # reset_index\n",
    "        globals()[\"leis_{0}_{1}\".format(uniq, str(yr))].rename(columns={\"index\" : \"연도\"}, inplace=True)    # 인덱스가 컬럼으로 바뀌고, 그 컬럼명을 변경\n",
    "        globals()[\"leis_{0}_{1}\".format(uniq, str(yr))] = globals()[\"leis_{0}_{1}\".format(uniq, str(yr))].set_index([\"연도\",\"분류\"])   # 멀티 인덱스 설정\n",
    "\n",
    "\n",
    "# 전체 -> 리스트 중에서 2016년이면 리스트에 저장 -> 리스트에 저장된 첫번째와 마지막 인덱스로 슬라이싱 -> 새로운 데이터 프레임 생성"
   ]
  },
  {
   "cell_type": "code",
   "execution_count": null,
   "id": "cdcbf68a",
   "metadata": {},
   "outputs": [],
   "source": [
    "leis_17개_시도별_2016_T = leis_17개_시도별_2016.T\n",
    "leis_17개_시도별_2016_T.head(10)"
   ]
  },
  {
   "cell_type": "code",
   "execution_count": null,
   "id": "da370d4e",
   "metadata": {},
   "outputs": [],
   "source": [
    "df = leis_17개_시도별_2016_T.stack(level=0)\n",
    "pd.DataFrame(df)\n"
   ]
  },
  {
   "cell_type": "code",
   "execution_count": null,
   "id": "f03fbe10",
   "metadata": {},
   "outputs": [],
   "source": [
    "pd.concat([leis_17개_시도별_2016, leis_가구소득별_2016],axis=1)"
   ]
  },
  {
   "attachments": {},
   "cell_type": "markdown",
   "id": "cac6411b",
   "metadata": {},
   "source": [
    "## PDF 불러오기"
   ]
  },
  {
   "cell_type": "code",
   "execution_count": null,
   "id": "3c2569e5",
   "metadata": {},
   "outputs": [],
   "source": [
    "import fitz\n",
    "path1 = \"G:/내 드라이브/취미/세계행복보고서_2023.pdf\""
   ]
  },
  {
   "cell_type": "code",
   "execution_count": null,
   "id": "11e3817f",
   "metadata": {},
   "outputs": [],
   "source": [
    "doc = fitz.open(path1)\n",
    "\n",
    "pages = list(range(36,39))\n",
    "\n",
    "count = 0\n",
    "\n",
    "for page in doc : \n",
    "    \n",
    "    count += 1\n",
    "\n",
    "    if count in pages : \n",
    "        globals()['text_wrd_hap'+str(count)] = page.get_text()\n",
    "        globals()['text_wrd_hap'+str(count)] = globals()['text_wrd_hap'+str(count)].split(\"\\n\")\n",
    "\n",
    "doc.close()"
   ]
  },
  {
   "cell_type": "code",
   "execution_count": null,
   "id": "5300c497",
   "metadata": {},
   "outputs": [],
   "source": [
    "for pg in pages : \n",
    "    length = len(globals()['text_wrd_hap'+str(pg)])\n",
    "    print(\"리스트의 길이 :\", length)\n",
    "    print(\"-*-*-*-*-*-*-*-*-*-*-*-*-*-\")\n",
    "    print(\"리스트 앞에 4개의 원소 :\", globals()['text_wrd_hap'+str(pg)][:10])\n",
    "    print(\"-*-*-*-*-*-*-*-*-*-*-*-*-*-\")\n",
    "    print(\"끝에서 3개의 원소 :\", globals()['text_wrd_hap'+str(pg)][-10:])\n",
    "    print(\"\\n\\n\")"
   ]
  }
 ],
 "metadata": {
  "kernelspec": {
   "display_name": "Python 3 (ipykernel)",
   "language": "python",
   "name": "python3"
  },
  "language_info": {
   "codemirror_mode": {
    "name": "ipython",
    "version": 3
   },
   "file_extension": ".py",
   "mimetype": "text/x-python",
   "name": "python",
   "nbconvert_exporter": "python",
   "pygments_lexer": "ipython3",
   "version": "3.10.9"
  }
 },
 "nbformat": 4,
 "nbformat_minor": 5
}
