{
 "cells": [
  {
   "cell_type": "code",
   "execution_count": 49,
   "id": "facb3891",
   "metadata": {},
   "outputs": [],
   "source": [
    "import pandas as pd\n",
    "import numpy as np\n",
    "import re\n",
    "import warnings\n",
    "\n",
    "warnings.filterwarnings(\"ignore\")\n",
    "\n",
    "year_List = list(range(2016,2022))\n",
    "year_List = [value for value in year_List if value != 2017]   # 2017년도 빼기\n",
    "\n",
    "category = [\"연령별\", \"가구소득별\"]"
   ]
  },
  {
   "attachments": {},
   "cell_type": "markdown",
   "id": "e3baed34",
   "metadata": {},
   "source": [
    "# 여가 관련 자료"
   ]
  },
  {
   "attachments": {},
   "cell_type": "markdown",
   "id": "cf2b3e0f",
   "metadata": {},
   "source": [
    "## 일과 여가 생활 균형"
   ]
  },
  {
   "cell_type": "code",
   "execution_count": null,
   "id": "4b207f69",
   "metadata": {},
   "outputs": [],
   "source": [
    "leisure = pd.read_csv(\"G:/내 드라이브/취미/일과_여가생활_간_균형_20230510094439.csv\", encoding='cp949')\n",
    "# leisure.info()\n",
    "# leisure.head(10)"
   ]
  },
  {
   "cell_type": "code",
   "execution_count": null,
   "id": "5dc618ed",
   "metadata": {},
   "outputs": [],
   "source": [
    "leisure_T = leisure.T   # 행열 전환\n",
    "# leisure_T.head(5)"
   ]
  },
  {
   "cell_type": "code",
   "execution_count": null,
   "id": "d3b5bc2f",
   "metadata": {},
   "outputs": [],
   "source": [
    "leisure_T.replace(\"-\",0,inplace=True)"
   ]
  },
  {
   "cell_type": "code",
   "execution_count": null,
   "id": "aa4f58f8",
   "metadata": {},
   "outputs": [],
   "source": [
    "leis_uq = leisure.iloc[:,0].unique()\n",
    "leis_uq = leis_uq.tolist()   # ndarray -> list\n",
    "leis_uq = [re.sub(r\"\\(+.\\)\",\"\",uq.replace(\" \",\"_\")) for uq in leis_uq]  # 괄호와 괄호 안 글자, 공백 제거\n",
    "print(leis_uq)"
   ]
  },
  {
   "cell_type": "code",
   "execution_count": null,
   "id": "2d6f16f9",
   "metadata": {
    "scrolled": true
   },
   "outputs": [],
   "source": [
    "leisure_T.columns = leisure_T.iloc[0,:]\n",
    "# leisure_T.info()"
   ]
  },
  {
   "cell_type": "code",
   "execution_count": null,
   "id": "e786e0a5",
   "metadata": {},
   "outputs": [],
   "source": [
    "columns_nospace = [re.sub(r\"\\(+.\\)\", \"\", col.replace(\" \",\"_\")) for col in leisure_T.columns]"
   ]
  },
  {
   "cell_type": "code",
   "execution_count": null,
   "id": "1f46427d",
   "metadata": {},
   "outputs": [],
   "source": [
    "leisure_T.columns = columns_nospace\n",
    "print(leisure_T.columns)"
   ]
  },
  {
   "cell_type": "code",
   "execution_count": null,
   "id": "58c99f3e",
   "metadata": {},
   "outputs": [],
   "source": [
    "# 통계 분류별로 데이터 프레임 분류\n",
    "\n",
    "for cat in leis_uq : \n",
    "    globals()[\"leisure_{}\".format(cat)] = leisure_T[cat]\n",
    "    \n",
    "    if type(globals()[\"leisure_{}\".format(cat)]) == pd.core.series.Series :   # type이 시리즈라면\n",
    "        globals()[\"leisure_{}\".format(cat)] = pd.DataFrame(globals()[\"leisure_{}\".format(cat)])   # 시리즈를 데이터프레임으로 변경\n",
    "        \n",
    "    globals()[\"leisure_{}\".format(cat)].columns = globals()[\"leisure_{}\".format(cat)].iloc[1,:]\n",
    "    globals()[\"leisure_{}\".format(cat)] = globals()[\"leisure_{}\".format(cat)].iloc[2:,:]\n",
    "    globals()[\"leisure_{}\".format(cat)].iloc[:,1:] = globals()[\"leisure_{}\".format(cat)].iloc[:,1:].astype(float)"
   ]
  },
  {
   "cell_type": "code",
   "execution_count": null,
   "id": "ebff879b",
   "metadata": {},
   "outputs": [],
   "source": [
    "leis_uq2 = leis_uq[1:]\n",
    "print(leis_uq2)"
   ]
  },
  {
   "cell_type": "code",
   "execution_count": null,
   "id": "f8d40c29",
   "metadata": {},
   "outputs": [],
   "source": [
    "for uq2 in leis_uq2 : \n",
    "    globals()[\"leis_{0}_{1}\".format(uq2, \"합본\")] = pd.concat([leisure_통계분류, globals()[\"leisure_{}\".format(uq2)]],axis=1)"
   ]
  },
  {
   "cell_type": "code",
   "execution_count": null,
   "id": "6a9456f2",
   "metadata": {},
   "outputs": [],
   "source": [
    "for uniq in leis_uq2 : \n",
    "    idx_List = globals()[\"leis_{0}_{1}\".format(uniq, \"합본\")].index.to_list()   # 분리된 데이터프레임 인덱스 리스트로 반환\n",
    "    \n",
    "    for yr in year_List : \n",
    "        sep_year = []    # 정규표현식에 만족하는 인덱스를 저장할 리스트\n",
    "        \n",
    "        for idx in idx_List :\n",
    "            find_yr = re.findall(str(yr)+\"[.0-9]*\",idx)     # 연도 + '.' or 숫자 1개 이상 포함돼 있는 인덱스 저장 \n",
    "\n",
    "            if find_yr:      # 빈 리스트가 아니라면 (findall은 조건에 안 맞으면 빈 리스트 반환)\n",
    "                sep_year.append(find_yr[0])\n",
    "\n",
    "        Last_idx = len(sep_year)\n",
    "        globals()[\"leis_{0}_{1}\".format(uniq, str(yr))] = globals()[\"leis_{0}_{1}\".format(uniq, \"합본\")][:][sep_year[0]:sep_year[Last_idx-1]]    # 행 인덱스로 슬라이싱, 행 인덱스로 슬라이싱할 때 콜론 뒤 값을 포함해서 슬라이싱한다.\n",
    "        pattern = str(yr) + r'[.0-9]*'\n",
    "        new_index = globals()[\"leis_{0}_{1}\".format(uniq, str(yr))].index.map(lambda x: re.sub(pattern, str(yr), x))   # map 함수를 이용해 인덱스마다 정규 표현식 sub를 적용\n",
    "        globals()[\"leis_{0}_{1}\".format(uniq, str(yr))].index = new_index\n",
    "        globals()[\"leis_{0}_{1}\".format(uniq, str(yr))].index = globals()[\"leis_{0}_{1}\".format(uniq, str(yr))].index.astype(int)   # 인덱스를 int 타입으로\n",
    "        globals()[\"leis_{0}_{1}\".format(uniq, str(yr))].rename(columns={\"통계분류(2)\" : \"분류\"}, inplace=True)   # 컬럼명 변경\n",
    "        globals()[\"leis_{0}_{1}\".format(uniq, str(yr))] = globals()[\"leis_{0}_{1}\".format(uniq, str(yr))].reset_index()   # reset_index\n",
    "        globals()[\"leis_{0}_{1}\".format(uniq, str(yr))].rename(columns={\"index\" : \"연도\"}, inplace=True)    # 인덱스가 컬럼으로 바뀌고, 그 컬럼명을 변경\n",
    "        globals()[\"leis_{0}_{1}\".format(uniq, str(yr))] = globals()[\"leis_{0}_{1}\".format(uniq, str(yr))].set_index([\"연도\",\"분류\"])   # 멀티 인덱스 설정\n",
    "\n",
    "\n",
    "# 전체 -> 리스트 중에서 2016년이면 리스트에 저장 -> 리스트에 저장된 첫번째와 마지막 인덱스로 슬라이싱 -> 새로운 데이터 프레임 생성"
   ]
  },
  {
   "cell_type": "code",
   "execution_count": null,
   "id": "cdcbf68a",
   "metadata": {},
   "outputs": [],
   "source": [
    "leis_17개_시도별_2016_T = leis_17개_시도별_2016.T\n",
    "leis_17개_시도별_2016_T.head(10)"
   ]
  },
  {
   "cell_type": "code",
   "execution_count": null,
   "id": "da370d4e",
   "metadata": {},
   "outputs": [],
   "source": [
    "df = leis_17개_시도별_2016_T.stack(level=0)\n",
    "pd.DataFrame(df)\n"
   ]
  },
  {
   "cell_type": "code",
   "execution_count": null,
   "id": "f03fbe10",
   "metadata": {},
   "outputs": [],
   "source": [
    "pd.concat([leis_17개_시도별_2016, leis_가구소득별_2016],axis=1)"
   ]
  },
  {
   "attachments": {},
   "cell_type": "markdown",
   "id": "24b57c54",
   "metadata": {},
   "source": [
    "\n",
    "## 일과 여가 생활 균형 2"
   ]
  },
  {
   "cell_type": "code",
   "execution_count": 63,
   "id": "6bf5b005",
   "metadata": {},
   "outputs": [],
   "source": [
    "leisure2 = pd.read_csv(\"G:/내 드라이브/취미/일과_여가생활_간_균형_20230510094439.csv\", encoding='cp949')"
   ]
  },
  {
   "cell_type": "code",
   "execution_count": 71,
   "id": "fb51470a",
   "metadata": {},
   "outputs": [],
   "source": [
    "leis_sep = leisure2.iloc[:,:2]\n",
    "\n",
    "for yr in year_List : \n",
    "    pattern = str(yr)\n",
    "    globals()[\"leis2_{0}\".format(str(yr))] = leisure2.filter(like=pattern)    # 조건에 만족하는 데이터 프레임 반환\n",
    "    globals()[\"leis2_{0}\".format(str(yr))] = pd.concat([leis_sep, globals()[\"leis2_{0}\".format(str(yr))]], axis=1)     # 왼쪽 오른쪽으로 합치기, 인덱스가 다르면 outer join\n",
    "    globals()[\"leis2_{0}\".format(str(yr))] = globals()[\"leis2_{0}\".format(str(yr))].replace(\"-\",0)\n",
    "    globals()[\"leis2_{0}\".format(str(yr))].columns = globals()[\"leis2_{0}\".format(str(yr))].iloc[0,:].to_list()\n",
    "    globals()[\"leis2_{0}\".format(str(yr))] = globals()[\"leis2_{0}\".format(str(yr))].iloc[1:,:]\n",
    "    globals()[\"leis2_{0}\".format(str(yr))].iloc[:,2:] = globals()[\"leis2_{0}\".format(str(yr))].iloc[:,2:].astype(float)\n",
    "    # globals()[\"leis2_{0}\".format(str(yr))] = globals()[\"leis2_{0}\".format(str(yr))].set_index([\"통계분류(1)\",\"통계분류(2)\"])\n",
    "    globals()[\"leis2_{0}\".format(str(yr))].iloc[:,3:] = globals()[\"leis2_{0}\".format(str(yr))].iloc[:,3:].apply(lambda x : x * leis2_2016.iloc[:,2] / 100)  # 백분율로 표시된 값을 실제 값으로 변환\n",
    "    globals()[\"leis2_{0}\".format(str(yr))] = globals()[\"leis2_{0}\".format(str(yr))].drop(\"표본수\",axis=1)  # 합계 부분 삭제\n",
    "    globals()[\"leis2_{0}\".format(str(yr))].iloc[:,2:] = globals()[\"leis2_{0}\".format(str(yr))].iloc[:,2:].astype(int)\n",
    "    globals()[\"일여가균형_{0}_{1}\".format(str(yr),\"연령별\")] = globals()[\"leis2_{0}\".format(str(yr))][globals()[\"leis2_{0}\".format(str(yr))][\"통계분류(1)\"]==\"연령별\"].iloc[:,1:]\n",
    "    globals()[\"일여가균형_{0}_{1}\".format(str(yr),\"가구소득별\")] = globals()[\"leis2_{0}\".format(str(yr))][globals()[\"leis2_{0}\".format(str(yr))][\"통계분류(1)\"]==\"가구소득별\"].iloc[:,1:]\n"
   ]
  },
  {
   "cell_type": "code",
   "execution_count": 72,
   "id": "db24e505",
   "metadata": {},
   "outputs": [
    {
     "data": {
      "text/html": [
       "<div>\n",
       "<style scoped>\n",
       "    .dataframe tbody tr th:only-of-type {\n",
       "        vertical-align: middle;\n",
       "    }\n",
       "\n",
       "    .dataframe tbody tr th {\n",
       "        vertical-align: top;\n",
       "    }\n",
       "\n",
       "    .dataframe thead th {\n",
       "        text-align: right;\n",
       "    }\n",
       "</style>\n",
       "<table border=\"1\" class=\"dataframe\">\n",
       "  <thead>\n",
       "    <tr style=\"text-align: right;\">\n",
       "      <th></th>\n",
       "      <th>통계분류(2)</th>\n",
       "      <th>일에 더 집중하고있다</th>\n",
       "      <th>일에 조금 더 집중하고 있다</th>\n",
       "      <th>다소 일에 집중하고 있다</th>\n",
       "      <th>균형을 이루고 있다</th>\n",
       "      <th>다소 여가에 더 집중하고있다</th>\n",
       "      <th>여가에 조금 더 집중하고 있다</th>\n",
       "      <th>여가에 더 집중하고 있다</th>\n",
       "    </tr>\n",
       "  </thead>\n",
       "  <tbody>\n",
       "    <tr>\n",
       "      <th>32</th>\n",
       "      <td>100만원 미만</td>\n",
       "      <td>7</td>\n",
       "      <td>36</td>\n",
       "      <td>105</td>\n",
       "      <td>266</td>\n",
       "      <td>248</td>\n",
       "      <td>154</td>\n",
       "      <td>41</td>\n",
       "    </tr>\n",
       "    <tr>\n",
       "      <th>33</th>\n",
       "      <td>100~200만원</td>\n",
       "      <td>16</td>\n",
       "      <td>87</td>\n",
       "      <td>151</td>\n",
       "      <td>379</td>\n",
       "      <td>265</td>\n",
       "      <td>158</td>\n",
       "      <td>17</td>\n",
       "    </tr>\n",
       "    <tr>\n",
       "      <th>34</th>\n",
       "      <td>200~300만원</td>\n",
       "      <td>39</td>\n",
       "      <td>164</td>\n",
       "      <td>306</td>\n",
       "      <td>516</td>\n",
       "      <td>376</td>\n",
       "      <td>180</td>\n",
       "      <td>9</td>\n",
       "    </tr>\n",
       "    <tr>\n",
       "      <th>35</th>\n",
       "      <td>300~400만원</td>\n",
       "      <td>29</td>\n",
       "      <td>221</td>\n",
       "      <td>538</td>\n",
       "      <td>889</td>\n",
       "      <td>477</td>\n",
       "      <td>268</td>\n",
       "      <td>9</td>\n",
       "    </tr>\n",
       "    <tr>\n",
       "      <th>36</th>\n",
       "      <td>400~500만원</td>\n",
       "      <td>31</td>\n",
       "      <td>189</td>\n",
       "      <td>468</td>\n",
       "      <td>809</td>\n",
       "      <td>490</td>\n",
       "      <td>236</td>\n",
       "      <td>6</td>\n",
       "    </tr>\n",
       "    <tr>\n",
       "      <th>37</th>\n",
       "      <td>500~600만원</td>\n",
       "      <td>23</td>\n",
       "      <td>109</td>\n",
       "      <td>303</td>\n",
       "      <td>503</td>\n",
       "      <td>271</td>\n",
       "      <td>141</td>\n",
       "      <td>5</td>\n",
       "    </tr>\n",
       "    <tr>\n",
       "      <th>38</th>\n",
       "      <td>600만원 이상</td>\n",
       "      <td>22</td>\n",
       "      <td>90</td>\n",
       "      <td>226</td>\n",
       "      <td>364</td>\n",
       "      <td>226</td>\n",
       "      <td>111</td>\n",
       "      <td>8</td>\n",
       "    </tr>\n",
       "  </tbody>\n",
       "</table>\n",
       "</div>"
      ],
      "text/plain": [
       "      통계분류(2)  일에 더 집중하고있다  일에 조금 더 집중하고 있다  다소 일에 집중하고 있다  균형을 이루고 있다  \\\n",
       "32   100만원 미만            7               36            105         266   \n",
       "33  100~200만원           16               87            151         379   \n",
       "34  200~300만원           39              164            306         516   \n",
       "35  300~400만원           29              221            538         889   \n",
       "36  400~500만원           31              189            468         809   \n",
       "37  500~600만원           23              109            303         503   \n",
       "38   600만원 이상           22               90            226         364   \n",
       "\n",
       "    다소 여가에 더 집중하고있다  여가에 조금 더 집중하고 있다  여가에 더 집중하고 있다  \n",
       "32              248               154             41  \n",
       "33              265               158             17  \n",
       "34              376               180              9  \n",
       "35              477               268              9  \n",
       "36              490               236              6  \n",
       "37              271               141              5  \n",
       "38              226               111              8  "
      ]
     },
     "execution_count": 72,
     "metadata": {},
     "output_type": "execute_result"
    }
   ],
   "source": [
    "일여가균형_2016_가구소득별\n",
    "# .filter(like=\"연령별\", axis=0)"
   ]
  },
  {
   "cell_type": "code",
   "execution_count": 46,
   "id": "5df7f9d3",
   "metadata": {},
   "outputs": [
    {
     "data": {
      "text/plain": [
       "array(['소계', '남성', '여성', '15~19세', '20대', '30대', '40대', '50대', '60대',\n",
       "       '70세이상', '초졸 이하', '중졸', '고졸', '대졸이상', '1인', '2인', '3인이상', '미혼',\n",
       "       '기혼', '사별/이혼/기타', '가구주', '가구주 아님', '상용근로자', '임시근로자', '일용근로자',\n",
       "       '고용원이 있는 자영업자', '고용원이 없는 자영업자', '무급가족종사자', '기타종사자', '해당없음(무직)',\n",
       "       '임금.봉급 근로자', '100만원 미만', '100~200만원', '200~300만원', '300~400만원',\n",
       "       '400~500만원', '500~600만원', '600만원 이상', '대도시', '중소도시', '읍면지역', '수도권',\n",
       "       '강원/제주권', '충청/세종권', '호남권', '대경권', '동남권', '서울', '부산', '대구', '인천',\n",
       "       '광주', '대전', '울산', '세종', '경기', '강원', '충북', '충남', '전북', '전남', '경북',\n",
       "       '경남', '제주', '장애등록', '미등록', '해당사항없음'], dtype=object)"
      ]
     },
     "execution_count": 46,
     "metadata": {},
     "output_type": "execute_result"
    }
   ],
   "source": [
    "leis2_2016[\"통계분류(2)\"].unique()"
   ]
  },
  {
   "cell_type": "code",
   "execution_count": 48,
   "id": "6f775602",
   "metadata": {},
   "outputs": [
    {
     "data": {
      "text/html": [
       "<div>\n",
       "<style scoped>\n",
       "    .dataframe tbody tr th:only-of-type {\n",
       "        vertical-align: middle;\n",
       "    }\n",
       "\n",
       "    .dataframe tbody tr th {\n",
       "        vertical-align: top;\n",
       "    }\n",
       "\n",
       "    .dataframe thead th {\n",
       "        text-align: right;\n",
       "    }\n",
       "</style>\n",
       "<table border=\"1\" class=\"dataframe\">\n",
       "  <thead>\n",
       "    <tr style=\"text-align: right;\">\n",
       "      <th></th>\n",
       "      <th>통계분류(1)</th>\n",
       "      <th>통계분류(2)</th>\n",
       "      <th>표본수</th>\n",
       "      <th>일에 더 집중하고있다</th>\n",
       "      <th>일에 조금 더 집중하고 있다</th>\n",
       "      <th>다소 일에 집중하고 있다</th>\n",
       "      <th>균형을 이루고 있다</th>\n",
       "      <th>다소 여가에 더 집중하고있다</th>\n",
       "      <th>여가에 조금 더 집중하고 있다</th>\n",
       "      <th>여가에 더 집중하고 있다</th>\n",
       "    </tr>\n",
       "  </thead>\n",
       "  <tbody>\n",
       "    <tr>\n",
       "      <th>32</th>\n",
       "      <td>가구소득별</td>\n",
       "      <td>100만원 미만</td>\n",
       "      <td>861.0</td>\n",
       "      <td>0.9</td>\n",
       "      <td>4.2</td>\n",
       "      <td>12.2</td>\n",
       "      <td>31.0</td>\n",
       "      <td>28.9</td>\n",
       "      <td>18.0</td>\n",
       "      <td>4.8</td>\n",
       "    </tr>\n",
       "    <tr>\n",
       "      <th>33</th>\n",
       "      <td>가구소득별</td>\n",
       "      <td>100~200만원</td>\n",
       "      <td>1075.0</td>\n",
       "      <td>1.5</td>\n",
       "      <td>8.1</td>\n",
       "      <td>14.1</td>\n",
       "      <td>35.3</td>\n",
       "      <td>24.7</td>\n",
       "      <td>14.7</td>\n",
       "      <td>1.6</td>\n",
       "    </tr>\n",
       "    <tr>\n",
       "      <th>34</th>\n",
       "      <td>가구소득별</td>\n",
       "      <td>200~300만원</td>\n",
       "      <td>1594.0</td>\n",
       "      <td>2.5</td>\n",
       "      <td>10.3</td>\n",
       "      <td>19.2</td>\n",
       "      <td>32.4</td>\n",
       "      <td>23.6</td>\n",
       "      <td>11.3</td>\n",
       "      <td>0.6</td>\n",
       "    </tr>\n",
       "    <tr>\n",
       "      <th>35</th>\n",
       "      <td>가구소득별</td>\n",
       "      <td>300~400만원</td>\n",
       "      <td>2437.0</td>\n",
       "      <td>1.2</td>\n",
       "      <td>9.1</td>\n",
       "      <td>22.1</td>\n",
       "      <td>36.5</td>\n",
       "      <td>19.6</td>\n",
       "      <td>11.0</td>\n",
       "      <td>0.4</td>\n",
       "    </tr>\n",
       "    <tr>\n",
       "      <th>36</th>\n",
       "      <td>가구소득별</td>\n",
       "      <td>400~500만원</td>\n",
       "      <td>2231.0</td>\n",
       "      <td>1.4</td>\n",
       "      <td>8.5</td>\n",
       "      <td>21.0</td>\n",
       "      <td>36.3</td>\n",
       "      <td>22.0</td>\n",
       "      <td>10.6</td>\n",
       "      <td>0.3</td>\n",
       "    </tr>\n",
       "    <tr>\n",
       "      <th>37</th>\n",
       "      <td>가구소득별</td>\n",
       "      <td>500~600만원</td>\n",
       "      <td>1356.0</td>\n",
       "      <td>1.7</td>\n",
       "      <td>8.1</td>\n",
       "      <td>22.4</td>\n",
       "      <td>37.1</td>\n",
       "      <td>20.0</td>\n",
       "      <td>10.4</td>\n",
       "      <td>0.4</td>\n",
       "    </tr>\n",
       "    <tr>\n",
       "      <th>38</th>\n",
       "      <td>가구소득별</td>\n",
       "      <td>600만원 이상</td>\n",
       "      <td>1048.0</td>\n",
       "      <td>2.1</td>\n",
       "      <td>8.6</td>\n",
       "      <td>21.6</td>\n",
       "      <td>34.8</td>\n",
       "      <td>21.6</td>\n",
       "      <td>10.6</td>\n",
       "      <td>0.8</td>\n",
       "    </tr>\n",
       "  </tbody>\n",
       "</table>\n",
       "</div>"
      ],
      "text/plain": [
       "   통계분류(1)    통계분류(2)     표본수  일에 더 집중하고있다  일에 조금 더 집중하고 있다  다소 일에 집중하고 있다  \\\n",
       "32   가구소득별   100만원 미만   861.0          0.9              4.2           12.2   \n",
       "33   가구소득별  100~200만원  1075.0          1.5              8.1           14.1   \n",
       "34   가구소득별  200~300만원  1594.0          2.5             10.3           19.2   \n",
       "35   가구소득별  300~400만원  2437.0          1.2              9.1           22.1   \n",
       "36   가구소득별  400~500만원  2231.0          1.4              8.5           21.0   \n",
       "37   가구소득별  500~600만원  1356.0          1.7              8.1           22.4   \n",
       "38   가구소득별   600만원 이상  1048.0          2.1              8.6           21.6   \n",
       "\n",
       "    균형을 이루고 있다  다소 여가에 더 집중하고있다  여가에 조금 더 집중하고 있다  여가에 더 집중하고 있다  \n",
       "32        31.0             28.9              18.0            4.8  \n",
       "33        35.3             24.7              14.7            1.6  \n",
       "34        32.4             23.6              11.3            0.6  \n",
       "35        36.5             19.6              11.0            0.4  \n",
       "36        36.3             22.0              10.6            0.3  \n",
       "37        37.1             20.0              10.4            0.4  \n",
       "38        34.8             21.6              10.6            0.8  "
      ]
     },
     "execution_count": 48,
     "metadata": {},
     "output_type": "execute_result"
    }
   ],
   "source": [
    "leis2_2016[leis2_2016[\"통계분류(1)\"] == \"가구소득별\"]"
   ]
  }
 ],
 "metadata": {
  "kernelspec": {
   "display_name": "Python 3 (ipykernel)",
   "language": "python",
   "name": "python3"
  },
  "language_info": {
   "codemirror_mode": {
    "name": "ipython",
    "version": 3
   },
   "file_extension": ".py",
   "mimetype": "text/x-python",
   "name": "python",
   "nbconvert_exporter": "python",
   "pygments_lexer": "ipython3",
   "version": "3.10.9"
  }
 },
 "nbformat": 4,
 "nbformat_minor": 5
}
