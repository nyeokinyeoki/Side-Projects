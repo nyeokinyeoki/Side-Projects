{
 "cells": [
  {
   "cell_type": "code",
   "execution_count": 96,
   "id": "facb3891",
   "metadata": {},
   "outputs": [],
   "source": [
    "import pandas as pd\n",
    "import numpy as np\n",
    "import re\n",
    "import warnings\n",
    "\n",
    "warnings.filterwarnings(\"ignore\")\n",
    "\n",
    "year_List = list(range(2016,2022))\n",
    "year_List = [value for value in year_List if value != 2017]   # 2017년도 빼기\n",
    "\n",
    "category = [\"연령별\", \"가구소득별\"]"
   ]
  },
  {
   "attachments": {},
   "cell_type": "markdown",
   "id": "e3baed34",
   "metadata": {},
   "source": [
    "# 여가 관련 자료"
   ]
  },
  {
   "attachments": {},
   "cell_type": "markdown",
   "id": "cf2b3e0f",
   "metadata": {},
   "source": [
    "## 일과 여가 생활 균형"
   ]
  },
  {
   "cell_type": "code",
   "execution_count": null,
   "id": "4b207f69",
   "metadata": {},
   "outputs": [],
   "source": [
    "leisure = pd.read_csv(\"G:/내 드라이브/취미/일과_여가생활_간_균형_20230510094439.csv\", encoding='cp949')\n",
    "# leisure.info()\n",
    "# leisure.head(10)"
   ]
  },
  {
   "cell_type": "code",
   "execution_count": null,
   "id": "5dc618ed",
   "metadata": {},
   "outputs": [],
   "source": [
    "leisure_T = leisure.T   # 행열 전환\n",
    "# leisure_T.head(5)"
   ]
  },
  {
   "cell_type": "code",
   "execution_count": null,
   "id": "d3b5bc2f",
   "metadata": {},
   "outputs": [],
   "source": [
    "leisure_T.replace(\"-\",0,inplace=True)"
   ]
  },
  {
   "cell_type": "code",
   "execution_count": null,
   "id": "aa4f58f8",
   "metadata": {},
   "outputs": [],
   "source": [
    "leis_uq = leisure.iloc[:,0].unique()\n",
    "leis_uq = leis_uq.tolist()   # ndarray -> list\n",
    "leis_uq = [re.sub(r\"\\(+.\\)\",\"\",uq.replace(\" \",\"_\")) for uq in leis_uq]  # 괄호와 괄호 안 글자, 공백 제거\n",
    "print(leis_uq)"
   ]
  },
  {
   "cell_type": "code",
   "execution_count": null,
   "id": "2d6f16f9",
   "metadata": {
    "scrolled": true
   },
   "outputs": [],
   "source": [
    "leisure_T.columns = leisure_T.iloc[0,:]\n",
    "# leisure_T.info()"
   ]
  },
  {
   "cell_type": "code",
   "execution_count": null,
   "id": "e786e0a5",
   "metadata": {},
   "outputs": [],
   "source": [
    "columns_nospace = [re.sub(r\"\\(+.\\)\", \"\", col.replace(\" \",\"_\")) for col in leisure_T.columns]"
   ]
  },
  {
   "cell_type": "code",
   "execution_count": null,
   "id": "1f46427d",
   "metadata": {},
   "outputs": [],
   "source": [
    "leisure_T.columns = columns_nospace\n",
    "print(leisure_T.columns)"
   ]
  },
  {
   "cell_type": "code",
   "execution_count": null,
   "id": "58c99f3e",
   "metadata": {},
   "outputs": [],
   "source": [
    "# 통계 분류별로 데이터 프레임 분류\n",
    "\n",
    "for cat in leis_uq : \n",
    "    globals()[\"leisure_{}\".format(cat)] = leisure_T[cat]\n",
    "    \n",
    "    if type(globals()[\"leisure_{}\".format(cat)]) == pd.core.series.Series :   # type이 시리즈라면\n",
    "        globals()[\"leisure_{}\".format(cat)] = pd.DataFrame(globals()[\"leisure_{}\".format(cat)])   # 시리즈를 데이터프레임으로 변경\n",
    "        \n",
    "    globals()[\"leisure_{}\".format(cat)].columns = globals()[\"leisure_{}\".format(cat)].iloc[1,:]\n",
    "    globals()[\"leisure_{}\".format(cat)] = globals()[\"leisure_{}\".format(cat)].iloc[2:,:]\n",
    "    globals()[\"leisure_{}\".format(cat)].iloc[:,1:] = globals()[\"leisure_{}\".format(cat)].iloc[:,1:].astype(float)"
   ]
  },
  {
   "cell_type": "code",
   "execution_count": null,
   "id": "ebff879b",
   "metadata": {},
   "outputs": [],
   "source": [
    "leis_uq2 = leis_uq[1:]\n",
    "print(leis_uq2)"
   ]
  },
  {
   "cell_type": "code",
   "execution_count": null,
   "id": "f8d40c29",
   "metadata": {},
   "outputs": [],
   "source": [
    "for uq2 in leis_uq2 : \n",
    "    globals()[\"leis_{0}_{1}\".format(uq2, \"합본\")] = pd.concat([leisure_통계분류, globals()[\"leisure_{}\".format(uq2)]],axis=1)"
   ]
  },
  {
   "cell_type": "code",
   "execution_count": null,
   "id": "6a9456f2",
   "metadata": {},
   "outputs": [],
   "source": [
    "for uniq in leis_uq2 : \n",
    "    idx_List = globals()[\"leis_{0}_{1}\".format(uniq, \"합본\")].index.to_list()   # 분리된 데이터프레임 인덱스 리스트로 반환\n",
    "    \n",
    "    for yr in year_List : \n",
    "        sep_year = []    # 정규표현식에 만족하는 인덱스를 저장할 리스트\n",
    "        \n",
    "        for idx in idx_List :\n",
    "            find_yr = re.findall(str(yr)+\"[.0-9]*\",idx)     # 연도 + '.' or 숫자 1개 이상 포함돼 있는 인덱스 저장 \n",
    "\n",
    "            if find_yr:      # 빈 리스트가 아니라면 (findall은 조건에 안 맞으면 빈 리스트 반환)\n",
    "                sep_year.append(find_yr[0])\n",
    "\n",
    "        Last_idx = len(sep_year)\n",
    "        globals()[\"leis_{0}_{1}\".format(uniq, str(yr))] = globals()[\"leis_{0}_{1}\".format(uniq, \"합본\")][:][sep_year[0]:sep_year[Last_idx-1]]    # 행 인덱스로 슬라이싱, 행 인덱스로 슬라이싱할 때 콜론 뒤 값을 포함해서 슬라이싱한다.\n",
    "        pattern = str(yr) + r'[.0-9]*'\n",
    "        new_index = globals()[\"leis_{0}_{1}\".format(uniq, str(yr))].index.map(lambda x: re.sub(pattern, str(yr), x))   # map 함수를 이용해 인덱스마다 정규 표현식 sub를 적용\n",
    "        globals()[\"leis_{0}_{1}\".format(uniq, str(yr))].index = new_index\n",
    "        globals()[\"leis_{0}_{1}\".format(uniq, str(yr))].index = globals()[\"leis_{0}_{1}\".format(uniq, str(yr))].index.astype(int)   # 인덱스를 int 타입으로\n",
    "        globals()[\"leis_{0}_{1}\".format(uniq, str(yr))].rename(columns={\"통계분류(2)\" : \"분류\"}, inplace=True)   # 컬럼명 변경\n",
    "        globals()[\"leis_{0}_{1}\".format(uniq, str(yr))] = globals()[\"leis_{0}_{1}\".format(uniq, str(yr))].reset_index()   # reset_index\n",
    "        globals()[\"leis_{0}_{1}\".format(uniq, str(yr))].rename(columns={\"index\" : \"연도\"}, inplace=True)    # 인덱스가 컬럼으로 바뀌고, 그 컬럼명을 변경\n",
    "        globals()[\"leis_{0}_{1}\".format(uniq, str(yr))] = globals()[\"leis_{0}_{1}\".format(uniq, str(yr))].set_index([\"연도\",\"분류\"])   # 멀티 인덱스 설정\n",
    "\n",
    "\n",
    "# 전체 -> 리스트 중에서 2016년이면 리스트에 저장 -> 리스트에 저장된 첫번째와 마지막 인덱스로 슬라이싱 -> 새로운 데이터 프레임 생성"
   ]
  },
  {
   "cell_type": "code",
   "execution_count": null,
   "id": "cdcbf68a",
   "metadata": {},
   "outputs": [],
   "source": [
    "leis_17개_시도별_2016_T = leis_17개_시도별_2016.T\n",
    "leis_17개_시도별_2016_T.head(10)"
   ]
  },
  {
   "cell_type": "code",
   "execution_count": null,
   "id": "da370d4e",
   "metadata": {},
   "outputs": [],
   "source": [
    "df = leis_17개_시도별_2016_T.stack(level=0)\n",
    "pd.DataFrame(df)\n"
   ]
  },
  {
   "cell_type": "code",
   "execution_count": null,
   "id": "f03fbe10",
   "metadata": {},
   "outputs": [],
   "source": [
    "pd.concat([leis_17개_시도별_2016, leis_가구소득별_2016],axis=1)"
   ]
  },
  {
   "attachments": {},
   "cell_type": "markdown",
   "id": "24b57c54",
   "metadata": {},
   "source": [
    "\n",
    "## 일과 여가 생활 균형 2"
   ]
  },
  {
   "cell_type": "code",
   "execution_count": null,
   "id": "6bf5b005",
   "metadata": {},
   "outputs": [],
   "source": [
    "leisure2 = pd.read_csv(\"G:/내 드라이브/취미/일과_여가생활_간_균형_20230510094439.csv\", encoding='cp949')"
   ]
  },
  {
   "cell_type": "code",
   "execution_count": 112,
   "id": "fb51470a",
   "metadata": {},
   "outputs": [],
   "source": [
    "leis_sep = leisure2.iloc[:,:2]\n",
    "\n",
    "conc_list = []\n",
    "\n",
    "for yr in year_List : \n",
    "\n",
    "    pattern = str(yr)\n",
    "    df_name = \"leis2_\"+str(yr)\n",
    "    \n",
    "    globals()[df_name] = leisure2.filter(like=pattern)    # 조건에 만족하는 데이터 프레임 반환\n",
    "    globals()[df_name] = pd.concat([leis_sep, globals()[df_name]], axis=1)     # 왼쪽 오른쪽으로 합치기, 인덱스가 다르면 outer join\n",
    "    globals()[df_name] = globals()[df_name].replace(\"-\",0)\n",
    "    globals()[df_name].columns = globals()[df_name].iloc[0,:].to_list()\n",
    "    globals()[df_name] = globals()[df_name].iloc[1:,:]\n",
    "    globals()[df_name].iloc[:,2:] = globals()[df_name].iloc[:,2:].astype(float)\n",
    "    globals()[df_name].iloc[:,3:] = globals()[df_name].iloc[:,3:].apply(lambda x : x * globals()[df_name].iloc[:,2] / 100)  # 백분율로 표시된 값을 실제 값으로 변환\n",
    "    globals()[df_name] = globals()[df_name].drop(\"표본수\",axis=1)  # 합계 부분 삭제\n",
    "    globals()[df_name].iloc[:,2:] = globals()[df_name].iloc[:,2:].astype(int)\n",
    "\n",
    "    for cat1 in category : \n",
    "        globals()[\"일여가균형_{0}_{1}\".format(str(yr),cat1)] = globals()[\"leis2_{0}\".format(str(yr))][globals()[\"leis2_{0}\".format(str(yr))][\"통계분류(1)\"]==cat1].iloc[:,1:]\n",
    "        globals()[\"일여가균형_{0}_{1}\".format(str(yr),cat1)].insert(0, cat1, yr)\n",
    "        globals()[\"일여가균형_{0}\".format(cat1)] = pd.concat([globals()[\"일여가균형_{0}_{1}\".format(str(yr),cat1)]],axis=0)"
   ]
  },
  {
   "cell_type": "code",
   "execution_count": 113,
   "id": "dc37c800",
   "metadata": {},
   "outputs": [
    {
     "data": {
      "text/html": [
       "<div>\n",
       "<style scoped>\n",
       "    .dataframe tbody tr th:only-of-type {\n",
       "        vertical-align: middle;\n",
       "    }\n",
       "\n",
       "    .dataframe tbody tr th {\n",
       "        vertical-align: top;\n",
       "    }\n",
       "\n",
       "    .dataframe thead th {\n",
       "        text-align: right;\n",
       "    }\n",
       "</style>\n",
       "<table border=\"1\" class=\"dataframe\">\n",
       "  <thead>\n",
       "    <tr style=\"text-align: right;\">\n",
       "      <th></th>\n",
       "      <th>가구소득별</th>\n",
       "      <th>통계분류(2)</th>\n",
       "      <th>일에 더 집중하고있다</th>\n",
       "      <th>일에 조금 더 집중하고 있다</th>\n",
       "      <th>다소 일에 집중하고 있다</th>\n",
       "      <th>균형을 이루고 있다</th>\n",
       "      <th>다소 여가에 더 집중하고있다</th>\n",
       "      <th>여가에 조금 더 집중하고 있다</th>\n",
       "      <th>여가에 더 집중하고 있다</th>\n",
       "    </tr>\n",
       "  </thead>\n",
       "  <tbody>\n",
       "    <tr>\n",
       "      <th>32</th>\n",
       "      <td>2021</td>\n",
       "      <td>100만원 미만</td>\n",
       "      <td>8</td>\n",
       "      <td>44</td>\n",
       "      <td>110</td>\n",
       "      <td>482</td>\n",
       "      <td>155</td>\n",
       "      <td>152</td>\n",
       "      <td>43</td>\n",
       "    </tr>\n",
       "    <tr>\n",
       "      <th>33</th>\n",
       "      <td>2021</td>\n",
       "      <td>100~200만원</td>\n",
       "      <td>23</td>\n",
       "      <td>111</td>\n",
       "      <td>169</td>\n",
       "      <td>450</td>\n",
       "      <td>145</td>\n",
       "      <td>94</td>\n",
       "      <td>18</td>\n",
       "    </tr>\n",
       "    <tr>\n",
       "      <th>34</th>\n",
       "      <td>2021</td>\n",
       "      <td>200~300만원</td>\n",
       "      <td>53</td>\n",
       "      <td>204</td>\n",
       "      <td>285</td>\n",
       "      <td>599</td>\n",
       "      <td>154</td>\n",
       "      <td>107</td>\n",
       "      <td>12</td>\n",
       "    </tr>\n",
       "    <tr>\n",
       "      <th>35</th>\n",
       "      <td>2021</td>\n",
       "      <td>300~400만원</td>\n",
       "      <td>45</td>\n",
       "      <td>267</td>\n",
       "      <td>401</td>\n",
       "      <td>802</td>\n",
       "      <td>227</td>\n",
       "      <td>134</td>\n",
       "      <td>15</td>\n",
       "    </tr>\n",
       "    <tr>\n",
       "      <th>36</th>\n",
       "      <td>2021</td>\n",
       "      <td>400~500만원</td>\n",
       "      <td>38</td>\n",
       "      <td>211</td>\n",
       "      <td>317</td>\n",
       "      <td>708</td>\n",
       "      <td>231</td>\n",
       "      <td>96</td>\n",
       "      <td>6</td>\n",
       "    </tr>\n",
       "    <tr>\n",
       "      <th>37</th>\n",
       "      <td>2021</td>\n",
       "      <td>500~600만원</td>\n",
       "      <td>22</td>\n",
       "      <td>178</td>\n",
       "      <td>255</td>\n",
       "      <td>630</td>\n",
       "      <td>197</td>\n",
       "      <td>92</td>\n",
       "      <td>6</td>\n",
       "    </tr>\n",
       "    <tr>\n",
       "      <th>38</th>\n",
       "      <td>2021</td>\n",
       "      <td>600만원 이상</td>\n",
       "      <td>41</td>\n",
       "      <td>231</td>\n",
       "      <td>361</td>\n",
       "      <td>735</td>\n",
       "      <td>247</td>\n",
       "      <td>103</td>\n",
       "      <td>6</td>\n",
       "    </tr>\n",
       "  </tbody>\n",
       "</table>\n",
       "</div>"
      ],
      "text/plain": [
       "    가구소득별    통계분류(2)  일에 더 집중하고있다  일에 조금 더 집중하고 있다  다소 일에 집중하고 있다  균형을 이루고 있다  \\\n",
       "32   2021   100만원 미만            8               44            110         482   \n",
       "33   2021  100~200만원           23              111            169         450   \n",
       "34   2021  200~300만원           53              204            285         599   \n",
       "35   2021  300~400만원           45              267            401         802   \n",
       "36   2021  400~500만원           38              211            317         708   \n",
       "37   2021  500~600만원           22              178            255         630   \n",
       "38   2021   600만원 이상           41              231            361         735   \n",
       "\n",
       "    다소 여가에 더 집중하고있다  여가에 조금 더 집중하고 있다  여가에 더 집중하고 있다  \n",
       "32              155               152             43  \n",
       "33              145                94             18  \n",
       "34              154               107             12  \n",
       "35              227               134             15  \n",
       "36              231                96              6  \n",
       "37              197                92              6  \n",
       "38              247               103              6  "
      ]
     },
     "execution_count": 113,
     "metadata": {},
     "output_type": "execute_result"
    }
   ],
   "source": [
    "일여가균형_가구소득별"
   ]
  },
  {
   "cell_type": "code",
   "execution_count": null,
   "id": "db24e505",
   "metadata": {},
   "outputs": [],
   "source": [
    "일여가균형_2018_연령별\n",
    "# .filter(like=\"연령별\", axis=0)"
   ]
  },
  {
   "cell_type": "code",
   "execution_count": null,
   "id": "37f39fb4",
   "metadata": {},
   "outputs": [],
   "source": [
    "leisure2.filter(like=\"2018\",axis=1)"
   ]
  }
 ],
 "metadata": {
  "kernelspec": {
   "display_name": "Python 3 (ipykernel)",
   "language": "python",
   "name": "python3"
  },
  "language_info": {
   "codemirror_mode": {
    "name": "ipython",
    "version": 3
   },
   "file_extension": ".py",
   "mimetype": "text/x-python",
   "name": "python",
   "nbconvert_exporter": "python",
   "pygments_lexer": "ipython3",
   "version": "3.10.9"
  }
 },
 "nbformat": 4,
 "nbformat_minor": 5
}
