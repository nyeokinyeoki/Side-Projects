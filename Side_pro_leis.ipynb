{
 "cells": [
  {
   "cell_type": "code",
   "execution_count": 96,
   "id": "facb3891",
   "metadata": {},
   "outputs": [],
   "source": [
    "import pandas as pd\n",
    "import numpy as np\n",
    "import re\n",
    "import warnings\n",
    "\n",
    "warnings.filterwarnings(\"ignore\")\n",
    "\n",
    "year_List = list(range(2016,2022))\n",
    "year_List = [value for value in year_List if value != 2017]   # 2017년도 빼기\n",
    "\n",
    "category = [\"연령별\", \"가구소득별\"]"
   ]
  },
  {
   "cell_type": "code",
   "execution_count": 130,
   "id": "abc37a4a",
   "metadata": {},
   "outputs": [],
   "source": [
    "def leisure_pretreat(dframe) : \n",
    "\n",
    "    \"\"\"Ver. 1\n",
    "    \n",
    "    여가 관련 통계조사 전처리 함수입니다.\n",
    "    \n",
    "    공공데이터의 csv 형식이 같을 것이라 생각했습니다.\n",
    "\n",
    "    \"\"\"\n",
    "\n",
    "    year_List = list(range(2016,2022))\n",
    "    year_List = [value for value in year_List if value != 2017]   # 2017년도 빼기\n",
    "\n",
    "    category = [\"연령별\", \"가구소득별\"]\n",
    "\n",
    "    leis_sep = dframe.iloc[:,:2]\n",
    "\n",
    "    conc_list_age = []\n",
    "    conc_list_inc = []\n",
    "\n",
    "    for yr in year_List : \n",
    "\n",
    "        pattern = str(yr)\n",
    "        df_name = \"DataFrame_\" + str(yr)\n",
    "\n",
    "        globals()[df_name] = leisure2.filter(like=pattern)    # 조건에 만족하는 데이터 프레임 반환\n",
    "        globals()[df_name] = pd.concat([leis_sep, globals()[df_name]], axis=1)     # 왼쪽 오른쪽으로 합치기, 인덱스가 다르면 outer join\n",
    "        globals()[df_name] = globals()[df_name].replace(\"-\",0)\n",
    "        globals()[df_name].columns = globals()[df_name].iloc[0,:].to_list()\n",
    "        globals()[df_name] = globals()[df_name].iloc[1:,:]\n",
    "        globals()[df_name].iloc[:,2:] = globals()[df_name].iloc[:,2:].astype(float)\n",
    "        globals()[df_name].iloc[:,3:] = globals()[df_name].iloc[:,3:].apply(lambda x : x * globals()[df_name].iloc[:,2] / 100)  # 백분율로 표시된 값을 실제 값으로 변환\n",
    "        globals()[df_name] = globals()[df_name].drop(\"표본수\",axis=1)  # 합계 부분 삭제\n",
    "        globals()[df_name].iloc[:,2:] = globals()[df_name].iloc[:,2:].astype(int)\n",
    "\n",
    "        for cat1 in category : \n",
    "\n",
    "            df_name_c1 = \"DataFrame_\" + str(yr) + cat1\n",
    "            globals()[df_name_c1] = globals()[df_name][globals()[df_name][\"통계분류(1)\"]==cat1].iloc[:,1:]\n",
    "            globals()[df_name_c1].insert(0, \"연도별\", yr)\n",
    "            globals()[df_name_c1].rename({\"통계분류(2)\":cat1},axis=1,inplace=True)\n",
    "\n",
    "            if cat1 == category[0] : \n",
    "                conc_list_age.append(globals()[df_name_c1])\n",
    "            else : \n",
    "                conc_list_inc.append(globals()[df_name_c1])\n",
    "\n",
    "    df1 = pd.concat(conc_list_age, axis=0)\n",
    "    df2 = pd.concat(conc_list_inc, axis=0)\n",
    "\n",
    "    return df1, df2"
   ]
  },
  {
   "attachments": {},
   "cell_type": "markdown",
   "id": "e3baed34",
   "metadata": {},
   "source": [
    "# 여가 관련 자료"
   ]
  },
  {
   "attachments": {},
   "cell_type": "markdown",
   "id": "cf2b3e0f",
   "metadata": {},
   "source": [
    "## 일과 여가 생활 균형"
   ]
  },
  {
   "cell_type": "code",
   "execution_count": null,
   "id": "4b207f69",
   "metadata": {},
   "outputs": [],
   "source": [
    "leisure = pd.read_csv(\"G:/내 드라이브/취미/일과_여가생활_간_균형_20230510094439.csv\", encoding='cp949')\n",
    "# leisure.info()\n",
    "# leisure.head(10)"
   ]
  },
  {
   "cell_type": "code",
   "execution_count": null,
   "id": "5dc618ed",
   "metadata": {},
   "outputs": [],
   "source": [
    "leisure_T = leisure.T   # 행열 전환\n",
    "# leisure_T.head(5)"
   ]
  },
  {
   "cell_type": "code",
   "execution_count": null,
   "id": "d3b5bc2f",
   "metadata": {},
   "outputs": [],
   "source": [
    "leisure_T.replace(\"-\",0,inplace=True)"
   ]
  },
  {
   "cell_type": "code",
   "execution_count": null,
   "id": "aa4f58f8",
   "metadata": {},
   "outputs": [],
   "source": [
    "leis_uq = leisure.iloc[:,0].unique()\n",
    "leis_uq = leis_uq.tolist()   # ndarray -> list\n",
    "leis_uq = [re.sub(r\"\\(+.\\)\",\"\",uq.replace(\" \",\"_\")) for uq in leis_uq]  # 괄호와 괄호 안 글자, 공백 제거\n",
    "print(leis_uq)"
   ]
  },
  {
   "cell_type": "code",
   "execution_count": null,
   "id": "2d6f16f9",
   "metadata": {
    "scrolled": true
   },
   "outputs": [],
   "source": [
    "leisure_T.columns = leisure_T.iloc[0,:]\n",
    "# leisure_T.info()"
   ]
  },
  {
   "cell_type": "code",
   "execution_count": null,
   "id": "e786e0a5",
   "metadata": {},
   "outputs": [],
   "source": [
    "columns_nospace = [re.sub(r\"\\(+.\\)\", \"\", col.replace(\" \",\"_\")) for col in leisure_T.columns]"
   ]
  },
  {
   "cell_type": "code",
   "execution_count": null,
   "id": "1f46427d",
   "metadata": {},
   "outputs": [],
   "source": [
    "leisure_T.columns = columns_nospace\n",
    "print(leisure_T.columns)"
   ]
  },
  {
   "cell_type": "code",
   "execution_count": null,
   "id": "58c99f3e",
   "metadata": {},
   "outputs": [],
   "source": [
    "# 통계 분류별로 데이터 프레임 분류\n",
    "\n",
    "for cat in leis_uq : \n",
    "    globals()[\"leisure_{}\".format(cat)] = leisure_T[cat]\n",
    "    \n",
    "    if type(globals()[\"leisure_{}\".format(cat)]) == pd.core.series.Series :   # type이 시리즈라면\n",
    "        globals()[\"leisure_{}\".format(cat)] = pd.DataFrame(globals()[\"leisure_{}\".format(cat)])   # 시리즈를 데이터프레임으로 변경\n",
    "        \n",
    "    globals()[\"leisure_{}\".format(cat)].columns = globals()[\"leisure_{}\".format(cat)].iloc[1,:]\n",
    "    globals()[\"leisure_{}\".format(cat)] = globals()[\"leisure_{}\".format(cat)].iloc[2:,:]\n",
    "    globals()[\"leisure_{}\".format(cat)].iloc[:,1:] = globals()[\"leisure_{}\".format(cat)].iloc[:,1:].astype(float)"
   ]
  },
  {
   "cell_type": "code",
   "execution_count": null,
   "id": "ebff879b",
   "metadata": {},
   "outputs": [],
   "source": [
    "leis_uq2 = leis_uq[1:]\n",
    "print(leis_uq2)"
   ]
  },
  {
   "cell_type": "code",
   "execution_count": null,
   "id": "f8d40c29",
   "metadata": {},
   "outputs": [],
   "source": [
    "for uq2 in leis_uq2 : \n",
    "    globals()[\"leis_{0}_{1}\".format(uq2, \"합본\")] = pd.concat([leisure_통계분류, globals()[\"leisure_{}\".format(uq2)]],axis=1)"
   ]
  },
  {
   "cell_type": "code",
   "execution_count": null,
   "id": "6a9456f2",
   "metadata": {},
   "outputs": [],
   "source": [
    "for uniq in leis_uq2 : \n",
    "    idx_List = globals()[\"leis_{0}_{1}\".format(uniq, \"합본\")].index.to_list()   # 분리된 데이터프레임 인덱스 리스트로 반환\n",
    "    \n",
    "    for yr in year_List : \n",
    "        sep_year = []    # 정규표현식에 만족하는 인덱스를 저장할 리스트\n",
    "        \n",
    "        for idx in idx_List :\n",
    "            find_yr = re.findall(str(yr)+\"[.0-9]*\",idx)     # 연도 + '.' or 숫자 1개 이상 포함돼 있는 인덱스 저장 \n",
    "\n",
    "            if find_yr:      # 빈 리스트가 아니라면 (findall은 조건에 안 맞으면 빈 리스트 반환)\n",
    "                sep_year.append(find_yr[0])\n",
    "\n",
    "        Last_idx = len(sep_year)\n",
    "        globals()[\"leis_{0}_{1}\".format(uniq, str(yr))] = globals()[\"leis_{0}_{1}\".format(uniq, \"합본\")][:][sep_year[0]:sep_year[Last_idx-1]]    # 행 인덱스로 슬라이싱, 행 인덱스로 슬라이싱할 때 콜론 뒤 값을 포함해서 슬라이싱한다.\n",
    "        pattern = str(yr) + r'[.0-9]*'\n",
    "        new_index = globals()[\"leis_{0}_{1}\".format(uniq, str(yr))].index.map(lambda x: re.sub(pattern, str(yr), x))   # map 함수를 이용해 인덱스마다 정규 표현식 sub를 적용\n",
    "        globals()[\"leis_{0}_{1}\".format(uniq, str(yr))].index = new_index\n",
    "        globals()[\"leis_{0}_{1}\".format(uniq, str(yr))].index = globals()[\"leis_{0}_{1}\".format(uniq, str(yr))].index.astype(int)   # 인덱스를 int 타입으로\n",
    "        globals()[\"leis_{0}_{1}\".format(uniq, str(yr))].rename(columns={\"통계분류(2)\" : \"분류\"}, inplace=True)   # 컬럼명 변경\n",
    "        globals()[\"leis_{0}_{1}\".format(uniq, str(yr))] = globals()[\"leis_{0}_{1}\".format(uniq, str(yr))].reset_index()   # reset_index\n",
    "        globals()[\"leis_{0}_{1}\".format(uniq, str(yr))].rename(columns={\"index\" : \"연도\"}, inplace=True)    # 인덱스가 컬럼으로 바뀌고, 그 컬럼명을 변경\n",
    "        globals()[\"leis_{0}_{1}\".format(uniq, str(yr))] = globals()[\"leis_{0}_{1}\".format(uniq, str(yr))].set_index([\"연도\",\"분류\"])   # 멀티 인덱스 설정\n",
    "\n",
    "\n",
    "# 전체 -> 리스트 중에서 2016년이면 리스트에 저장 -> 리스트에 저장된 첫번째와 마지막 인덱스로 슬라이싱 -> 새로운 데이터 프레임 생성"
   ]
  },
  {
   "cell_type": "code",
   "execution_count": null,
   "id": "cdcbf68a",
   "metadata": {},
   "outputs": [],
   "source": [
    "leis_17개_시도별_2016_T = leis_17개_시도별_2016.T\n",
    "leis_17개_시도별_2016_T.head(10)"
   ]
  },
  {
   "cell_type": "code",
   "execution_count": null,
   "id": "da370d4e",
   "metadata": {},
   "outputs": [],
   "source": [
    "df = leis_17개_시도별_2016_T.stack(level=0)\n",
    "pd.DataFrame(df)\n"
   ]
  },
  {
   "cell_type": "code",
   "execution_count": null,
   "id": "f03fbe10",
   "metadata": {},
   "outputs": [],
   "source": [
    "pd.concat([leis_17개_시도별_2016, leis_가구소득별_2016],axis=1)"
   ]
  },
  {
   "attachments": {},
   "cell_type": "markdown",
   "id": "24b57c54",
   "metadata": {},
   "source": [
    "\n",
    "## 일과 여가 생활 균형 2"
   ]
  },
  {
   "cell_type": "code",
   "execution_count": null,
   "id": "6bf5b005",
   "metadata": {},
   "outputs": [],
   "source": [
    "leisure2 = pd.read_csv(\"G:/내 드라이브/취미/일과_여가생활_간_균형_20230510094439.csv\", encoding='cp949')"
   ]
  },
  {
   "cell_type": "code",
   "execution_count": 128,
   "id": "dc37c800",
   "metadata": {},
   "outputs": [
    {
     "data": {
      "text/html": [
       "<div>\n",
       "<style scoped>\n",
       "    .dataframe tbody tr th:only-of-type {\n",
       "        vertical-align: middle;\n",
       "    }\n",
       "\n",
       "    .dataframe tbody tr th {\n",
       "        vertical-align: top;\n",
       "    }\n",
       "\n",
       "    .dataframe thead th {\n",
       "        text-align: right;\n",
       "    }\n",
       "</style>\n",
       "<table border=\"1\" class=\"dataframe\">\n",
       "  <thead>\n",
       "    <tr style=\"text-align: right;\">\n",
       "      <th></th>\n",
       "      <th>연도별</th>\n",
       "      <th>연령별</th>\n",
       "      <th>일에 더 집중하고있다</th>\n",
       "      <th>일에 조금 더 집중하고 있다</th>\n",
       "      <th>다소 일에 집중하고 있다</th>\n",
       "      <th>균형을 이루고 있다</th>\n",
       "      <th>다소 여가에 더 집중하고있다</th>\n",
       "      <th>여가에 조금 더 집중하고 있다</th>\n",
       "      <th>여가에 더 집중하고 있다</th>\n",
       "    </tr>\n",
       "  </thead>\n",
       "  <tbody>\n",
       "    <tr>\n",
       "      <th>4</th>\n",
       "      <td>2016</td>\n",
       "      <td>15~19세</td>\n",
       "      <td>15</td>\n",
       "      <td>95</td>\n",
       "      <td>218</td>\n",
       "      <td>284</td>\n",
       "      <td>159</td>\n",
       "      <td>48</td>\n",
       "      <td>4</td>\n",
       "    </tr>\n",
       "    <tr>\n",
       "      <th>5</th>\n",
       "      <td>2016</td>\n",
       "      <td>20대</td>\n",
       "      <td>11</td>\n",
       "      <td>116</td>\n",
       "      <td>302</td>\n",
       "      <td>583</td>\n",
       "      <td>320</td>\n",
       "      <td>135</td>\n",
       "      <td>5</td>\n",
       "    </tr>\n",
       "    <tr>\n",
       "      <th>6</th>\n",
       "      <td>2016</td>\n",
       "      <td>30대</td>\n",
       "      <td>34</td>\n",
       "      <td>162</td>\n",
       "      <td>392</td>\n",
       "      <td>599</td>\n",
       "      <td>339</td>\n",
       "      <td>175</td>\n",
       "      <td>5</td>\n",
       "    </tr>\n",
       "    <tr>\n",
       "      <th>7</th>\n",
       "      <td>2016</td>\n",
       "      <td>40대</td>\n",
       "      <td>45</td>\n",
       "      <td>195</td>\n",
       "      <td>443</td>\n",
       "      <td>678</td>\n",
       "      <td>426</td>\n",
       "      <td>197</td>\n",
       "      <td>1</td>\n",
       "    </tr>\n",
       "    <tr>\n",
       "      <th>8</th>\n",
       "      <td>2016</td>\n",
       "      <td>50대</td>\n",
       "      <td>29</td>\n",
       "      <td>183</td>\n",
       "      <td>404</td>\n",
       "      <td>690</td>\n",
       "      <td>422</td>\n",
       "      <td>217</td>\n",
       "      <td>7</td>\n",
       "    </tr>\n",
       "  </tbody>\n",
       "</table>\n",
       "</div>"
      ],
      "text/plain": [
       "    연도별     연령별  일에 더 집중하고있다  일에 조금 더 집중하고 있다  다소 일에 집중하고 있다  균형을 이루고 있다  \\\n",
       "4  2016  15~19세           15               95            218         284   \n",
       "5  2016     20대           11              116            302         583   \n",
       "6  2016     30대           34              162            392         599   \n",
       "7  2016     40대           45              195            443         678   \n",
       "8  2016     50대           29              183            404         690   \n",
       "\n",
       "   다소 여가에 더 집중하고있다  여가에 조금 더 집중하고 있다  여가에 더 집중하고 있다  \n",
       "4              159                48              4  \n",
       "5              320               135              5  \n",
       "6              339               175              5  \n",
       "7              426               197              1  \n",
       "8              422               217              7  "
      ]
     },
     "execution_count": 128,
     "metadata": {},
     "output_type": "execute_result"
    }
   ],
   "source": [
    "balance_age.head()"
   ]
  },
  {
   "cell_type": "code",
   "execution_count": 129,
   "id": "5f51acb0",
   "metadata": {},
   "outputs": [
    {
     "data": {
      "text/html": [
       "<div>\n",
       "<style scoped>\n",
       "    .dataframe tbody tr th:only-of-type {\n",
       "        vertical-align: middle;\n",
       "    }\n",
       "\n",
       "    .dataframe tbody tr th {\n",
       "        vertical-align: top;\n",
       "    }\n",
       "\n",
       "    .dataframe thead th {\n",
       "        text-align: right;\n",
       "    }\n",
       "</style>\n",
       "<table border=\"1\" class=\"dataframe\">\n",
       "  <thead>\n",
       "    <tr style=\"text-align: right;\">\n",
       "      <th></th>\n",
       "      <th>연도별</th>\n",
       "      <th>연령별</th>\n",
       "      <th>일에 더 집중하고있다</th>\n",
       "      <th>일에 조금 더 집중하고 있다</th>\n",
       "      <th>다소 일에 집중하고 있다</th>\n",
       "      <th>균형을 이루고 있다</th>\n",
       "      <th>다소 여가에 더 집중하고있다</th>\n",
       "      <th>여가에 조금 더 집중하고 있다</th>\n",
       "      <th>여가에 더 집중하고 있다</th>\n",
       "    </tr>\n",
       "  </thead>\n",
       "  <tbody>\n",
       "    <tr>\n",
       "      <th>4</th>\n",
       "      <td>2016</td>\n",
       "      <td>15~19세</td>\n",
       "      <td>15</td>\n",
       "      <td>95</td>\n",
       "      <td>218</td>\n",
       "      <td>284</td>\n",
       "      <td>159</td>\n",
       "      <td>48</td>\n",
       "      <td>4</td>\n",
       "    </tr>\n",
       "    <tr>\n",
       "      <th>5</th>\n",
       "      <td>2016</td>\n",
       "      <td>20대</td>\n",
       "      <td>11</td>\n",
       "      <td>116</td>\n",
       "      <td>302</td>\n",
       "      <td>583</td>\n",
       "      <td>320</td>\n",
       "      <td>135</td>\n",
       "      <td>5</td>\n",
       "    </tr>\n",
       "    <tr>\n",
       "      <th>6</th>\n",
       "      <td>2016</td>\n",
       "      <td>30대</td>\n",
       "      <td>34</td>\n",
       "      <td>162</td>\n",
       "      <td>392</td>\n",
       "      <td>599</td>\n",
       "      <td>339</td>\n",
       "      <td>175</td>\n",
       "      <td>5</td>\n",
       "    </tr>\n",
       "    <tr>\n",
       "      <th>7</th>\n",
       "      <td>2016</td>\n",
       "      <td>40대</td>\n",
       "      <td>45</td>\n",
       "      <td>195</td>\n",
       "      <td>443</td>\n",
       "      <td>678</td>\n",
       "      <td>426</td>\n",
       "      <td>197</td>\n",
       "      <td>1</td>\n",
       "    </tr>\n",
       "    <tr>\n",
       "      <th>8</th>\n",
       "      <td>2016</td>\n",
       "      <td>50대</td>\n",
       "      <td>29</td>\n",
       "      <td>183</td>\n",
       "      <td>404</td>\n",
       "      <td>690</td>\n",
       "      <td>422</td>\n",
       "      <td>217</td>\n",
       "      <td>7</td>\n",
       "    </tr>\n",
       "  </tbody>\n",
       "</table>\n",
       "</div>"
      ],
      "text/plain": [
       "    연도별     연령별  일에 더 집중하고있다  일에 조금 더 집중하고 있다  다소 일에 집중하고 있다  균형을 이루고 있다  \\\n",
       "4  2016  15~19세           15               95            218         284   \n",
       "5  2016     20대           11              116            302         583   \n",
       "6  2016     30대           34              162            392         599   \n",
       "7  2016     40대           45              195            443         678   \n",
       "8  2016     50대           29              183            404         690   \n",
       "\n",
       "   다소 여가에 더 집중하고있다  여가에 조금 더 집중하고 있다  여가에 더 집중하고 있다  \n",
       "4              159                48              4  \n",
       "5              320               135              5  \n",
       "6              339               175              5  \n",
       "7              426               197              1  \n",
       "8              422               217              7  "
      ]
     },
     "execution_count": 129,
     "metadata": {},
     "output_type": "execute_result"
    }
   ],
   "source": [
    "A, B = leisure_pretreat(leisure2)\n",
    "A.head()"
   ]
  },
  {
   "attachments": {},
   "cell_type": "markdown",
   "id": "dde8c0de",
   "metadata": {},
   "source": [
    "## "
   ]
  }
 ],
 "metadata": {
  "kernelspec": {
   "display_name": "Python 3 (ipykernel)",
   "language": "python",
   "name": "python3"
  },
  "language_info": {
   "codemirror_mode": {
    "name": "ipython",
    "version": 3
   },
   "file_extension": ".py",
   "mimetype": "text/x-python",
   "name": "python",
   "nbconvert_exporter": "python",
   "pygments_lexer": "ipython3",
   "version": "3.10.9"
  }
 },
 "nbformat": 4,
 "nbformat_minor": 5
}
