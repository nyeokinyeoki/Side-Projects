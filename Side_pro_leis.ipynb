{
 "cells": [
  {
   "cell_type": "code",
   "execution_count": 1,
   "id": "facb3891",
   "metadata": {},
   "outputs": [],
   "source": [
    "import pandas as pd\n",
    "import numpy as np\n",
    "import re\n",
    "import warnings\n",
    "\n",
    "warnings.filterwarnings(\"ignore\")"
   ]
  },
  {
   "cell_type": "code",
   "execution_count": 2,
   "id": "abc37a4a",
   "metadata": {},
   "outputs": [],
   "source": [
    "def leisure_pretreat(dframe) : \n",
    "\n",
    "    \"\"\"\n",
    "    \n",
    "    Ver. 2\n",
    "    \n",
    "    여가 관련 통계조사 전처리 함수입니다.\n",
    "\n",
    "    (Ver. 1 -> Ver. 2 : '평균' 컬럼 제외)\n",
    "\n",
    "    \"\"\"\n",
    "\n",
    "    year_List = list(range(2016,2022))\n",
    "    year_List = [value for value in year_List if value != 2017]   # 2017년도 빼기\n",
    "\n",
    "    category = [\"연령별\", \"가구소득별\"]\n",
    "\n",
    "    leis_sep = dframe.iloc[:,:2]\n",
    "\n",
    "    conc_list_age = []\n",
    "    conc_list_inc = []\n",
    "\n",
    "    for yr in year_List : \n",
    "\n",
    "        pattern = str(yr)\n",
    "        df_name = \"DataFrame_\" + str(yr)\n",
    "\n",
    "        globals()[df_name] = dframe.filter(like=pattern)    # 조건에 만족하는 데이터 프레임 반환\n",
    "        globals()[df_name] = pd.concat([leis_sep, globals()[df_name]], axis=1)     # 왼쪽 오른쪽으로 합치기, 인덱스가 다르면 outer join\n",
    "        globals()[df_name] = globals()[df_name].replace(\"-\",0)\n",
    "        globals()[df_name].columns = globals()[df_name].iloc[0,:].to_list()\n",
    "        globals()[df_name] = globals()[df_name].iloc[1:,:]\n",
    "        globals()[df_name].iloc[:,2:] = globals()[df_name].iloc[:,2:].astype(float)\n",
    "        globals()[df_name].iloc[:,3:] = globals()[df_name].iloc[:,3:].apply(lambda x : x * globals()[df_name].iloc[:,2] / 100)  # 백분율로 표시된 값을 실제 값으로 변환\n",
    "        globals()[df_name] = globals()[df_name].drop(\"표본수\",axis=1)  # 합계 부분 삭제\n",
    "        globals()[df_name].iloc[:,2:] = globals()[df_name].iloc[:,2:].astype(int)\n",
    "\n",
    "        if \"평균\" in globals()[df_name].columns.to_list() : \n",
    "            globals()[df_name].drop(\"평균\", axis=1, inplace=True)\n",
    "            \n",
    "        for cat1 in category : \n",
    "\n",
    "            df_name_c1 = \"DataFrame_\" + str(yr) + cat1\n",
    "            globals()[df_name_c1] = globals()[df_name][globals()[df_name][\"통계분류(1)\"]==cat1].iloc[:,1:]\n",
    "            globals()[df_name_c1].insert(0, \"연도별\", yr)\n",
    "            globals()[df_name_c1].rename({\"통계분류(2)\":cat1},axis=1,inplace=True)\n",
    "\n",
    "            if cat1 == category[0] : \n",
    "                conc_list_age.append(globals()[df_name_c1])\n",
    "            else : \n",
    "                conc_list_inc.append(globals()[df_name_c1])\n",
    "\n",
    "    df1 = pd.concat(conc_list_age, axis=0)\n",
    "    df2 = pd.concat(conc_list_inc, axis=0)\n",
    "\n",
    "    df1.fillna(0, axis=1, inplace=True)\n",
    "    df2.fillna(0, axis=1, inplace=True)\n",
    "\n",
    "    return df1, df2"
   ]
  },
  {
   "attachments": {},
   "cell_type": "markdown",
   "id": "e3baed34",
   "metadata": {},
   "source": [
    "# 여가 관련 자료"
   ]
  },
  {
   "attachments": {},
   "cell_type": "markdown",
   "id": "24b57c54",
   "metadata": {},
   "source": [
    "\n",
    "## <font color=\"#FF5675\"> 일과 여가 생활 균형 </font>"
   ]
  },
  {
   "cell_type": "code",
   "execution_count": 8,
   "id": "6bf5b005",
   "metadata": {},
   "outputs": [],
   "source": [
    "leisure = pd.read_csv(\"G:/내 드라이브/취미/일과_여가생활_간_균형_20230510094439.csv\", encoding='cp949')"
   ]
  },
  {
   "cell_type": "code",
   "execution_count": 9,
   "id": "5f51acb0",
   "metadata": {},
   "outputs": [
    {
     "data": {
      "text/html": [
       "<div>\n",
       "<style scoped>\n",
       "    .dataframe tbody tr th:only-of-type {\n",
       "        vertical-align: middle;\n",
       "    }\n",
       "\n",
       "    .dataframe tbody tr th {\n",
       "        vertical-align: top;\n",
       "    }\n",
       "\n",
       "    .dataframe thead th {\n",
       "        text-align: right;\n",
       "    }\n",
       "</style>\n",
       "<table border=\"1\" class=\"dataframe\">\n",
       "  <thead>\n",
       "    <tr style=\"text-align: right;\">\n",
       "      <th></th>\n",
       "      <th>연도별</th>\n",
       "      <th>연령별</th>\n",
       "      <th>일에 더 집중하고있다</th>\n",
       "      <th>일에 조금 더 집중하고 있다</th>\n",
       "      <th>다소 일에 집중하고 있다</th>\n",
       "      <th>균형을 이루고 있다</th>\n",
       "      <th>다소 여가에 더 집중하고있다</th>\n",
       "      <th>여가에 조금 더 집중하고 있다</th>\n",
       "      <th>여가에 더 집중하고 있다</th>\n",
       "    </tr>\n",
       "  </thead>\n",
       "  <tbody>\n",
       "    <tr>\n",
       "      <th>4</th>\n",
       "      <td>2016</td>\n",
       "      <td>15~19세</td>\n",
       "      <td>15</td>\n",
       "      <td>95</td>\n",
       "      <td>218</td>\n",
       "      <td>284</td>\n",
       "      <td>159</td>\n",
       "      <td>48</td>\n",
       "      <td>4</td>\n",
       "    </tr>\n",
       "    <tr>\n",
       "      <th>5</th>\n",
       "      <td>2016</td>\n",
       "      <td>20대</td>\n",
       "      <td>11</td>\n",
       "      <td>116</td>\n",
       "      <td>302</td>\n",
       "      <td>583</td>\n",
       "      <td>320</td>\n",
       "      <td>135</td>\n",
       "      <td>5</td>\n",
       "    </tr>\n",
       "    <tr>\n",
       "      <th>6</th>\n",
       "      <td>2016</td>\n",
       "      <td>30대</td>\n",
       "      <td>34</td>\n",
       "      <td>162</td>\n",
       "      <td>392</td>\n",
       "      <td>599</td>\n",
       "      <td>339</td>\n",
       "      <td>175</td>\n",
       "      <td>5</td>\n",
       "    </tr>\n",
       "    <tr>\n",
       "      <th>7</th>\n",
       "      <td>2016</td>\n",
       "      <td>40대</td>\n",
       "      <td>45</td>\n",
       "      <td>195</td>\n",
       "      <td>443</td>\n",
       "      <td>678</td>\n",
       "      <td>426</td>\n",
       "      <td>197</td>\n",
       "      <td>1</td>\n",
       "    </tr>\n",
       "    <tr>\n",
       "      <th>8</th>\n",
       "      <td>2016</td>\n",
       "      <td>50대</td>\n",
       "      <td>29</td>\n",
       "      <td>183</td>\n",
       "      <td>404</td>\n",
       "      <td>690</td>\n",
       "      <td>422</td>\n",
       "      <td>217</td>\n",
       "      <td>7</td>\n",
       "    </tr>\n",
       "  </tbody>\n",
       "</table>\n",
       "</div>"
      ],
      "text/plain": [
       "    연도별     연령별 일에 더 집중하고있다 일에 조금 더 집중하고 있다 다소 일에 집중하고 있다 균형을 이루고 있다  \\\n",
       "4  2016  15~19세          15              95           218        284   \n",
       "5  2016     20대          11             116           302        583   \n",
       "6  2016     30대          34             162           392        599   \n",
       "7  2016     40대          45             195           443        678   \n",
       "8  2016     50대          29             183           404        690   \n",
       "\n",
       "  다소 여가에 더 집중하고있다 여가에 조금 더 집중하고 있다 여가에 더 집중하고 있다  \n",
       "4             159               48             4  \n",
       "5             320              135             5  \n",
       "6             339              175             5  \n",
       "7             426              197             1  \n",
       "8             422              217             7  "
      ]
     },
     "execution_count": 9,
     "metadata": {},
     "output_type": "execute_result"
    }
   ],
   "source": [
    "A, B = leisure_pretreat(leisure)\n",
    "A.head()"
   ]
  },
  {
   "attachments": {},
   "cell_type": "markdown",
   "id": "dde8c0de",
   "metadata": {},
   "source": [
    "## <font color=\"#FFD73C\"> 평일 여가 활동_관광 활동 </font>"
   ]
  },
  {
   "cell_type": "code",
   "execution_count": 5,
   "id": "ac024deb",
   "metadata": {},
   "outputs": [],
   "source": [
    "trip = pd.read_csv(\"G:/내 드라이브/취미/평일에_참여한_여가활동_만족도_관광활동_20230510095154.csv\", encoding=\"cp949\")\n",
    "# trip.info()\n",
    "# trip.head()"
   ]
  },
  {
   "cell_type": "code",
   "execution_count": 6,
   "id": "1c5f332f",
   "metadata": {},
   "outputs": [],
   "source": [
    "trip_age, trip_inc = leisure_pretreat(trip)"
   ]
  },
  {
   "cell_type": "code",
   "execution_count": 7,
   "id": "02b4cf50",
   "metadata": {},
   "outputs": [
    {
     "data": {
      "text/html": [
       "<div>\n",
       "<style scoped>\n",
       "    .dataframe tbody tr th:only-of-type {\n",
       "        vertical-align: middle;\n",
       "    }\n",
       "\n",
       "    .dataframe tbody tr th {\n",
       "        vertical-align: top;\n",
       "    }\n",
       "\n",
       "    .dataframe thead th {\n",
       "        text-align: right;\n",
       "    }\n",
       "</style>\n",
       "<table border=\"1\" class=\"dataframe\">\n",
       "  <thead>\n",
       "    <tr style=\"text-align: right;\">\n",
       "      <th></th>\n",
       "      <th>연도별</th>\n",
       "      <th>가구소득별</th>\n",
       "      <th>매우불만족한다</th>\n",
       "      <th>불만족 한다</th>\n",
       "      <th>다소불만족한다</th>\n",
       "      <th>보통이다</th>\n",
       "      <th>다소만족한다</th>\n",
       "      <th>만족한다</th>\n",
       "      <th>매우만족한다</th>\n",
       "    </tr>\n",
       "  </thead>\n",
       "  <tbody>\n",
       "    <tr>\n",
       "      <th>34</th>\n",
       "      <td>2021</td>\n",
       "      <td>200~300만원</td>\n",
       "      <td>0</td>\n",
       "      <td>0</td>\n",
       "      <td>1</td>\n",
       "      <td>51</td>\n",
       "      <td>162</td>\n",
       "      <td>223</td>\n",
       "      <td>87</td>\n",
       "    </tr>\n",
       "    <tr>\n",
       "      <th>35</th>\n",
       "      <td>2021</td>\n",
       "      <td>300~400만원</td>\n",
       "      <td>0</td>\n",
       "      <td>0</td>\n",
       "      <td>3</td>\n",
       "      <td>59</td>\n",
       "      <td>207</td>\n",
       "      <td>304</td>\n",
       "      <td>130</td>\n",
       "    </tr>\n",
       "    <tr>\n",
       "      <th>36</th>\n",
       "      <td>2021</td>\n",
       "      <td>400~500만원</td>\n",
       "      <td>0</td>\n",
       "      <td>0</td>\n",
       "      <td>0</td>\n",
       "      <td>58</td>\n",
       "      <td>217</td>\n",
       "      <td>273</td>\n",
       "      <td>109</td>\n",
       "    </tr>\n",
       "    <tr>\n",
       "      <th>37</th>\n",
       "      <td>2021</td>\n",
       "      <td>500~600만원</td>\n",
       "      <td>0</td>\n",
       "      <td>0</td>\n",
       "      <td>0</td>\n",
       "      <td>57</td>\n",
       "      <td>191</td>\n",
       "      <td>236</td>\n",
       "      <td>94</td>\n",
       "    </tr>\n",
       "    <tr>\n",
       "      <th>38</th>\n",
       "      <td>2021</td>\n",
       "      <td>600만원 이상</td>\n",
       "      <td>0</td>\n",
       "      <td>0</td>\n",
       "      <td>0</td>\n",
       "      <td>57</td>\n",
       "      <td>216</td>\n",
       "      <td>348</td>\n",
       "      <td>199</td>\n",
       "    </tr>\n",
       "  </tbody>\n",
       "</table>\n",
       "</div>"
      ],
      "text/plain": [
       "     연도별      가구소득별 매우불만족한다 불만족 한다 다소불만족한다 보통이다 다소만족한다 만족한다 매우만족한다\n",
       "34  2021  200~300만원       0      0       1   51    162  223     87\n",
       "35  2021  300~400만원       0      0       3   59    207  304    130\n",
       "36  2021  400~500만원       0      0       0   58    217  273    109\n",
       "37  2021  500~600만원       0      0       0   57    191  236     94\n",
       "38  2021   600만원 이상       0      0       0   57    216  348    199"
      ]
     },
     "execution_count": 7,
     "metadata": {},
     "output_type": "execute_result"
    }
   ],
   "source": [
    "trip_inc.tail()"
   ]
  },
  {
   "attachments": {},
   "cell_type": "markdown",
   "id": "596ca685",
   "metadata": {},
   "source": [
    "## <font color=\"#FFD73C\"> 평일 여가 활동_문화예술 관람 활동 </font>"
   ]
  },
  {
   "cell_type": "code",
   "execution_count": 14,
   "id": "06d86288",
   "metadata": {},
   "outputs": [
    {
     "data": {
      "text/html": [
       "<div>\n",
       "<style scoped>\n",
       "    .dataframe tbody tr th:only-of-type {\n",
       "        vertical-align: middle;\n",
       "    }\n",
       "\n",
       "    .dataframe tbody tr th {\n",
       "        vertical-align: top;\n",
       "    }\n",
       "\n",
       "    .dataframe thead th {\n",
       "        text-align: right;\n",
       "    }\n",
       "</style>\n",
       "<table border=\"1\" class=\"dataframe\">\n",
       "  <thead>\n",
       "    <tr style=\"text-align: right;\">\n",
       "      <th></th>\n",
       "      <th>통계분류(1)</th>\n",
       "      <th>통계분류(2)</th>\n",
       "      <th>2016</th>\n",
       "      <th>2016.1</th>\n",
       "      <th>2016.2</th>\n",
       "      <th>2016.3</th>\n",
       "      <th>2016.4</th>\n",
       "      <th>2016.5</th>\n",
       "      <th>2016.6</th>\n",
       "      <th>2016.7</th>\n",
       "      <th>...</th>\n",
       "      <th>2020.6</th>\n",
       "      <th>2020.7</th>\n",
       "      <th>2021</th>\n",
       "      <th>2021.1</th>\n",
       "      <th>2021.2</th>\n",
       "      <th>2021.3</th>\n",
       "      <th>2021.4</th>\n",
       "      <th>2021.5</th>\n",
       "      <th>2021.6</th>\n",
       "      <th>2021.7</th>\n",
       "    </tr>\n",
       "  </thead>\n",
       "  <tbody>\n",
       "    <tr>\n",
       "      <th>0</th>\n",
       "      <td>통계분류(1)</td>\n",
       "      <td>통계분류(2)</td>\n",
       "      <td>표본수</td>\n",
       "      <td>매우 불만족한다</td>\n",
       "      <td>불만족한다</td>\n",
       "      <td>다소 불만족한다</td>\n",
       "      <td>보통이다</td>\n",
       "      <td>다소 만족한다</td>\n",
       "      <td>만족한다</td>\n",
       "      <td>매우 만족한다</td>\n",
       "      <td>...</td>\n",
       "      <td>매우 만족한다</td>\n",
       "      <td>평균</td>\n",
       "      <td>표본수</td>\n",
       "      <td>불만족한다</td>\n",
       "      <td>다소 불만족한다</td>\n",
       "      <td>보통이다</td>\n",
       "      <td>다소 만족한다</td>\n",
       "      <td>만족한다</td>\n",
       "      <td>매우 만족한다</td>\n",
       "      <td>평균</td>\n",
       "    </tr>\n",
       "    <tr>\n",
       "      <th>1</th>\n",
       "      <td>전체</td>\n",
       "      <td>소계</td>\n",
       "      <td>3957</td>\n",
       "      <td>0</td>\n",
       "      <td>0.1</td>\n",
       "      <td>0.3</td>\n",
       "      <td>5.2</td>\n",
       "      <td>28.5</td>\n",
       "      <td>55.5</td>\n",
       "      <td>10.4</td>\n",
       "      <td>...</td>\n",
       "      <td>13.7</td>\n",
       "      <td>5.7</td>\n",
       "      <td>2068</td>\n",
       "      <td>0</td>\n",
       "      <td>0.2</td>\n",
       "      <td>5.6</td>\n",
       "      <td>30.8</td>\n",
       "      <td>47.4</td>\n",
       "      <td>15.9</td>\n",
       "      <td>5.7</td>\n",
       "    </tr>\n",
       "    <tr>\n",
       "      <th>2</th>\n",
       "      <td>성별</td>\n",
       "      <td>남성</td>\n",
       "      <td>1687</td>\n",
       "      <td>0</td>\n",
       "      <td>0.2</td>\n",
       "      <td>0.3</td>\n",
       "      <td>4.9</td>\n",
       "      <td>30.6</td>\n",
       "      <td>54.2</td>\n",
       "      <td>9.7</td>\n",
       "      <td>...</td>\n",
       "      <td>13.8</td>\n",
       "      <td>5.7</td>\n",
       "      <td>1011</td>\n",
       "      <td>-</td>\n",
       "      <td>0.4</td>\n",
       "      <td>6.1</td>\n",
       "      <td>30.1</td>\n",
       "      <td>46.5</td>\n",
       "      <td>16.9</td>\n",
       "      <td>5.7</td>\n",
       "    </tr>\n",
       "    <tr>\n",
       "      <th>3</th>\n",
       "      <td>성별</td>\n",
       "      <td>여성</td>\n",
       "      <td>2270</td>\n",
       "      <td>0</td>\n",
       "      <td>0.1</td>\n",
       "      <td>0.2</td>\n",
       "      <td>5.4</td>\n",
       "      <td>26.7</td>\n",
       "      <td>56.6</td>\n",
       "      <td>11</td>\n",
       "      <td>...</td>\n",
       "      <td>13.7</td>\n",
       "      <td>5.7</td>\n",
       "      <td>1057</td>\n",
       "      <td>0</td>\n",
       "      <td>-</td>\n",
       "      <td>5.1</td>\n",
       "      <td>31.5</td>\n",
       "      <td>48.3</td>\n",
       "      <td>15</td>\n",
       "      <td>5.7</td>\n",
       "    </tr>\n",
       "    <tr>\n",
       "      <th>4</th>\n",
       "      <td>연령별</td>\n",
       "      <td>15~19세</td>\n",
       "      <td>388</td>\n",
       "      <td>0</td>\n",
       "      <td>0</td>\n",
       "      <td>-</td>\n",
       "      <td>7</td>\n",
       "      <td>29.7</td>\n",
       "      <td>54</td>\n",
       "      <td>9.4</td>\n",
       "      <td>...</td>\n",
       "      <td>18.8</td>\n",
       "      <td>5.8</td>\n",
       "      <td>175</td>\n",
       "      <td>-</td>\n",
       "      <td>-</td>\n",
       "      <td>2.5</td>\n",
       "      <td>39.1</td>\n",
       "      <td>32.2</td>\n",
       "      <td>26.2</td>\n",
       "      <td>5.8</td>\n",
       "    </tr>\n",
       "  </tbody>\n",
       "</table>\n",
       "<p>5 rows × 45 columns</p>\n",
       "</div>"
      ],
      "text/plain": [
       "   통계분류(1)  통계분류(2)  2016    2016.1 2016.2    2016.3 2016.4   2016.5 2016.6  \\\n",
       "0  통계분류(1)  통계분류(2)   표본수  매우 불만족한다  불만족한다  다소 불만족한다   보통이다  다소 만족한다   만족한다   \n",
       "1       전체       소계  3957         0    0.1       0.3    5.2     28.5   55.5   \n",
       "2       성별       남성  1687         0    0.2       0.3    4.9     30.6   54.2   \n",
       "3       성별       여성  2270         0    0.1       0.2    5.4     26.7   56.6   \n",
       "4      연령별   15~19세   388         0      0         -      7     29.7     54   \n",
       "\n",
       "    2016.7  ...   2020.6 2020.7  2021 2021.1    2021.2 2021.3   2021.4 2021.5  \\\n",
       "0  매우 만족한다  ...  매우 만족한다     평균   표본수  불만족한다  다소 불만족한다   보통이다  다소 만족한다   만족한다   \n",
       "1     10.4  ...     13.7    5.7  2068      0       0.2    5.6     30.8   47.4   \n",
       "2      9.7  ...     13.8    5.7  1011      -       0.4    6.1     30.1   46.5   \n",
       "3       11  ...     13.7    5.7  1057      0         -    5.1     31.5   48.3   \n",
       "4      9.4  ...     18.8    5.8   175      -         -    2.5     39.1   32.2   \n",
       "\n",
       "    2021.6 2021.7  \n",
       "0  매우 만족한다     평균  \n",
       "1     15.9    5.7  \n",
       "2     16.9    5.7  \n",
       "3       15    5.7  \n",
       "4     26.2    5.8  \n",
       "\n",
       "[5 rows x 45 columns]"
      ]
     },
     "execution_count": 14,
     "metadata": {},
     "output_type": "execute_result"
    }
   ],
   "source": [
    "artCult = pd.read_csv(\"G:/내 드라이브/취미/평일에_참여한_여가활동_만족도_문화예술_관람활동_20230519170721.csv\", encoding=\"cp949\")\n",
    "artCult.head()"
   ]
  },
  {
   "cell_type": "code",
   "execution_count": 15,
   "id": "eed6903b",
   "metadata": {},
   "outputs": [
    {
     "name": "stdout",
     "output_type": "stream",
     "text": [
      "    연도별     연령별 매우 불만족한다 불만족한다 다소 불만족한다 보통이다 다소 만족한다 만족한다 매우 만족한다\n",
      "4  2016  15~19세      0.0   0.0        0   27     115  209      36\n",
      "5  2016     20대      0.0   3.0        1   27     260  543      93\n",
      "6  2016     30대      0.0   0.0        2   42     231  449      83\n",
      "7  2016     40대      0.0   1.0        3   46     249  419      79\n",
      "8  2016     50대      0.0   0.0        1   26     156  315      63\n",
      "-*-*-*-*-*-*-*-*-*-*-*-*-\n",
      "     연도별      가구소득별 매우 불만족한다 불만족한다 다소 불만족한다 보통이다 다소 만족한다 만족한다 매우 만족한다\n",
      "34  2021  200~300만원        0   0.0        2   12      77  125      44\n",
      "35  2021  300~400만원        0   0.0        0   19      83  178      64\n",
      "36  2021  400~500만원        0   0.0        0   17     130  181      35\n",
      "37  2021  500~600만원        0   0.0        1   19     136  156      49\n",
      "38  2021   600만원 이상        0   0.0        0   35     155  255     103\n"
     ]
    }
   ],
   "source": [
    "artCult_age, artCult_inc = leisure_pretreat(artCult)\n",
    "print(artCult_age.head())\n",
    "print(\"-*-*-*-*-*-*-*-*-*-*-*-*-\")\n",
    "print(artCult_inc.tail())\n"
   ]
  },
  {
   "attachments": {},
   "cell_type": "markdown",
   "id": "72dbf783",
   "metadata": {},
   "source": [
    "## <font color=\"#FFD73C\"> 평일 여가 활동_사회 및 기타 </font>"
   ]
  },
  {
   "cell_type": "code",
   "execution_count": 16,
   "id": "f92ec5bd",
   "metadata": {},
   "outputs": [],
   "source": [
    "sc_etc = pd.read_csv(\"G:/내 드라이브/취미/평일에_참여한_여가활동_만족도_사회_및_기타활동_20230510093021.csv\", encoding=\"cp949\")"
   ]
  },
  {
   "cell_type": "code",
   "execution_count": 17,
   "id": "3d6fb750",
   "metadata": {},
   "outputs": [
    {
     "name": "stdout",
     "output_type": "stream",
     "text": [
      "    연도별     연령별 매우 불만족한다 불만족한다 다소불만족한다 보통이다 다소만족한다 만족한다 매우 만족한다\n",
      "4  2016  15~19세      0.0     2       2   42    201  364     130\n",
      "5  2016     20대      1.0     0       5   66    374  689     228\n",
      "6  2016     30대      1.0     1       3   97    474  749     219\n",
      "7  2016     40대      0.0     1       7  111    578  865     227\n",
      "8  2016     50대      0.0     0       1  103    495  861     293\n",
      "-*-*-*-*-*-*-*-*-*-*-*-\n",
      "     연도별      가구소득별 매우 불만족한다 불만족한다 다소불만족한다 보통이다 다소만족한다 만족한다 매우 만족한다\n",
      "34  2021  200~300만원      0.0     0       7  157    390  573     193\n",
      "35  2021  300~400만원      0.0     0       6  195    488  749     284\n",
      "36  2021  400~500만원      1.0     0       2  137    457  667     199\n",
      "37  2021  500~600만원      0.0     2       5  109    383  558     216\n",
      "38  2021   600만원 이상      0.0     0       1  114    518  659     293\n"
     ]
    }
   ],
   "source": [
    "sc_etc_age, sc_etc_inc = leisure_pretreat(sc_etc)\n",
    "print(sc_etc_age.head())\n",
    "print(\"-*-*-*-*-*-*-*-*-*-*-*-\")\n",
    "print(sc_etc_inc.tail())"
   ]
  },
  {
   "attachments": {},
   "cell_type": "markdown",
   "id": "f920551d",
   "metadata": {},
   "source": [
    "## <font color=\"#FFD73C\"> 평일 여가 활동_스포츠 참여 활동 </font>"
   ]
  },
  {
   "cell_type": "code",
   "execution_count": null,
   "id": "7eed1424",
   "metadata": {},
   "outputs": [],
   "source": [
    "doSports = pd.read_csv(\"G:/내 드라이브/취미/평일에_참여한_여가활동_만족도_스포츠_참여활동_20230510095111.csv\", encoding=\"cp949\")"
   ]
  },
  {
   "cell_type": "code",
   "execution_count": null,
   "id": "c67ac69b",
   "metadata": {},
   "outputs": [
    {
     "name": "stdout",
     "output_type": "stream",
     "text": [
      "    연도별     연령별 매우불만족한다 불만족 한다 다소불만족한다 보통이다 다소만족한다 만족한다 매우만족한다\n",
      "4  2016  15~19세     0.0      0       2   32    142  231     60\n",
      "5  2016     20대     0.0      0       3   49    244  467    138\n",
      "6  2016     30대     0.0      0       3   47    275  485    164\n",
      "7  2016     40대     1.0      2       9   56    309  497    180\n",
      "8  2016     50대     0.0      0       2   27    233  433    166\n",
      "-*-*-*-*-*-*-*-*-*-*-*-\n",
      "     연도별      가구소득별 매우불만족한다 불만족 한다 다소불만족한다 보통이다 다소만족한다 만족한다 매우만족한다\n",
      "34  2021  200~300만원     0.0      0       2   44    166  253    121\n",
      "35  2021  300~400만원     0.0      0       0   63    209  335    159\n",
      "36  2021  400~500만원     0.0      0       0   60    217  300    141\n",
      "37  2021  500~600만원     1.0      0       2   49    181  317    130\n",
      "38  2021   600만원 이상     0.0      0       2   40    220  376    254\n"
     ]
    }
   ],
   "source": [
    "doSports_age, doSports_inc = leisure_pretreat(doSpots)\n",
    "print(doSports_age.head())\n",
    "print(\"-*-*-*-*-*-*-*-*-*-*-*-\")\n",
    "print(doSports_inc.tail())"
   ]
  },
  {
   "attachments": {},
   "cell_type": "markdown",
   "id": "3756b8ca",
   "metadata": {},
   "source": [
    "## <font color=\"#FFD73C\"> 평일 여가 활동_취미 오락 활동 </font>"
   ]
  },
  {
   "cell_type": "code",
   "execution_count": 21,
   "id": "4a234d08",
   "metadata": {},
   "outputs": [],
   "source": [
    "games = pd.read_csv(\"G:/내 드라이브/취미/평일에_참여한_여가활동_만족도_취미・오락활동_20230510092915.csv\", encoding=\"cp949\")"
   ]
  },
  {
   "cell_type": "code",
   "execution_count": 22,
   "id": "3cec5bd1",
   "metadata": {},
   "outputs": [
    {
     "name": "stdout",
     "output_type": "stream",
     "text": [
      "    연도별     연령별 매우불만족한다 불만족 한다 다소불만족한다 보통이다 다소 만족한다 만족한다 매우만족한다\n",
      "4  2016  15~19세       0      0       1   42     237  370    148\n",
      "5  2016     20대       0      1       1   74     453  698    208\n",
      "6  2016     30대       1      0       6  112     530  806    178\n",
      "7  2016     40대       0      0      11  123     556  959    214\n",
      "8  2016     50대       1      0       7   77     563  948    211\n",
      "-*-*-*-*-*-*-*-*-*-*-*-\n",
      "     연도별      가구소득별 매우불만족한다 불만족 한다 다소불만족한다 보통이다 다소 만족한다 만족한다 매우만족한다\n",
      "34  2021  200~300만원       0      0       2  140     398  573    200\n",
      "35  2021  300~400만원       0      0       5  164     512  819    252\n",
      "36  2021  400~500만원       0      0       4  112     482  696    205\n",
      "37  2021  500~600만원       0      1       1  119     395  544    233\n",
      "38  2021   600만원 이상       0      0       0  137     499  677    338\n"
     ]
    }
   ],
   "source": [
    "games_age, games_inc = leisure_pretreat(games)\n",
    "print(games_age.head())\n",
    "print(\"-*-*-*-*-*-*-*-*-*-*-*-\")\n",
    "print(games_inc.tail())"
   ]
  },
  {
   "attachments": {},
   "cell_type": "markdown",
   "id": "cf2b3e0f",
   "metadata": {},
   "source": [
    "## 일과 여가 생활 균형_연습버전"
   ]
  },
  {
   "cell_type": "code",
   "execution_count": null,
   "id": "4b207f69",
   "metadata": {},
   "outputs": [],
   "source": [
    "leisure = pd.read_csv(\"G:/내 드라이브/취미/일과_여가생활_간_균형_20230510094439.csv\", encoding='cp949')\n",
    "# leisure.info()\n",
    "# leisure.head(10)"
   ]
  },
  {
   "cell_type": "code",
   "execution_count": null,
   "id": "5dc618ed",
   "metadata": {},
   "outputs": [],
   "source": [
    "leisure_T = leisure.T   # 행열 전환\n",
    "# leisure_T.head(5)"
   ]
  },
  {
   "cell_type": "code",
   "execution_count": null,
   "id": "d3b5bc2f",
   "metadata": {},
   "outputs": [],
   "source": [
    "leisure_T.replace(\"-\",0,inplace=True)"
   ]
  },
  {
   "cell_type": "code",
   "execution_count": null,
   "id": "aa4f58f8",
   "metadata": {},
   "outputs": [],
   "source": [
    "leis_uq = leisure.iloc[:,0].unique()\n",
    "leis_uq = leis_uq.tolist()   # ndarray -> list\n",
    "leis_uq = [re.sub(r\"\\(+.\\)\",\"\",uq.replace(\" \",\"_\")) for uq in leis_uq]  # 괄호와 괄호 안 글자, 공백 제거\n",
    "print(leis_uq)"
   ]
  },
  {
   "cell_type": "code",
   "execution_count": null,
   "id": "2d6f16f9",
   "metadata": {
    "scrolled": true
   },
   "outputs": [],
   "source": [
    "leisure_T.columns = leisure_T.iloc[0,:]\n",
    "# leisure_T.info()"
   ]
  },
  {
   "cell_type": "code",
   "execution_count": null,
   "id": "e786e0a5",
   "metadata": {},
   "outputs": [],
   "source": [
    "columns_nospace = [re.sub(r\"\\(+.\\)\", \"\", col.replace(\" \",\"_\")) for col in leisure_T.columns]"
   ]
  },
  {
   "cell_type": "code",
   "execution_count": null,
   "id": "1f46427d",
   "metadata": {},
   "outputs": [],
   "source": [
    "leisure_T.columns = columns_nospace\n",
    "print(leisure_T.columns)"
   ]
  },
  {
   "cell_type": "code",
   "execution_count": null,
   "id": "58c99f3e",
   "metadata": {},
   "outputs": [],
   "source": [
    "# 통계 분류별로 데이터 프레임 분류\n",
    "\n",
    "for cat in leis_uq : \n",
    "    globals()[\"leisure_{}\".format(cat)] = leisure_T[cat]\n",
    "    \n",
    "    if type(globals()[\"leisure_{}\".format(cat)]) == pd.core.series.Series :   # type이 시리즈라면\n",
    "        globals()[\"leisure_{}\".format(cat)] = pd.DataFrame(globals()[\"leisure_{}\".format(cat)])   # 시리즈를 데이터프레임으로 변경\n",
    "        \n",
    "    globals()[\"leisure_{}\".format(cat)].columns = globals()[\"leisure_{}\".format(cat)].iloc[1,:]\n",
    "    globals()[\"leisure_{}\".format(cat)] = globals()[\"leisure_{}\".format(cat)].iloc[2:,:]\n",
    "    globals()[\"leisure_{}\".format(cat)].iloc[:,1:] = globals()[\"leisure_{}\".format(cat)].iloc[:,1:].astype(float)"
   ]
  },
  {
   "cell_type": "code",
   "execution_count": null,
   "id": "ebff879b",
   "metadata": {},
   "outputs": [],
   "source": [
    "leis_uq2 = leis_uq[1:]\n",
    "print(leis_uq2)"
   ]
  },
  {
   "cell_type": "code",
   "execution_count": null,
   "id": "f8d40c29",
   "metadata": {},
   "outputs": [],
   "source": [
    "for uq2 in leis_uq2 : \n",
    "    globals()[\"leis_{0}_{1}\".format(uq2, \"합본\")] = pd.concat([leisure_통계분류, globals()[\"leisure_{}\".format(uq2)]],axis=1)"
   ]
  },
  {
   "cell_type": "code",
   "execution_count": null,
   "id": "6a9456f2",
   "metadata": {},
   "outputs": [],
   "source": [
    "for uniq in leis_uq2 : \n",
    "    idx_List = globals()[\"leis_{0}_{1}\".format(uniq, \"합본\")].index.to_list()   # 분리된 데이터프레임 인덱스 리스트로 반환\n",
    "    \n",
    "    for yr in year_List : \n",
    "        sep_year = []    # 정규표현식에 만족하는 인덱스를 저장할 리스트\n",
    "        \n",
    "        for idx in idx_List :\n",
    "            find_yr = re.findall(str(yr)+\"[.0-9]*\",idx)     # 연도 + '.' or 숫자 1개 이상 포함돼 있는 인덱스 저장 \n",
    "\n",
    "            if find_yr:      # 빈 리스트가 아니라면 (findall은 조건에 안 맞으면 빈 리스트 반환)\n",
    "                sep_year.append(find_yr[0])\n",
    "\n",
    "        Last_idx = len(sep_year)\n",
    "        globals()[\"leis_{0}_{1}\".format(uniq, str(yr))] = globals()[\"leis_{0}_{1}\".format(uniq, \"합본\")][:][sep_year[0]:sep_year[Last_idx-1]]    # 행 인덱스로 슬라이싱, 행 인덱스로 슬라이싱할 때 콜론 뒤 값을 포함해서 슬라이싱한다.\n",
    "        pattern = str(yr) + r'[.0-9]*'\n",
    "        new_index = globals()[\"leis_{0}_{1}\".format(uniq, str(yr))].index.map(lambda x: re.sub(pattern, str(yr), x))   # map 함수를 이용해 인덱스마다 정규 표현식 sub를 적용\n",
    "        globals()[\"leis_{0}_{1}\".format(uniq, str(yr))].index = new_index\n",
    "        globals()[\"leis_{0}_{1}\".format(uniq, str(yr))].index = globals()[\"leis_{0}_{1}\".format(uniq, str(yr))].index.astype(int)   # 인덱스를 int 타입으로\n",
    "        globals()[\"leis_{0}_{1}\".format(uniq, str(yr))].rename(columns={\"통계분류(2)\" : \"분류\"}, inplace=True)   # 컬럼명 변경\n",
    "        globals()[\"leis_{0}_{1}\".format(uniq, str(yr))] = globals()[\"leis_{0}_{1}\".format(uniq, str(yr))].reset_index()   # reset_index\n",
    "        globals()[\"leis_{0}_{1}\".format(uniq, str(yr))].rename(columns={\"index\" : \"연도\"}, inplace=True)    # 인덱스가 컬럼으로 바뀌고, 그 컬럼명을 변경\n",
    "        globals()[\"leis_{0}_{1}\".format(uniq, str(yr))] = globals()[\"leis_{0}_{1}\".format(uniq, str(yr))].set_index([\"연도\",\"분류\"])   # 멀티 인덱스 설정\n",
    "\n",
    "\n",
    "# 전체 -> 리스트 중에서 2016년이면 리스트에 저장 -> 리스트에 저장된 첫번째와 마지막 인덱스로 슬라이싱 -> 새로운 데이터 프레임 생성"
   ]
  },
  {
   "cell_type": "code",
   "execution_count": null,
   "id": "cdcbf68a",
   "metadata": {},
   "outputs": [],
   "source": [
    "leis_17개_시도별_2016_T = leis_17개_시도별_2016.T\n",
    "leis_17개_시도별_2016_T.head(10)"
   ]
  },
  {
   "cell_type": "code",
   "execution_count": null,
   "id": "da370d4e",
   "metadata": {},
   "outputs": [],
   "source": [
    "df = leis_17개_시도별_2016_T.stack(level=0)\n",
    "pd.DataFrame(df)\n"
   ]
  },
  {
   "cell_type": "code",
   "execution_count": null,
   "id": "f03fbe10",
   "metadata": {},
   "outputs": [],
   "source": [
    "pd.concat([leis_17개_시도별_2016, leis_가구소득별_2016],axis=1)"
   ]
  }
 ],
 "metadata": {
  "kernelspec": {
   "display_name": "Python 3 (ipykernel)",
   "language": "python",
   "name": "python3"
  },
  "language_info": {
   "codemirror_mode": {
    "name": "ipython",
    "version": 3
   },
   "file_extension": ".py",
   "mimetype": "text/x-python",
   "name": "python",
   "nbconvert_exporter": "python",
   "pygments_lexer": "ipython3",
   "version": "3.10.9"
  }
 },
 "nbformat": 4,
 "nbformat_minor": 5
}
