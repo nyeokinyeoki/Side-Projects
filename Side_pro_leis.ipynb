{
 "cells": [
  {
   "cell_type": "code",
   "execution_count": 2,
   "id": "facb3891",
   "metadata": {},
   "outputs": [],
   "source": [
    "import pandas as pd\n",
    "import numpy as np\n",
    "import re"
   ]
  },
  {
   "attachments": {},
   "cell_type": "markdown",
   "id": "e3baed34",
   "metadata": {},
   "source": [
    "# 여가 관련 자료"
   ]
  },
  {
   "attachments": {},
   "cell_type": "markdown",
   "id": "cf2b3e0f",
   "metadata": {},
   "source": [
    "## 일과 여가 생활 균형"
   ]
  },
  {
   "cell_type": "code",
   "execution_count": 3,
   "id": "4b207f69",
   "metadata": {},
   "outputs": [],
   "source": [
    "leisure = pd.read_csv(\"G:/내 드라이브/취미/일과_여가생활_간_균형_20230510094439.csv\", encoding='cp949')\n",
    "# leisure.info()\n",
    "# leisure.head(10)"
   ]
  },
  {
   "cell_type": "code",
   "execution_count": 4,
   "id": "5dc618ed",
   "metadata": {},
   "outputs": [],
   "source": [
    "leisure_T = leisure.T   # 행열 전환\n",
    "# leisure_T.head(5)"
   ]
  },
  {
   "cell_type": "code",
   "execution_count": 5,
   "id": "aa4f58f8",
   "metadata": {},
   "outputs": [
    {
     "name": "stdout",
     "output_type": "stream",
     "text": [
      "['통계분류', '전체', '성별', '연령별', '학력별', '동거가구원수별', '혼인상태별', '가구주여부별', '종사자지위별', '가구소득별', '지역규모별', '권역별', '17개_시도별', '장애여부별']\n"
     ]
    }
   ],
   "source": [
    "leis_uq = leisure.iloc[:,0].unique()\n",
    "leis_uq = leis_uq.tolist()   # ndarray -> list\n",
    "leis_uq = [re.sub(r\"\\(+.\\)\",\"\",uq.replace(\" \",\"_\")) for uq in leis_uq]  # 괄호와 괄호 안 글자, 공백 제거\n",
    "print(leis_uq)"
   ]
  },
  {
   "cell_type": "code",
   "execution_count": 6,
   "id": "2d6f16f9",
   "metadata": {
    "scrolled": true
   },
   "outputs": [],
   "source": [
    "leisure_T.columns = leisure_T.iloc[0,:]\n",
    "# leisure_T.info()"
   ]
  },
  {
   "cell_type": "code",
   "execution_count": 7,
   "id": "e786e0a5",
   "metadata": {},
   "outputs": [],
   "source": [
    "columns_nospace = [re.sub(r\"\\(+.\\)\", \"\", col.replace(\" \",\"_\")) for col in leisure_T.columns]"
   ]
  },
  {
   "cell_type": "code",
   "execution_count": 8,
   "id": "1f46427d",
   "metadata": {},
   "outputs": [
    {
     "name": "stdout",
     "output_type": "stream",
     "text": [
      "Index(['통계분류', '전체', '성별', '성별', '연령별', '연령별', '연령별', '연령별', '연령별', '연령별',\n",
      "       '연령별', '학력별', '학력별', '학력별', '학력별', '동거가구원수별', '동거가구원수별', '동거가구원수별',\n",
      "       '혼인상태별', '혼인상태별', '혼인상태별', '가구주여부별', '가구주여부별', '종사자지위별', '종사자지위별',\n",
      "       '종사자지위별', '종사자지위별', '종사자지위별', '종사자지위별', '종사자지위별', '종사자지위별', '종사자지위별',\n",
      "       '가구소득별', '가구소득별', '가구소득별', '가구소득별', '가구소득별', '가구소득별', '가구소득별', '지역규모별',\n",
      "       '지역규모별', '지역규모별', '권역별', '권역별', '권역별', '권역별', '권역별', '권역별', '17개_시도별',\n",
      "       '17개_시도별', '17개_시도별', '17개_시도별', '17개_시도별', '17개_시도별', '17개_시도별',\n",
      "       '17개_시도별', '17개_시도별', '17개_시도별', '17개_시도별', '17개_시도별', '17개_시도별',\n",
      "       '17개_시도별', '17개_시도별', '17개_시도별', '17개_시도별', '장애여부별', '장애여부별', '장애여부별'],\n",
      "      dtype='object')\n"
     ]
    }
   ],
   "source": [
    "leisure_T.columns = columns_nospace\n",
    "print(leisure_T.columns)"
   ]
  },
  {
   "cell_type": "code",
   "execution_count": 9,
   "id": "58c99f3e",
   "metadata": {},
   "outputs": [],
   "source": [
    "# 통계 분류별로 데이터 프레임 분류\n",
    "\n",
    "for cat in leis_uq : \n",
    "    globals()[\"leisure_{}\".format(cat)] = leisure_T[cat]\n",
    "    \n",
    "    if type(globals()[\"leisure_{}\".format(cat)]) == pd.core.series.Series :   # type이 시리즈라면\n",
    "        globals()[\"leisure_{}\".format(cat)] = pd.DataFrame(globals()[\"leisure_{}\".format(cat)])   # 시리즈를 데이터프레임으로 변경\n",
    "        \n",
    "    globals()[\"leisure_{}\".format(cat)].columns = globals()[\"leisure_{}\".format(cat)].iloc[1,:]\n",
    "    globals()[\"leisure_{}\".format(cat)] = globals()[\"leisure_{}\".format(cat)].iloc[2:,:]"
   ]
  },
  {
   "cell_type": "code",
   "execution_count": 10,
   "id": "ebff879b",
   "metadata": {},
   "outputs": [
    {
     "name": "stdout",
     "output_type": "stream",
     "text": [
      "['전체', '성별', '연령별', '학력별', '동거가구원수별', '혼인상태별', '가구주여부별', '종사자지위별', '가구소득별', '지역규모별', '권역별', '17개_시도별', '장애여부별']\n"
     ]
    }
   ],
   "source": [
    "leis_uq2 = leis_uq[1:]\n",
    "print(leis_uq2)"
   ]
  },
  {
   "cell_type": "code",
   "execution_count": 11,
   "id": "f8d40c29",
   "metadata": {},
   "outputs": [],
   "source": [
    "for uq2 in leis_uq2 : \n",
    "    globals()[\"leis_{0}_{1}\".format(uq2, \"합본\")] = pd.concat([leisure_통계분류, globals()[\"leisure_{}\".format(uq2)]],axis=1)"
   ]
  },
  {
   "cell_type": "code",
   "execution_count": 12,
   "id": "0272c34c",
   "metadata": {},
   "outputs": [
    {
     "data": {
      "text/html": [
       "<div>\n",
       "<style scoped>\n",
       "    .dataframe tbody tr th:only-of-type {\n",
       "        vertical-align: middle;\n",
       "    }\n",
       "\n",
       "    .dataframe tbody tr th {\n",
       "        vertical-align: top;\n",
       "    }\n",
       "\n",
       "    .dataframe thead th {\n",
       "        text-align: right;\n",
       "    }\n",
       "</style>\n",
       "<table border=\"1\" class=\"dataframe\">\n",
       "  <thead>\n",
       "    <tr style=\"text-align: right;\">\n",
       "      <th>통계분류(2)</th>\n",
       "      <th>통계분류(2)</th>\n",
       "      <th>1인</th>\n",
       "      <th>2인</th>\n",
       "      <th>3인이상</th>\n",
       "    </tr>\n",
       "  </thead>\n",
       "  <tbody>\n",
       "    <tr>\n",
       "      <th>2016</th>\n",
       "      <td>표본수</td>\n",
       "      <td>1178</td>\n",
       "      <td>2452</td>\n",
       "      <td>6972</td>\n",
       "    </tr>\n",
       "    <tr>\n",
       "      <th>2016.1</th>\n",
       "      <td>일에 더 집중하고있다</td>\n",
       "      <td>1.3</td>\n",
       "      <td>1.5</td>\n",
       "      <td>1.7</td>\n",
       "    </tr>\n",
       "    <tr>\n",
       "      <th>2016.2</th>\n",
       "      <td>일에 조금 더 집중하고 있다</td>\n",
       "      <td>6.3</td>\n",
       "      <td>7.3</td>\n",
       "      <td>9</td>\n",
       "    </tr>\n",
       "    <tr>\n",
       "      <th>2016.3</th>\n",
       "      <td>다소 일에 집중하고 있다</td>\n",
       "      <td>16.3</td>\n",
       "      <td>16.2</td>\n",
       "      <td>21.6</td>\n",
       "    </tr>\n",
       "    <tr>\n",
       "      <th>2016.4</th>\n",
       "      <td>균형을 이루고 있다</td>\n",
       "      <td>34.7</td>\n",
       "      <td>35</td>\n",
       "      <td>35.6</td>\n",
       "    </tr>\n",
       "  </tbody>\n",
       "</table>\n",
       "</div>"
      ],
      "text/plain": [
       "통계분류(2)          통계분류(2)    1인    2인  3인이상\n",
       "2016                 표본수  1178  2452  6972\n",
       "2016.1       일에 더 집중하고있다   1.3   1.5   1.7\n",
       "2016.2   일에 조금 더 집중하고 있다   6.3   7.3     9\n",
       "2016.3     다소 일에 집중하고 있다  16.3  16.2  21.6\n",
       "2016.4        균형을 이루고 있다  34.7    35  35.6"
      ]
     },
     "execution_count": 12,
     "metadata": {},
     "output_type": "execute_result"
    }
   ],
   "source": [
    "leis_동거가구원수별_합본.head(5)"
   ]
  },
  {
   "cell_type": "code",
   "execution_count": 13,
   "id": "cb6b41d7",
   "metadata": {},
   "outputs": [
    {
     "data": {
      "text/html": [
       "<div>\n",
       "<style scoped>\n",
       "    .dataframe tbody tr th:only-of-type {\n",
       "        vertical-align: middle;\n",
       "    }\n",
       "\n",
       "    .dataframe tbody tr th {\n",
       "        vertical-align: top;\n",
       "    }\n",
       "\n",
       "    .dataframe thead th {\n",
       "        text-align: right;\n",
       "    }\n",
       "</style>\n",
       "<table border=\"1\" class=\"dataframe\">\n",
       "  <thead>\n",
       "    <tr style=\"text-align: right;\">\n",
       "      <th>통계분류(2)</th>\n",
       "      <th>통계분류(2)</th>\n",
       "      <th>100만원 미만</th>\n",
       "      <th>100~200만원</th>\n",
       "      <th>200~300만원</th>\n",
       "      <th>300~400만원</th>\n",
       "      <th>400~500만원</th>\n",
       "      <th>500~600만원</th>\n",
       "      <th>600만원 이상</th>\n",
       "    </tr>\n",
       "  </thead>\n",
       "  <tbody>\n",
       "    <tr>\n",
       "      <th>2016</th>\n",
       "      <td>표본수</td>\n",
       "      <td>861</td>\n",
       "      <td>1075</td>\n",
       "      <td>1594</td>\n",
       "      <td>2437</td>\n",
       "      <td>2231</td>\n",
       "      <td>1356</td>\n",
       "      <td>1048</td>\n",
       "    </tr>\n",
       "    <tr>\n",
       "      <th>2016.1</th>\n",
       "      <td>일에 더 집중하고있다</td>\n",
       "      <td>0.9</td>\n",
       "      <td>1.5</td>\n",
       "      <td>2.5</td>\n",
       "      <td>1.2</td>\n",
       "      <td>1.4</td>\n",
       "      <td>1.7</td>\n",
       "      <td>2.1</td>\n",
       "    </tr>\n",
       "    <tr>\n",
       "      <th>2016.2</th>\n",
       "      <td>일에 조금 더 집중하고 있다</td>\n",
       "      <td>4.2</td>\n",
       "      <td>8.1</td>\n",
       "      <td>10.3</td>\n",
       "      <td>9.1</td>\n",
       "      <td>8.5</td>\n",
       "      <td>8.1</td>\n",
       "      <td>8.6</td>\n",
       "    </tr>\n",
       "    <tr>\n",
       "      <th>2016.3</th>\n",
       "      <td>다소 일에 집중하고 있다</td>\n",
       "      <td>12.2</td>\n",
       "      <td>14.1</td>\n",
       "      <td>19.2</td>\n",
       "      <td>22.1</td>\n",
       "      <td>21</td>\n",
       "      <td>22.4</td>\n",
       "      <td>21.6</td>\n",
       "    </tr>\n",
       "    <tr>\n",
       "      <th>2016.4</th>\n",
       "      <td>균형을 이루고 있다</td>\n",
       "      <td>31</td>\n",
       "      <td>35.3</td>\n",
       "      <td>32.4</td>\n",
       "      <td>36.5</td>\n",
       "      <td>36.3</td>\n",
       "      <td>37.1</td>\n",
       "      <td>34.8</td>\n",
       "    </tr>\n",
       "  </tbody>\n",
       "</table>\n",
       "</div>"
      ],
      "text/plain": [
       "통계분류(2)          통계분류(2) 100만원 미만 100~200만원 200~300만원 300~400만원 400~500만원  \\\n",
       "2016                 표본수      861      1075      1594      2437      2231   \n",
       "2016.1       일에 더 집중하고있다      0.9       1.5       2.5       1.2       1.4   \n",
       "2016.2   일에 조금 더 집중하고 있다      4.2       8.1      10.3       9.1       8.5   \n",
       "2016.3     다소 일에 집중하고 있다     12.2      14.1      19.2      22.1        21   \n",
       "2016.4        균형을 이루고 있다       31      35.3      32.4      36.5      36.3   \n",
       "\n",
       "통계분류(2) 500~600만원 600만원 이상  \n",
       "2016         1356     1048  \n",
       "2016.1        1.7      2.1  \n",
       "2016.2        8.1      8.6  \n",
       "2016.3       22.4     21.6  \n",
       "2016.4       37.1     34.8  "
      ]
     },
     "execution_count": 13,
     "metadata": {},
     "output_type": "execute_result"
    }
   ],
   "source": [
    "leis_가구소득별_합본.head(5)"
   ]
  },
  {
   "cell_type": "code",
   "execution_count": 14,
   "id": "f3bddf3b",
   "metadata": {},
   "outputs": [
    {
     "data": {
      "text/html": [
       "<div>\n",
       "<style scoped>\n",
       "    .dataframe tbody tr th:only-of-type {\n",
       "        vertical-align: middle;\n",
       "    }\n",
       "\n",
       "    .dataframe tbody tr th {\n",
       "        vertical-align: top;\n",
       "    }\n",
       "\n",
       "    .dataframe thead th {\n",
       "        text-align: right;\n",
       "    }\n",
       "</style>\n",
       "<table border=\"1\" class=\"dataframe\">\n",
       "  <thead>\n",
       "    <tr style=\"text-align: right;\">\n",
       "      <th>통계분류(2)</th>\n",
       "      <th>통계분류(2)</th>\n",
       "      <th>소계</th>\n",
       "    </tr>\n",
       "  </thead>\n",
       "  <tbody>\n",
       "    <tr>\n",
       "      <th>2016</th>\n",
       "      <td>표본수</td>\n",
       "      <td>10602</td>\n",
       "    </tr>\n",
       "    <tr>\n",
       "      <th>2016.1</th>\n",
       "      <td>일에 더 집중하고있다</td>\n",
       "      <td>1.6</td>\n",
       "    </tr>\n",
       "    <tr>\n",
       "      <th>2016.2</th>\n",
       "      <td>일에 조금 더 집중하고 있다</td>\n",
       "      <td>8.6</td>\n",
       "    </tr>\n",
       "    <tr>\n",
       "      <th>2016.3</th>\n",
       "      <td>다소 일에 집중하고 있다</td>\n",
       "      <td>20.4</td>\n",
       "    </tr>\n",
       "    <tr>\n",
       "      <th>2016.4</th>\n",
       "      <td>균형을 이루고 있다</td>\n",
       "      <td>35.5</td>\n",
       "    </tr>\n",
       "  </tbody>\n",
       "</table>\n",
       "</div>"
      ],
      "text/plain": [
       "통계분류(2)          통계분류(2)     소계\n",
       "2016                 표본수  10602\n",
       "2016.1       일에 더 집중하고있다    1.6\n",
       "2016.2   일에 조금 더 집중하고 있다    8.6\n",
       "2016.3     다소 일에 집중하고 있다   20.4\n",
       "2016.4        균형을 이루고 있다   35.5"
      ]
     },
     "execution_count": 14,
     "metadata": {},
     "output_type": "execute_result"
    }
   ],
   "source": [
    "leis_전체_합본.head()"
   ]
  },
  {
   "cell_type": "code",
   "execution_count": 15,
   "id": "40e112eb",
   "metadata": {},
   "outputs": [],
   "source": [
    "## 연도 리스트\n",
    "year_List = [2016,2018,2019,2020,2021]"
   ]
  },
  {
   "cell_type": "code",
   "execution_count": 18,
   "id": "f48730b4",
   "metadata": {},
   "outputs": [
    {
     "data": {
      "text/plain": [
       "Index(['2016', '2016.1', '2016.2', '2016.3', '2016.4', '2016.5', '2016.6',\n",
       "       '2016.7', '2018', '2018.1', '2018.2', '2018.3', '2018.4', '2018.5',\n",
       "       '2018.6', '2018.7', '2019', '2019.1', '2019.2', '2019.3', '2019.4',\n",
       "       '2019.5', '2019.6', '2019.7', '2020', '2020.1', '2020.2', '2020.3',\n",
       "       '2020.4', '2020.5', '2020.6', '2020.7', '2021', '2021.1', '2021.2',\n",
       "       '2021.3', '2021.4', '2021.5', '2021.6', '2021.7'],\n",
       "      dtype='object')"
      ]
     },
     "execution_count": 18,
     "metadata": {},
     "output_type": "execute_result"
    }
   ],
   "source": [
    "leis_17개_시도별_합본.index"
   ]
  },
  {
   "cell_type": "code",
   "execution_count": 19,
   "id": "b43f68d7",
   "metadata": {},
   "outputs": [
    {
     "data": {
      "text/html": [
       "<div>\n",
       "<style scoped>\n",
       "    .dataframe tbody tr th:only-of-type {\n",
       "        vertical-align: middle;\n",
       "    }\n",
       "\n",
       "    .dataframe tbody tr th {\n",
       "        vertical-align: top;\n",
       "    }\n",
       "\n",
       "    .dataframe thead th {\n",
       "        text-align: right;\n",
       "    }\n",
       "</style>\n",
       "<table border=\"1\" class=\"dataframe\">\n",
       "  <thead>\n",
       "    <tr style=\"text-align: right;\">\n",
       "      <th>통계분류(2)</th>\n",
       "      <th>통계분류(2)</th>\n",
       "      <th>서울</th>\n",
       "      <th>부산</th>\n",
       "      <th>대구</th>\n",
       "      <th>인천</th>\n",
       "      <th>광주</th>\n",
       "      <th>대전</th>\n",
       "      <th>울산</th>\n",
       "      <th>세종</th>\n",
       "      <th>경기</th>\n",
       "      <th>강원</th>\n",
       "      <th>충북</th>\n",
       "      <th>충남</th>\n",
       "      <th>전북</th>\n",
       "      <th>전남</th>\n",
       "      <th>경북</th>\n",
       "      <th>경남</th>\n",
       "      <th>제주</th>\n",
       "    </tr>\n",
       "  </thead>\n",
       "  <tbody>\n",
       "    <tr>\n",
       "      <th>2016</th>\n",
       "      <td>표본수</td>\n",
       "      <td>1257</td>\n",
       "      <td>751</td>\n",
       "      <td>633</td>\n",
       "      <td>675</td>\n",
       "      <td>492</td>\n",
       "      <td>501</td>\n",
       "      <td>426</td>\n",
       "      <td>175</td>\n",
       "      <td>1357</td>\n",
       "      <td>462</td>\n",
       "      <td>512</td>\n",
       "      <td>590</td>\n",
       "      <td>551</td>\n",
       "      <td>532</td>\n",
       "      <td>669</td>\n",
       "      <td>719</td>\n",
       "      <td>300</td>\n",
       "    </tr>\n",
       "    <tr>\n",
       "      <th>2016.1</th>\n",
       "      <td>일에 더 집중하고있다</td>\n",
       "      <td>0.7</td>\n",
       "      <td>2.2</td>\n",
       "      <td>0.8</td>\n",
       "      <td>1</td>\n",
       "      <td>2</td>\n",
       "      <td>1.8</td>\n",
       "      <td>1.5</td>\n",
       "      <td>0.5</td>\n",
       "      <td>0.8</td>\n",
       "      <td>6.1</td>\n",
       "      <td>1.3</td>\n",
       "      <td>1.6</td>\n",
       "      <td>5.1</td>\n",
       "      <td>3</td>\n",
       "      <td>2.2</td>\n",
       "      <td>1.4</td>\n",
       "      <td>10.8</td>\n",
       "    </tr>\n",
       "    <tr>\n",
       "      <th>2016.2</th>\n",
       "      <td>일에 조금 더 집중하고 있다</td>\n",
       "      <td>7.5</td>\n",
       "      <td>7.9</td>\n",
       "      <td>6</td>\n",
       "      <td>3.4</td>\n",
       "      <td>7.4</td>\n",
       "      <td>10.5</td>\n",
       "      <td>12.7</td>\n",
       "      <td>4.5</td>\n",
       "      <td>7.8</td>\n",
       "      <td>10.4</td>\n",
       "      <td>6.3</td>\n",
       "      <td>11.4</td>\n",
       "      <td>20.3</td>\n",
       "      <td>11.1</td>\n",
       "      <td>13.2</td>\n",
       "      <td>5.1</td>\n",
       "      <td>20.9</td>\n",
       "    </tr>\n",
       "  </tbody>\n",
       "</table>\n",
       "</div>"
      ],
      "text/plain": [
       "통계분류(2)          통계분류(2)    서울   부산   대구   인천   광주    대전    울산   세종    경기  \\\n",
       "2016                 표본수  1257  751  633  675  492   501   426  175  1357   \n",
       "2016.1       일에 더 집중하고있다   0.7  2.2  0.8    1    2   1.8   1.5  0.5   0.8   \n",
       "2016.2   일에 조금 더 집중하고 있다   7.5  7.9    6  3.4  7.4  10.5  12.7  4.5   7.8   \n",
       "\n",
       "통계분류(2)    강원   충북    충남    전북    전남    경북   경남    제주  \n",
       "2016      462  512   590   551   532   669  719   300  \n",
       "2016.1    6.1  1.3   1.6   5.1     3   2.2  1.4  10.8  \n",
       "2016.2   10.4  6.3  11.4  20.3  11.1  13.2  5.1  20.9  "
      ]
     },
     "execution_count": 19,
     "metadata": {},
     "output_type": "execute_result"
    }
   ],
   "source": [
    "leis_17개_시도별_합본[:]['2016':'2016.2']"
   ]
  },
  {
   "cell_type": "code",
   "execution_count": 21,
   "id": "867d9c3f",
   "metadata": {},
   "outputs": [
    {
     "name": "stdout",
     "output_type": "stream",
     "text": [
      "<class 'str'>\n",
      "<class 'str'>\n"
     ]
    }
   ],
   "source": [
    "# test1 = '2016.1'\n",
    "\n",
    "# # split_list = re.split(r\"[.]\", test1)\n",
    "# split_list = test1.split()\n",
    "\n",
    "# for i in split_list : \n",
    "#     print(type(i))"
   ]
  }
 ],
 "metadata": {
  "kernelspec": {
   "display_name": "Python 3 (ipykernel)",
   "language": "python",
   "name": "python3"
  },
  "language_info": {
   "codemirror_mode": {
    "name": "ipython",
    "version": 3
   },
   "file_extension": ".py",
   "mimetype": "text/x-python",
   "name": "python",
   "nbconvert_exporter": "python",
   "pygments_lexer": "ipython3",
   "version": "3.10.9"
  }
 },
 "nbformat": 4,
 "nbformat_minor": 5
}
