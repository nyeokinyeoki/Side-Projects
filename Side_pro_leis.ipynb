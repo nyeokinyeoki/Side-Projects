{
 "cells": [
  {
   "cell_type": "code",
   "execution_count": null,
   "id": "facb3891",
   "metadata": {},
   "outputs": [],
   "source": [
    "import pandas as pd\n",
    "import numpy as np\n",
    "import re"
   ]
  },
  {
   "attachments": {},
   "cell_type": "markdown",
   "id": "e3baed34",
   "metadata": {},
   "source": [
    "# 여가 관련 자료"
   ]
  },
  {
   "attachments": {},
   "cell_type": "markdown",
   "id": "cf2b3e0f",
   "metadata": {},
   "source": [
    "## 일과 여가 생활 균형"
   ]
  },
  {
   "cell_type": "code",
   "execution_count": null,
   "id": "4b207f69",
   "metadata": {},
   "outputs": [],
   "source": [
    "leisure = pd.read_csv(\"G:/내 드라이브/취미/일과_여가생활_간_균형_20230510094439.csv\", encoding='cp949')\n",
    "# leisure.info()\n",
    "# leisure.head(10)"
   ]
  },
  {
   "cell_type": "code",
   "execution_count": null,
   "id": "5dc618ed",
   "metadata": {},
   "outputs": [],
   "source": [
    "leisure_T = leisure.T   # 행열 전환\n",
    "# leisure_T.head(5)"
   ]
  },
  {
   "cell_type": "code",
   "execution_count": null,
   "id": "d3b5bc2f",
   "metadata": {},
   "outputs": [],
   "source": [
    "leisure_T.replace(\"-\",0,inplace=True)"
   ]
  },
  {
   "cell_type": "code",
   "execution_count": null,
   "id": "aa4f58f8",
   "metadata": {},
   "outputs": [],
   "source": [
    "leis_uq = leisure.iloc[:,0].unique()\n",
    "leis_uq = leis_uq.tolist()   # ndarray -> list\n",
    "leis_uq = [re.sub(r\"\\(+.\\)\",\"\",uq.replace(\" \",\"_\")) for uq in leis_uq]  # 괄호와 괄호 안 글자, 공백 제거\n",
    "print(leis_uq)"
   ]
  },
  {
   "cell_type": "code",
   "execution_count": null,
   "id": "2d6f16f9",
   "metadata": {
    "scrolled": true
   },
   "outputs": [],
   "source": [
    "leisure_T.columns = leisure_T.iloc[0,:]\n",
    "# leisure_T.info()"
   ]
  },
  {
   "cell_type": "code",
   "execution_count": null,
   "id": "e786e0a5",
   "metadata": {},
   "outputs": [],
   "source": [
    "columns_nospace = [re.sub(r\"\\(+.\\)\", \"\", col.replace(\" \",\"_\")) for col in leisure_T.columns]"
   ]
  },
  {
   "cell_type": "code",
   "execution_count": null,
   "id": "1f46427d",
   "metadata": {},
   "outputs": [],
   "source": [
    "leisure_T.columns = columns_nospace\n",
    "print(leisure_T.columns)"
   ]
  },
  {
   "cell_type": "code",
   "execution_count": null,
   "id": "58c99f3e",
   "metadata": {},
   "outputs": [],
   "source": [
    "# 통계 분류별로 데이터 프레임 분류\n",
    "\n",
    "for cat in leis_uq : \n",
    "    globals()[\"leisure_{}\".format(cat)] = leisure_T[cat]\n",
    "    \n",
    "    if type(globals()[\"leisure_{}\".format(cat)]) == pd.core.series.Series :   # type이 시리즈라면\n",
    "        globals()[\"leisure_{}\".format(cat)] = pd.DataFrame(globals()[\"leisure_{}\".format(cat)])   # 시리즈를 데이터프레임으로 변경\n",
    "        \n",
    "    globals()[\"leisure_{}\".format(cat)].columns = globals()[\"leisure_{}\".format(cat)].iloc[1,:]\n",
    "    globals()[\"leisure_{}\".format(cat)] = globals()[\"leisure_{}\".format(cat)].iloc[2:,:]\n",
    "    globals()[\"leisure_{}\".format(cat)].iloc[:,1:] = globals()[\"leisure_{}\".format(cat)].iloc[:,1:].astype(float)"
   ]
  },
  {
   "cell_type": "code",
   "execution_count": null,
   "id": "ebff879b",
   "metadata": {},
   "outputs": [],
   "source": [
    "leis_uq2 = leis_uq[1:]\n",
    "print(leis_uq2)"
   ]
  },
  {
   "cell_type": "code",
   "execution_count": null,
   "id": "f8d40c29",
   "metadata": {},
   "outputs": [],
   "source": [
    "for uq2 in leis_uq2 : \n",
    "    globals()[\"leis_{0}_{1}\".format(uq2, \"합본\")] = pd.concat([leisure_통계분류, globals()[\"leisure_{}\".format(uq2)]],axis=1)"
   ]
  },
  {
   "cell_type": "code",
   "execution_count": null,
   "id": "40e112eb",
   "metadata": {},
   "outputs": [],
   "source": [
    "## 연도 리스트\n",
    "year_List = [2016,2018,2019,2020,2021]"
   ]
  },
  {
   "cell_type": "code",
   "execution_count": null,
   "id": "6a9456f2",
   "metadata": {},
   "outputs": [],
   "source": [
    "for uniq in leis_uq2 : \n",
    "    idx_List = globals()[\"leis_{0}_{1}\".format(uniq, \"합본\")].index.to_list()   # 분리된 데이터프레임 인덱스 리스트로 반환\n",
    "    \n",
    "    for yr in year_List : \n",
    "        sep_year = []    # 정규표현식에 만족하는 인덱스를 저장할 리스트\n",
    "        \n",
    "        for idx in idx_List :\n",
    "            find_yr = re.findall(str(yr)+\"[.0-9]*\",idx)     # 연도 + '.' or 숫자 1개 이상 포함돼 있는 인덱스 저장 \n",
    "\n",
    "            if find_yr:      # 빈 리스트가 아니라면 (findall은 조건에 안 맞으면 빈 리스트 반환)\n",
    "                sep_year.append(find_yr[0])\n",
    "\n",
    "        Last_idx = len(sep_year)\n",
    "        globals()[\"leis_{0}_{1}\".format(uniq, str(yr))] = globals()[\"leis_{0}_{1}\".format(uniq, \"합본\")][:][sep_year[0]:sep_year[Last_idx-1]]    # 행 인덱스로 슬라이싱, 행 인덱스로 슬라이싱할 때 콜론 뒤 값을 포함해서 슬라이싱한다.\n",
    "        pattern = str(yr) + r'[.0-9]*'\n",
    "        new_index = globals()[\"leis_{0}_{1}\".format(uniq, str(yr))].index.map(lambda x: re.sub(pattern, str(yr), x))   # map 함수를 이용해 인덱스마다 정규 표현식 sub를 적용\n",
    "        globals()[\"leis_{0}_{1}\".format(uniq, str(yr))].index = new_index\n",
    "        globals()[\"leis_{0}_{1}\".format(uniq, str(yr))].index = globals()[\"leis_{0}_{1}\".format(uniq, str(yr))].index.astype(int)   # 인덱스를 int 타입으로\n",
    "        globals()[\"leis_{0}_{1}\".format(uniq, str(yr))].rename(columns={\"통계분류(2)\" : \"분류\"}, inplace=True)   # 컬럼명 변경\n",
    "        globals()[\"leis_{0}_{1}\".format(uniq, str(yr))] = globals()[\"leis_{0}_{1}\".format(uniq, str(yr))].reset_index()   # reset_index\n",
    "        globals()[\"leis_{0}_{1}\".format(uniq, str(yr))].rename(columns={\"index\" : \"연도\"}, inplace=True)    # 인덱스가 컬럼으로 바뀌고, 그 컬럼명을 변경\n",
    "        globals()[\"leis_{0}_{1}\".format(uniq, str(yr))] = globals()[\"leis_{0}_{1}\".format(uniq, str(yr))].set_index([\"연도\",\"분류\"])   # 멀티 인덱스 설정\n",
    "\n",
    "\n",
    "# 전체 -> 리스트 중에서 2016년이면 리스트에 저장 -> 리스트에 저장된 첫번째와 마지막 인덱스로 슬라이싱 -> 새로운 데이터 프레임 생성"
   ]
  },
  {
   "cell_type": "code",
   "execution_count": null,
   "id": "cdcbf68a",
   "metadata": {},
   "outputs": [],
   "source": [
    "leis_17개_시도별_2016_T = leis_17개_시도별_2016.T\n",
    "leis_17개_시도별_2016_T.head(10)"
   ]
  },
  {
   "cell_type": "code",
   "execution_count": null,
   "id": "da370d4e",
   "metadata": {},
   "outputs": [],
   "source": [
    "df = leis_17개_시도별_2016_T.stack(level=0)\n",
    "pd.DataFrame(df)\n"
   ]
  },
  {
   "cell_type": "code",
   "execution_count": null,
   "id": "f03fbe10",
   "metadata": {},
   "outputs": [],
   "source": [
    "pd.concat([leis_17개_시도별_2016, leis_가구소득별_2016],axis=1)"
   ]
  },
  {
   "attachments": {},
   "cell_type": "markdown",
   "id": "24b57c54",
   "metadata": {},
   "source": [
    "\n",
    "## 일과 여가 생활 균형 2"
   ]
  },
  {
   "cell_type": "code",
   "execution_count": 37,
   "id": "6bf5b005",
   "metadata": {},
   "outputs": [],
   "source": [
    "leisure2 = pd.read_csv(\"G:/내 드라이브/취미/일과_여가생활_간_균형_20230510094439.csv\", encoding='cp949')"
   ]
  },
  {
   "cell_type": "code",
   "execution_count": 83,
   "id": "fb51470a",
   "metadata": {},
   "outputs": [
    {
     "ename": "ValueError",
     "evalue": "invalid literal for int() with base 10: '1.6'",
     "output_type": "error",
     "traceback": [
      "\u001b[1;31m---------------------------------------------------------------------------\u001b[0m",
      "\u001b[1;31mValueError\u001b[0m                                Traceback (most recent call last)",
      "Cell \u001b[1;32mIn[83], line 13\u001b[0m\n\u001b[0;32m     11\u001b[0m \u001b[39mglobals\u001b[39m()[\u001b[39m\"\u001b[39m\u001b[39mleis2_\u001b[39m\u001b[39m{0}\u001b[39;00m\u001b[39m\"\u001b[39m\u001b[39m.\u001b[39mformat(\u001b[39mstr\u001b[39m(yr))]\u001b[39m.\u001b[39mcolumns \u001b[39m=\u001b[39m \u001b[39mglobals\u001b[39m()[\u001b[39m\"\u001b[39m\u001b[39mleis2_\u001b[39m\u001b[39m{0}\u001b[39;00m\u001b[39m\"\u001b[39m\u001b[39m.\u001b[39mformat(\u001b[39mstr\u001b[39m(yr))]\u001b[39m.\u001b[39miloc[\u001b[39m0\u001b[39m,:]\u001b[39m.\u001b[39mto_list()\n\u001b[0;32m     12\u001b[0m \u001b[39mglobals\u001b[39m()[\u001b[39m\"\u001b[39m\u001b[39mleis2_\u001b[39m\u001b[39m{0}\u001b[39;00m\u001b[39m\"\u001b[39m\u001b[39m.\u001b[39mformat(\u001b[39mstr\u001b[39m(yr))] \u001b[39m=\u001b[39m \u001b[39mglobals\u001b[39m()[\u001b[39m\"\u001b[39m\u001b[39mleis2_\u001b[39m\u001b[39m{0}\u001b[39;00m\u001b[39m\"\u001b[39m\u001b[39m.\u001b[39mformat(\u001b[39mstr\u001b[39m(yr))]\u001b[39m.\u001b[39miloc[\u001b[39m1\u001b[39m:,:]\n\u001b[1;32m---> 13\u001b[0m \u001b[39mglobals\u001b[39m()[\u001b[39m\"\u001b[39m\u001b[39mleis2_\u001b[39m\u001b[39m{0}\u001b[39;00m\u001b[39m\"\u001b[39m\u001b[39m.\u001b[39mformat(\u001b[39mstr\u001b[39m(yr))]\u001b[39m.\u001b[39miloc[:,\u001b[39m2\u001b[39m:] \u001b[39m=\u001b[39m \u001b[39mglobals\u001b[39;49m()[\u001b[39m\"\u001b[39;49m\u001b[39mleis2_\u001b[39;49m\u001b[39m{0}\u001b[39;49;00m\u001b[39m\"\u001b[39;49m\u001b[39m.\u001b[39;49mformat(\u001b[39mstr\u001b[39;49m(yr))]\u001b[39m.\u001b[39;49miloc[:,\u001b[39m2\u001b[39;49m:]\u001b[39m.\u001b[39;49mround(\u001b[39m0\u001b[39;49m)\u001b[39m.\u001b[39;49mastype(\u001b[39mint\u001b[39;49m)\n\u001b[0;32m     14\u001b[0m \u001b[39mglobals\u001b[39m()[\u001b[39m\"\u001b[39m\u001b[39mleis2_\u001b[39m\u001b[39m{0}\u001b[39;00m\u001b[39m\"\u001b[39m\u001b[39m.\u001b[39mformat(\u001b[39mstr\u001b[39m(yr))] \u001b[39m=\u001b[39m \u001b[39mglobals\u001b[39m()[\u001b[39m\"\u001b[39m\u001b[39mleis2_\u001b[39m\u001b[39m{0}\u001b[39;00m\u001b[39m\"\u001b[39m\u001b[39m.\u001b[39mformat(\u001b[39mstr\u001b[39m(yr))]\u001b[39m.\u001b[39mset_index([\u001b[39m\"\u001b[39m\u001b[39m통계분류(1)\u001b[39m\u001b[39m\"\u001b[39m,\u001b[39m\"\u001b[39m\u001b[39m통계분류(2)\u001b[39m\u001b[39m\"\u001b[39m])\n\u001b[0;32m     15\u001b[0m \u001b[39m# globals()[\"leis2_{0}\".format(str(yr))] = globals()[\"leis2_{0}\".format(str(yr))].apply(lambda x : round(x))\u001b[39;00m\n",
      "File \u001b[1;32mc:\\Users\\TC-D-20-0334\\anaconda3\\lib\\site-packages\\pandas\\core\\generic.py:6240\u001b[0m, in \u001b[0;36mNDFrame.astype\u001b[1;34m(self, dtype, copy, errors)\u001b[0m\n\u001b[0;32m   6233\u001b[0m     results \u001b[39m=\u001b[39m [\n\u001b[0;32m   6234\u001b[0m         \u001b[39mself\u001b[39m\u001b[39m.\u001b[39miloc[:, i]\u001b[39m.\u001b[39mastype(dtype, copy\u001b[39m=\u001b[39mcopy)\n\u001b[0;32m   6235\u001b[0m         \u001b[39mfor\u001b[39;00m i \u001b[39min\u001b[39;00m \u001b[39mrange\u001b[39m(\u001b[39mlen\u001b[39m(\u001b[39mself\u001b[39m\u001b[39m.\u001b[39mcolumns))\n\u001b[0;32m   6236\u001b[0m     ]\n\u001b[0;32m   6238\u001b[0m \u001b[39melse\u001b[39;00m:\n\u001b[0;32m   6239\u001b[0m     \u001b[39m# else, only a single dtype is given\u001b[39;00m\n\u001b[1;32m-> 6240\u001b[0m     new_data \u001b[39m=\u001b[39m \u001b[39mself\u001b[39;49m\u001b[39m.\u001b[39;49m_mgr\u001b[39m.\u001b[39;49mastype(dtype\u001b[39m=\u001b[39;49mdtype, copy\u001b[39m=\u001b[39;49mcopy, errors\u001b[39m=\u001b[39;49merrors)\n\u001b[0;32m   6241\u001b[0m     \u001b[39mreturn\u001b[39;00m \u001b[39mself\u001b[39m\u001b[39m.\u001b[39m_constructor(new_data)\u001b[39m.\u001b[39m__finalize__(\u001b[39mself\u001b[39m, method\u001b[39m=\u001b[39m\u001b[39m\"\u001b[39m\u001b[39mastype\u001b[39m\u001b[39m\"\u001b[39m)\n\u001b[0;32m   6243\u001b[0m \u001b[39m# GH 33113: handle empty frame or series\u001b[39;00m\n",
      "File \u001b[1;32mc:\\Users\\TC-D-20-0334\\anaconda3\\lib\\site-packages\\pandas\\core\\internals\\managers.py:448\u001b[0m, in \u001b[0;36mBaseBlockManager.astype\u001b[1;34m(self, dtype, copy, errors)\u001b[0m\n\u001b[0;32m    447\u001b[0m \u001b[39mdef\u001b[39;00m \u001b[39mastype\u001b[39m(\u001b[39mself\u001b[39m: T, dtype, copy: \u001b[39mbool\u001b[39m \u001b[39m=\u001b[39m \u001b[39mFalse\u001b[39;00m, errors: \u001b[39mstr\u001b[39m \u001b[39m=\u001b[39m \u001b[39m\"\u001b[39m\u001b[39mraise\u001b[39m\u001b[39m\"\u001b[39m) \u001b[39m-\u001b[39m\u001b[39m>\u001b[39m T:\n\u001b[1;32m--> 448\u001b[0m     \u001b[39mreturn\u001b[39;00m \u001b[39mself\u001b[39;49m\u001b[39m.\u001b[39;49mapply(\u001b[39m\"\u001b[39;49m\u001b[39mastype\u001b[39;49m\u001b[39m\"\u001b[39;49m, dtype\u001b[39m=\u001b[39;49mdtype, copy\u001b[39m=\u001b[39;49mcopy, errors\u001b[39m=\u001b[39;49merrors)\n",
      "File \u001b[1;32mc:\\Users\\TC-D-20-0334\\anaconda3\\lib\\site-packages\\pandas\\core\\internals\\managers.py:352\u001b[0m, in \u001b[0;36mBaseBlockManager.apply\u001b[1;34m(self, f, align_keys, ignore_failures, **kwargs)\u001b[0m\n\u001b[0;32m    350\u001b[0m         applied \u001b[39m=\u001b[39m b\u001b[39m.\u001b[39mapply(f, \u001b[39m*\u001b[39m\u001b[39m*\u001b[39mkwargs)\n\u001b[0;32m    351\u001b[0m     \u001b[39melse\u001b[39;00m:\n\u001b[1;32m--> 352\u001b[0m         applied \u001b[39m=\u001b[39m \u001b[39mgetattr\u001b[39m(b, f)(\u001b[39m*\u001b[39m\u001b[39m*\u001b[39mkwargs)\n\u001b[0;32m    353\u001b[0m \u001b[39mexcept\u001b[39;00m (\u001b[39mTypeError\u001b[39;00m, \u001b[39mNotImplementedError\u001b[39;00m):\n\u001b[0;32m    354\u001b[0m     \u001b[39mif\u001b[39;00m \u001b[39mnot\u001b[39;00m ignore_failures:\n",
      "File \u001b[1;32mc:\\Users\\TC-D-20-0334\\anaconda3\\lib\\site-packages\\pandas\\core\\internals\\blocks.py:526\u001b[0m, in \u001b[0;36mBlock.astype\u001b[1;34m(self, dtype, copy, errors)\u001b[0m\n\u001b[0;32m    508\u001b[0m \u001b[39m\"\"\"\u001b[39;00m\n\u001b[0;32m    509\u001b[0m \u001b[39mCoerce to the new dtype.\u001b[39;00m\n\u001b[0;32m    510\u001b[0m \n\u001b[1;32m   (...)\u001b[0m\n\u001b[0;32m    522\u001b[0m \u001b[39mBlock\u001b[39;00m\n\u001b[0;32m    523\u001b[0m \u001b[39m\"\"\"\u001b[39;00m\n\u001b[0;32m    524\u001b[0m values \u001b[39m=\u001b[39m \u001b[39mself\u001b[39m\u001b[39m.\u001b[39mvalues\n\u001b[1;32m--> 526\u001b[0m new_values \u001b[39m=\u001b[39m astype_array_safe(values, dtype, copy\u001b[39m=\u001b[39;49mcopy, errors\u001b[39m=\u001b[39;49merrors)\n\u001b[0;32m    528\u001b[0m new_values \u001b[39m=\u001b[39m maybe_coerce_values(new_values)\n\u001b[0;32m    529\u001b[0m newb \u001b[39m=\u001b[39m \u001b[39mself\u001b[39m\u001b[39m.\u001b[39mmake_block(new_values)\n",
      "File \u001b[1;32mc:\\Users\\TC-D-20-0334\\anaconda3\\lib\\site-packages\\pandas\\core\\dtypes\\astype.py:299\u001b[0m, in \u001b[0;36mastype_array_safe\u001b[1;34m(values, dtype, copy, errors)\u001b[0m\n\u001b[0;32m    296\u001b[0m     \u001b[39mreturn\u001b[39;00m values\u001b[39m.\u001b[39mcopy()\n\u001b[0;32m    298\u001b[0m \u001b[39mtry\u001b[39;00m:\n\u001b[1;32m--> 299\u001b[0m     new_values \u001b[39m=\u001b[39m astype_array(values, dtype, copy\u001b[39m=\u001b[39;49mcopy)\n\u001b[0;32m    300\u001b[0m \u001b[39mexcept\u001b[39;00m (\u001b[39mValueError\u001b[39;00m, \u001b[39mTypeError\u001b[39;00m):\n\u001b[0;32m    301\u001b[0m     \u001b[39m# e.g. astype_nansafe can fail on object-dtype of strings\u001b[39;00m\n\u001b[0;32m    302\u001b[0m     \u001b[39m#  trying to convert to float\u001b[39;00m\n\u001b[0;32m    303\u001b[0m     \u001b[39mif\u001b[39;00m errors \u001b[39m==\u001b[39m \u001b[39m\"\u001b[39m\u001b[39mignore\u001b[39m\u001b[39m\"\u001b[39m:\n",
      "File \u001b[1;32mc:\\Users\\TC-D-20-0334\\anaconda3\\lib\\site-packages\\pandas\\core\\dtypes\\astype.py:230\u001b[0m, in \u001b[0;36mastype_array\u001b[1;34m(values, dtype, copy)\u001b[0m\n\u001b[0;32m    227\u001b[0m     values \u001b[39m=\u001b[39m values\u001b[39m.\u001b[39mastype(dtype, copy\u001b[39m=\u001b[39mcopy)\n\u001b[0;32m    229\u001b[0m \u001b[39melse\u001b[39;00m:\n\u001b[1;32m--> 230\u001b[0m     values \u001b[39m=\u001b[39m astype_nansafe(values, dtype, copy\u001b[39m=\u001b[39;49mcopy)\n\u001b[0;32m    232\u001b[0m \u001b[39m# in pandas we don't store numpy str dtypes, so convert to object\u001b[39;00m\n\u001b[0;32m    233\u001b[0m \u001b[39mif\u001b[39;00m \u001b[39misinstance\u001b[39m(dtype, np\u001b[39m.\u001b[39mdtype) \u001b[39mand\u001b[39;00m \u001b[39missubclass\u001b[39m(values\u001b[39m.\u001b[39mdtype\u001b[39m.\u001b[39mtype, \u001b[39mstr\u001b[39m):\n",
      "File \u001b[1;32mc:\\Users\\TC-D-20-0334\\anaconda3\\lib\\site-packages\\pandas\\core\\dtypes\\astype.py:170\u001b[0m, in \u001b[0;36mastype_nansafe\u001b[1;34m(arr, dtype, copy, skipna)\u001b[0m\n\u001b[0;32m    166\u001b[0m     \u001b[39mraise\u001b[39;00m \u001b[39mValueError\u001b[39;00m(msg)\n\u001b[0;32m    168\u001b[0m \u001b[39mif\u001b[39;00m copy \u001b[39mor\u001b[39;00m is_object_dtype(arr\u001b[39m.\u001b[39mdtype) \u001b[39mor\u001b[39;00m is_object_dtype(dtype):\n\u001b[0;32m    169\u001b[0m     \u001b[39m# Explicit copy, or required since NumPy can't view from / to object.\u001b[39;00m\n\u001b[1;32m--> 170\u001b[0m     \u001b[39mreturn\u001b[39;00m arr\u001b[39m.\u001b[39;49mastype(dtype, copy\u001b[39m=\u001b[39;49m\u001b[39mTrue\u001b[39;49;00m)\n\u001b[0;32m    172\u001b[0m \u001b[39mreturn\u001b[39;00m arr\u001b[39m.\u001b[39mastype(dtype, copy\u001b[39m=\u001b[39mcopy)\n",
      "\u001b[1;31mValueError\u001b[0m: invalid literal for int() with base 10: '1.6'"
     ]
    }
   ],
   "source": [
    "year_List2 = list(range(2016,2022))\n",
    "year_List2 = [value for value in year_List2 if value != 2017]   # 2017년도 빼기\n",
    "\n",
    "leis_sep = leisure2.iloc[:,:2]\n",
    "\n",
    "for yr in year_List2 : \n",
    "    pattern = str(yr)\n",
    "    globals()[\"leis2_{0}\".format(str(yr))] = leisure2.filter(like=pattern)    # 조건에 만족하는 데이터 프레임 반환\n",
    "    globals()[\"leis2_{0}\".format(str(yr))] = pd.concat([leis_sep, globals()[\"leis2_{0}\".format(str(yr))]], axis=1)     # 왼쪽 오른쪽으로 합치기, 인덱스가 다르면 outer join\n",
    "    globals()[\"leis2_{0}\".format(str(yr))] = globals()[\"leis2_{0}\".format(str(yr))].replace(\"-\",0)\n",
    "    globals()[\"leis2_{0}\".format(str(yr))].columns = globals()[\"leis2_{0}\".format(str(yr))].iloc[0,:].to_list()\n",
    "    globals()[\"leis2_{0}\".format(str(yr))] = globals()[\"leis2_{0}\".format(str(yr))].iloc[1:,:]\n",
    "    globals()[\"leis2_{0}\".format(str(yr))].iloc[:,2:] = globals()[\"leis2_{0}\".format(str(yr))].iloc[:,2:].round(0).astype(int)\n",
    "    globals()[\"leis2_{0}\".format(str(yr))] = globals()[\"leis2_{0}\".format(str(yr))].set_index([\"통계분류(1)\",\"통계분류(2)\"])\n",
    "    # globals()[\"leis2_{0}\".format(str(yr))] = globals()[\"leis2_{0}\".format(str(yr))].apply(lambda x : round(x))\n",
    "    globals()[\"leis2_{0}\".format(str(yr))].iloc[:,1:] = globals()[\"leis2_{0}\".format(str(yr))].iloc[:,1:].apply(lambda x : x * leis2_2016.iloc[:,0] / 100)  # 백분율로 표시된 값을 실제 값으로 변환\n",
    "    globals()[\"leis2_{0}\".format(str(yr))] = globals()[\"leis2_{0}\".format(str(yr))].iloc[:,1:]  # 합계 부분 삭제"
   ]
  },
  {
   "cell_type": "code",
   "execution_count": 84,
   "id": "50b67f05",
   "metadata": {},
   "outputs": [
    {
     "data": {
      "text/html": [
       "<div>\n",
       "<style scoped>\n",
       "    .dataframe tbody tr th:only-of-type {\n",
       "        vertical-align: middle;\n",
       "    }\n",
       "\n",
       "    .dataframe tbody tr th {\n",
       "        vertical-align: top;\n",
       "    }\n",
       "\n",
       "    .dataframe thead th {\n",
       "        text-align: right;\n",
       "    }\n",
       "</style>\n",
       "<table border=\"1\" class=\"dataframe\">\n",
       "  <thead>\n",
       "    <tr style=\"text-align: right;\">\n",
       "      <th></th>\n",
       "      <th>통계분류(1)</th>\n",
       "      <th>통계분류(2)</th>\n",
       "      <th>표본수</th>\n",
       "      <th>일에 더 집중하고있다</th>\n",
       "      <th>일에 조금 더 집중하고 있다</th>\n",
       "      <th>다소 일에 집중하고 있다</th>\n",
       "      <th>균형을 이루고 있다</th>\n",
       "      <th>다소 여가에 더 집중하고있다</th>\n",
       "      <th>여가에 조금 더 집중하고 있다</th>\n",
       "      <th>여가에 더 집중하고 있다</th>\n",
       "    </tr>\n",
       "  </thead>\n",
       "  <tbody>\n",
       "    <tr>\n",
       "      <th>1</th>\n",
       "      <td>전체</td>\n",
       "      <td>소계</td>\n",
       "      <td>10602</td>\n",
       "      <td>1.6</td>\n",
       "      <td>8.6</td>\n",
       "      <td>20.4</td>\n",
       "      <td>35.5</td>\n",
       "      <td>21.8</td>\n",
       "      <td>11.4</td>\n",
       "      <td>0.7</td>\n",
       "    </tr>\n",
       "    <tr>\n",
       "      <th>2</th>\n",
       "      <td>성별</td>\n",
       "      <td>남성</td>\n",
       "      <td>5179</td>\n",
       "      <td>1.7</td>\n",
       "      <td>9</td>\n",
       "      <td>22.8</td>\n",
       "      <td>34.4</td>\n",
       "      <td>20.5</td>\n",
       "      <td>10.9</td>\n",
       "      <td>0.6</td>\n",
       "    </tr>\n",
       "    <tr>\n",
       "      <th>3</th>\n",
       "      <td>성별</td>\n",
       "      <td>여성</td>\n",
       "      <td>5423</td>\n",
       "      <td>1.5</td>\n",
       "      <td>8.1</td>\n",
       "      <td>18.1</td>\n",
       "      <td>36.5</td>\n",
       "      <td>23</td>\n",
       "      <td>11.9</td>\n",
       "      <td>0.9</td>\n",
       "    </tr>\n",
       "    <tr>\n",
       "      <th>4</th>\n",
       "      <td>연령별</td>\n",
       "      <td>15~19세</td>\n",
       "      <td>827</td>\n",
       "      <td>1.9</td>\n",
       "      <td>11.6</td>\n",
       "      <td>26.4</td>\n",
       "      <td>34.4</td>\n",
       "      <td>19.3</td>\n",
       "      <td>5.9</td>\n",
       "      <td>0.5</td>\n",
       "    </tr>\n",
       "    <tr>\n",
       "      <th>5</th>\n",
       "      <td>연령별</td>\n",
       "      <td>20대</td>\n",
       "      <td>1476</td>\n",
       "      <td>0.8</td>\n",
       "      <td>7.9</td>\n",
       "      <td>20.5</td>\n",
       "      <td>39.5</td>\n",
       "      <td>21.7</td>\n",
       "      <td>9.2</td>\n",
       "      <td>0.4</td>\n",
       "    </tr>\n",
       "    <tr>\n",
       "      <th>...</th>\n",
       "      <td>...</td>\n",
       "      <td>...</td>\n",
       "      <td>...</td>\n",
       "      <td>...</td>\n",
       "      <td>...</td>\n",
       "      <td>...</td>\n",
       "      <td>...</td>\n",
       "      <td>...</td>\n",
       "      <td>...</td>\n",
       "      <td>...</td>\n",
       "    </tr>\n",
       "    <tr>\n",
       "      <th>63</th>\n",
       "      <td>17개 시도별</td>\n",
       "      <td>경남</td>\n",
       "      <td>719</td>\n",
       "      <td>1.4</td>\n",
       "      <td>5.1</td>\n",
       "      <td>14.8</td>\n",
       "      <td>37.1</td>\n",
       "      <td>29.2</td>\n",
       "      <td>12</td>\n",
       "      <td>0.3</td>\n",
       "    </tr>\n",
       "    <tr>\n",
       "      <th>64</th>\n",
       "      <td>17개 시도별</td>\n",
       "      <td>제주</td>\n",
       "      <td>300</td>\n",
       "      <td>10.8</td>\n",
       "      <td>20.9</td>\n",
       "      <td>18.8</td>\n",
       "      <td>29.6</td>\n",
       "      <td>6.7</td>\n",
       "      <td>10.7</td>\n",
       "      <td>2.7</td>\n",
       "    </tr>\n",
       "    <tr>\n",
       "      <th>65</th>\n",
       "      <td>장애여부별</td>\n",
       "      <td>장애등록</td>\n",
       "      <td>0</td>\n",
       "      <td>0</td>\n",
       "      <td>0</td>\n",
       "      <td>0</td>\n",
       "      <td>0</td>\n",
       "      <td>0</td>\n",
       "      <td>0</td>\n",
       "      <td>0</td>\n",
       "    </tr>\n",
       "    <tr>\n",
       "      <th>66</th>\n",
       "      <td>장애여부별</td>\n",
       "      <td>미등록</td>\n",
       "      <td>0</td>\n",
       "      <td>0</td>\n",
       "      <td>0</td>\n",
       "      <td>0</td>\n",
       "      <td>0</td>\n",
       "      <td>0</td>\n",
       "      <td>0</td>\n",
       "      <td>0</td>\n",
       "    </tr>\n",
       "    <tr>\n",
       "      <th>67</th>\n",
       "      <td>장애여부별</td>\n",
       "      <td>해당사항없음</td>\n",
       "      <td>0</td>\n",
       "      <td>0</td>\n",
       "      <td>0</td>\n",
       "      <td>0</td>\n",
       "      <td>0</td>\n",
       "      <td>0</td>\n",
       "      <td>0</td>\n",
       "      <td>0</td>\n",
       "    </tr>\n",
       "  </tbody>\n",
       "</table>\n",
       "<p>67 rows × 10 columns</p>\n",
       "</div>"
      ],
      "text/plain": [
       "    통계분류(1) 통계분류(2)    표본수 일에 더 집중하고있다 일에 조금 더 집중하고 있다 다소 일에 집중하고 있다  \\\n",
       "1        전체      소계  10602         1.6             8.6          20.4   \n",
       "2        성별      남성   5179         1.7               9          22.8   \n",
       "3        성별      여성   5423         1.5             8.1          18.1   \n",
       "4       연령별  15~19세    827         1.9            11.6          26.4   \n",
       "5       연령별     20대   1476         0.8             7.9          20.5   \n",
       "..      ...     ...    ...         ...             ...           ...   \n",
       "63  17개 시도별      경남    719         1.4             5.1          14.8   \n",
       "64  17개 시도별      제주    300        10.8            20.9          18.8   \n",
       "65    장애여부별    장애등록      0           0               0             0   \n",
       "66    장애여부별     미등록      0           0               0             0   \n",
       "67    장애여부별  해당사항없음      0           0               0             0   \n",
       "\n",
       "   균형을 이루고 있다 다소 여가에 더 집중하고있다 여가에 조금 더 집중하고 있다 여가에 더 집중하고 있다  \n",
       "1        35.5            21.8             11.4           0.7  \n",
       "2        34.4            20.5             10.9           0.6  \n",
       "3        36.5              23             11.9           0.9  \n",
       "4        34.4            19.3              5.9           0.5  \n",
       "5        39.5            21.7              9.2           0.4  \n",
       "..        ...             ...              ...           ...  \n",
       "63       37.1            29.2               12           0.3  \n",
       "64       29.6             6.7             10.7           2.7  \n",
       "65          0               0                0             0  \n",
       "66          0               0                0             0  \n",
       "67          0               0                0             0  \n",
       "\n",
       "[67 rows x 10 columns]"
      ]
     },
     "execution_count": 84,
     "metadata": {},
     "output_type": "execute_result"
    }
   ],
   "source": [
    "leis2_2016.round(0)"
   ]
  },
  {
   "cell_type": "code",
   "execution_count": null,
   "id": "db24e505",
   "metadata": {},
   "outputs": [],
   "source": [
    "leis2_2016.set_index([\"통계분류(1)\",\"통계분류(2)\"]).unstack()"
   ]
  },
  {
   "cell_type": "code",
   "execution_count": null,
   "id": "9ec6deeb",
   "metadata": {},
   "outputs": [],
   "source": [
    "leis2_2016.columns = leis2_2016.iloc[0,:].to_list()"
   ]
  }
 ],
 "metadata": {
  "kernelspec": {
   "display_name": "Python 3 (ipykernel)",
   "language": "python",
   "name": "python3"
  },
  "language_info": {
   "codemirror_mode": {
    "name": "ipython",
    "version": 3
   },
   "file_extension": ".py",
   "mimetype": "text/x-python",
   "name": "python",
   "nbconvert_exporter": "python",
   "pygments_lexer": "ipython3",
   "version": "3.10.9"
  }
 },
 "nbformat": 4,
 "nbformat_minor": 5
}
