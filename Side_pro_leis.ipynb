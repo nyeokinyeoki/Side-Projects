{
 "cells": [
  {
   "cell_type": "code",
   "execution_count": 1,
   "id": "facb3891",
   "metadata": {},
   "outputs": [],
   "source": [
    "import pandas as pd\n",
    "import numpy as np\n",
    "import re"
   ]
  },
  {
   "attachments": {},
   "cell_type": "markdown",
   "id": "e3baed34",
   "metadata": {},
   "source": [
    "# 여가 관련 자료"
   ]
  },
  {
   "attachments": {},
   "cell_type": "markdown",
   "id": "cf2b3e0f",
   "metadata": {},
   "source": [
    "## 일과 여가 생활 균형"
   ]
  },
  {
   "cell_type": "code",
   "execution_count": 2,
   "id": "4b207f69",
   "metadata": {},
   "outputs": [],
   "source": [
    "leisure = pd.read_csv(\"G:/내 드라이브/취미/일과_여가생활_간_균형_20230510094439.csv\", encoding='cp949')\n",
    "# leisure.info()\n",
    "# leisure.head(10)"
   ]
  },
  {
   "cell_type": "code",
   "execution_count": 3,
   "id": "5dc618ed",
   "metadata": {},
   "outputs": [],
   "source": [
    "leisure_T = leisure.T   # 행열 전환\n",
    "# leisure_T.head(5)"
   ]
  },
  {
   "cell_type": "code",
   "execution_count": 4,
   "id": "aa4f58f8",
   "metadata": {},
   "outputs": [
    {
     "name": "stdout",
     "output_type": "stream",
     "text": [
      "['통계분류', '전체', '성별', '연령별', '학력별', '동거가구원수별', '혼인상태별', '가구주여부별', '종사자지위별', '가구소득별', '지역규모별', '권역별', '17개_시도별', '장애여부별']\n"
     ]
    }
   ],
   "source": [
    "leis_uq = leisure.iloc[:,0].unique()\n",
    "leis_uq = leis_uq.tolist()   # ndarray -> list\n",
    "leis_uq = [re.sub(r\"\\(+.\\)\",\"\",uq.replace(\" \",\"_\")) for uq in leis_uq]  # 괄호와 괄호 안 글자, 공백 제거\n",
    "print(leis_uq)"
   ]
  },
  {
   "cell_type": "code",
   "execution_count": 5,
   "id": "2d6f16f9",
   "metadata": {
    "scrolled": true
   },
   "outputs": [],
   "source": [
    "leisure_T.columns = leisure_T.iloc[0,:]\n",
    "# leisure_T.info()"
   ]
  },
  {
   "cell_type": "code",
   "execution_count": 6,
   "id": "e786e0a5",
   "metadata": {},
   "outputs": [],
   "source": [
    "columns_nospace = [re.sub(r\"\\(+.\\)\", \"\", col.replace(\" \",\"_\")) for col in leisure_T.columns]"
   ]
  },
  {
   "cell_type": "code",
   "execution_count": 7,
   "id": "1f46427d",
   "metadata": {},
   "outputs": [
    {
     "name": "stdout",
     "output_type": "stream",
     "text": [
      "Index(['통계분류', '전체', '성별', '성별', '연령별', '연령별', '연령별', '연령별', '연령별', '연령별',\n",
      "       '연령별', '학력별', '학력별', '학력별', '학력별', '동거가구원수별', '동거가구원수별', '동거가구원수별',\n",
      "       '혼인상태별', '혼인상태별', '혼인상태별', '가구주여부별', '가구주여부별', '종사자지위별', '종사자지위별',\n",
      "       '종사자지위별', '종사자지위별', '종사자지위별', '종사자지위별', '종사자지위별', '종사자지위별', '종사자지위별',\n",
      "       '가구소득별', '가구소득별', '가구소득별', '가구소득별', '가구소득별', '가구소득별', '가구소득별', '지역규모별',\n",
      "       '지역규모별', '지역규모별', '권역별', '권역별', '권역별', '권역별', '권역별', '권역별', '17개_시도별',\n",
      "       '17개_시도별', '17개_시도별', '17개_시도별', '17개_시도별', '17개_시도별', '17개_시도별',\n",
      "       '17개_시도별', '17개_시도별', '17개_시도별', '17개_시도별', '17개_시도별', '17개_시도별',\n",
      "       '17개_시도별', '17개_시도별', '17개_시도별', '17개_시도별', '장애여부별', '장애여부별', '장애여부별'],\n",
      "      dtype='object')\n"
     ]
    }
   ],
   "source": [
    "leisure_T.columns = columns_nospace\n",
    "print(leisure_T.columns)"
   ]
  },
  {
   "cell_type": "code",
   "execution_count": 8,
   "id": "58c99f3e",
   "metadata": {},
   "outputs": [],
   "source": [
    "# 통계 분류별로 데이터 프레임 분류\n",
    "\n",
    "for cat in leis_uq : \n",
    "    globals()[\"leisure_{}\".format(cat)] = leisure_T[cat]\n",
    "    \n",
    "    if type(globals()[\"leisure_{}\".format(cat)]) == pd.core.series.Series :   # type이 시리즈라면\n",
    "        globals()[\"leisure_{}\".format(cat)] = pd.DataFrame(globals()[\"leisure_{}\".format(cat)])   # 시리즈를 데이터프레임으로 변경\n",
    "        \n",
    "    globals()[\"leisure_{}\".format(cat)].columns = globals()[\"leisure_{}\".format(cat)].iloc[1,:]\n",
    "    globals()[\"leisure_{}\".format(cat)] = globals()[\"leisure_{}\".format(cat)].iloc[2:,:]"
   ]
  },
  {
   "cell_type": "code",
   "execution_count": 9,
   "id": "ebff879b",
   "metadata": {},
   "outputs": [
    {
     "name": "stdout",
     "output_type": "stream",
     "text": [
      "['전체', '성별', '연령별', '학력별', '동거가구원수별', '혼인상태별', '가구주여부별', '종사자지위별', '가구소득별', '지역규모별', '권역별', '17개_시도별', '장애여부별']\n"
     ]
    }
   ],
   "source": [
    "leis_uq2 = leis_uq[1:]\n",
    "print(leis_uq2)"
   ]
  },
  {
   "cell_type": "code",
   "execution_count": 10,
   "id": "f8d40c29",
   "metadata": {},
   "outputs": [],
   "source": [
    "for uq2 in leis_uq2 : \n",
    "    globals()[\"leis_{0}_{1}\".format(uq2, \"합본\")] = pd.concat([leisure_통계분류, globals()[\"leisure_{}\".format(uq2)]],axis=1)"
   ]
  },
  {
   "cell_type": "code",
   "execution_count": 39,
   "id": "0272c34c",
   "metadata": {},
   "outputs": [],
   "source": [
    "# leis_동거가구원수별_합본.head(5)"
   ]
  },
  {
   "cell_type": "code",
   "execution_count": 40,
   "id": "cb6b41d7",
   "metadata": {},
   "outputs": [],
   "source": [
    "# leis_가구소득별_합본.head(5)"
   ]
  },
  {
   "cell_type": "code",
   "execution_count": 41,
   "id": "f3bddf3b",
   "metadata": {},
   "outputs": [],
   "source": [
    "# leis_전체_합본.head()"
   ]
  },
  {
   "cell_type": "code",
   "execution_count": 14,
   "id": "40e112eb",
   "metadata": {},
   "outputs": [],
   "source": [
    "## 연도 리스트\n",
    "year_List = [2016,2018,2019,2020,2021]"
   ]
  },
  {
   "cell_type": "code",
   "execution_count": 43,
   "id": "6a9456f2",
   "metadata": {},
   "outputs": [
    {
     "ename": "TypeError",
     "evalue": "expected string or bytes-like object",
     "output_type": "error",
     "traceback": [
      "\u001b[1;31m---------------------------------------------------------------------------\u001b[0m",
      "\u001b[1;31mTypeError\u001b[0m                                 Traceback (most recent call last)",
      "Cell \u001b[1;32mIn[43], line 15\u001b[0m\n\u001b[0;32m     13\u001b[0m Last_idx \u001b[39m=\u001b[39m \u001b[39mlen\u001b[39m(sep_year)\n\u001b[0;32m     14\u001b[0m \u001b[39mglobals\u001b[39m()[\u001b[39m\"\u001b[39m\u001b[39mleis_\u001b[39m\u001b[39m{0}\u001b[39;00m\u001b[39m_\u001b[39m\u001b[39m{1}\u001b[39;00m\u001b[39m\"\u001b[39m\u001b[39m.\u001b[39mformat(uniq, \u001b[39mstr\u001b[39m(yr))] \u001b[39m=\u001b[39m \u001b[39mglobals\u001b[39m()[\u001b[39m\"\u001b[39m\u001b[39mleis_\u001b[39m\u001b[39m{0}\u001b[39;00m\u001b[39m_\u001b[39m\u001b[39m{1}\u001b[39;00m\u001b[39m\"\u001b[39m\u001b[39m.\u001b[39mformat(uniq, \u001b[39m\"\u001b[39m\u001b[39m합본\u001b[39m\u001b[39m\"\u001b[39m)][:][sep_year[\u001b[39m0\u001b[39m]:sep_year[Last_idx\u001b[39m-\u001b[39m\u001b[39m1\u001b[39m]]    \u001b[39m# 행 인덱스로 슬라이싱, 행 인덱스로 슬라이싱할 때 콜론 뒤 값을 포함해서 슬라이싱한다.\u001b[39;00m\n\u001b[1;32m---> 15\u001b[0m \u001b[39mglobals\u001b[39m()[\u001b[39m\"\u001b[39m\u001b[39mleis_\u001b[39m\u001b[39m{0}\u001b[39;00m\u001b[39m_\u001b[39m\u001b[39m{1}\u001b[39;00m\u001b[39m\"\u001b[39m\u001b[39m.\u001b[39mformat(uniq, \u001b[39mstr\u001b[39m(yr))]\u001b[39m.\u001b[39mindex \u001b[39m=\u001b[39m re\u001b[39m.\u001b[39;49msub(\u001b[39mstr\u001b[39;49m(yr)\u001b[39m+\u001b[39;49m\u001b[39m\"\u001b[39;49m\u001b[39m[.0-9]*\u001b[39;49m\u001b[39m\"\u001b[39;49m,\u001b[39mstr\u001b[39;49m(yr),\u001b[39mglobals\u001b[39;49m()[\u001b[39m\"\u001b[39;49m\u001b[39mleis_\u001b[39;49m\u001b[39m{0}\u001b[39;49;00m\u001b[39m_\u001b[39;49m\u001b[39m{1}\u001b[39;49;00m\u001b[39m\"\u001b[39;49m\u001b[39m.\u001b[39;49mformat(uniq, \u001b[39mstr\u001b[39;49m(yr))]\u001b[39m.\u001b[39;49mindex)\n",
      "File \u001b[1;32mc:\\Users\\TC-D-20-0334\\anaconda3\\lib\\re.py:209\u001b[0m, in \u001b[0;36msub\u001b[1;34m(pattern, repl, string, count, flags)\u001b[0m\n\u001b[0;32m    202\u001b[0m \u001b[39mdef\u001b[39;00m \u001b[39msub\u001b[39m(pattern, repl, string, count\u001b[39m=\u001b[39m\u001b[39m0\u001b[39m, flags\u001b[39m=\u001b[39m\u001b[39m0\u001b[39m):\n\u001b[0;32m    203\u001b[0m     \u001b[39m\"\"\"Return the string obtained by replacing the leftmost\u001b[39;00m\n\u001b[0;32m    204\u001b[0m \u001b[39m    non-overlapping occurrences of the pattern in string by the\u001b[39;00m\n\u001b[0;32m    205\u001b[0m \u001b[39m    replacement repl.  repl can be either a string or a callable;\u001b[39;00m\n\u001b[0;32m    206\u001b[0m \u001b[39m    if a string, backslash escapes in it are processed.  If it is\u001b[39;00m\n\u001b[0;32m    207\u001b[0m \u001b[39m    a callable, it's passed the Match object and must return\u001b[39;00m\n\u001b[0;32m    208\u001b[0m \u001b[39m    a replacement string to be used.\"\"\"\u001b[39;00m\n\u001b[1;32m--> 209\u001b[0m     \u001b[39mreturn\u001b[39;00m _compile(pattern, flags)\u001b[39m.\u001b[39;49msub(repl, string, count)\n",
      "\u001b[1;31mTypeError\u001b[0m: expected string or bytes-like object"
     ]
    }
   ],
   "source": [
    "for uniq in leis_uq2 : \n",
    "    idx_List = globals()[\"leis_{0}_{1}\".format(uniq, \"합본\")].index.to_list()   # 분리된 데이터프레임 인덱스 리스트로 반환\n",
    "    \n",
    "    for yr in year_List : \n",
    "        sep_year = []    # 정규표현식에 만족하는 인덱스를 저장할 리스트\n",
    "        \n",
    "        for idx in idx_List :\n",
    "            find_yr = re.findall(str(yr)+\"[.0-9]*\",idx)     # 연도 + '.' or 숫자 1개 이상 포함돼 있는 인덱스 저장 \n",
    "\n",
    "            if find_yr:      # 빈 리스트가 아니라면 (findall은 조건에 안 맞으면 빈 리스트 반환)\n",
    "                sep_year.append(find_yr[0])\n",
    "\n",
    "        Last_idx = len(sep_year)\n",
    "        globals()[\"leis_{0}_{1}\".format(uniq, str(yr))] = globals()[\"leis_{0}_{1}\".format(uniq, \"합본\")][:][sep_year[0]:sep_year[Last_idx-1]]    # 행 인덱스로 슬라이싱, 행 인덱스로 슬라이싱할 때 콜론 뒤 값을 포함해서 슬라이싱한다.\n",
    "        pattern = str(yr) + r'[.0-9]*'\n",
    "        new_index = globals()[\"leis_{0}_{1}\".format(uniq, str(yr))].index.map(lambda x: re.sub(pattern, str(yr), x))\n",
    "        globals()[\"leis_{0}_{1}\".format(uniq, str(yr))].index = new_index\n",
    "\n",
    "\n",
    "# 전체 -> 리스트 중에서 2016년이면 리스트에 저장 -> 리스트에 저장된 첫번째와 마지막 인덱스로 슬라이싱 -> 새로운 데이터 프레임 생성"
   ]
  },
  {
   "cell_type": "code",
   "execution_count": 37,
   "id": "428c74e2",
   "metadata": {},
   "outputs": [
    {
     "data": {
      "text/html": [
       "<div>\n",
       "<style scoped>\n",
       "    .dataframe tbody tr th:only-of-type {\n",
       "        vertical-align: middle;\n",
       "    }\n",
       "\n",
       "    .dataframe tbody tr th {\n",
       "        vertical-align: top;\n",
       "    }\n",
       "\n",
       "    .dataframe thead th {\n",
       "        text-align: right;\n",
       "    }\n",
       "</style>\n",
       "<table border=\"1\" class=\"dataframe\">\n",
       "  <thead>\n",
       "    <tr style=\"text-align: right;\">\n",
       "      <th>통계분류(2)</th>\n",
       "      <th>통계분류(2)</th>\n",
       "      <th>100만원 미만</th>\n",
       "      <th>100~200만원</th>\n",
       "      <th>200~300만원</th>\n",
       "      <th>300~400만원</th>\n",
       "      <th>400~500만원</th>\n",
       "      <th>500~600만원</th>\n",
       "      <th>600만원 이상</th>\n",
       "    </tr>\n",
       "  </thead>\n",
       "  <tbody>\n",
       "    <tr>\n",
       "      <th>2016</th>\n",
       "      <td>표본수</td>\n",
       "      <td>861</td>\n",
       "      <td>1075</td>\n",
       "      <td>1594</td>\n",
       "      <td>2437</td>\n",
       "      <td>2231</td>\n",
       "      <td>1356</td>\n",
       "      <td>1048</td>\n",
       "    </tr>\n",
       "    <tr>\n",
       "      <th>2016.1</th>\n",
       "      <td>일에 더 집중하고있다</td>\n",
       "      <td>0.9</td>\n",
       "      <td>1.5</td>\n",
       "      <td>2.5</td>\n",
       "      <td>1.2</td>\n",
       "      <td>1.4</td>\n",
       "      <td>1.7</td>\n",
       "      <td>2.1</td>\n",
       "    </tr>\n",
       "    <tr>\n",
       "      <th>2016.2</th>\n",
       "      <td>일에 조금 더 집중하고 있다</td>\n",
       "      <td>4.2</td>\n",
       "      <td>8.1</td>\n",
       "      <td>10.3</td>\n",
       "      <td>9.1</td>\n",
       "      <td>8.5</td>\n",
       "      <td>8.1</td>\n",
       "      <td>8.6</td>\n",
       "    </tr>\n",
       "    <tr>\n",
       "      <th>2016.3</th>\n",
       "      <td>다소 일에 집중하고 있다</td>\n",
       "      <td>12.2</td>\n",
       "      <td>14.1</td>\n",
       "      <td>19.2</td>\n",
       "      <td>22.1</td>\n",
       "      <td>21</td>\n",
       "      <td>22.4</td>\n",
       "      <td>21.6</td>\n",
       "    </tr>\n",
       "    <tr>\n",
       "      <th>2016.4</th>\n",
       "      <td>균형을 이루고 있다</td>\n",
       "      <td>31</td>\n",
       "      <td>35.3</td>\n",
       "      <td>32.4</td>\n",
       "      <td>36.5</td>\n",
       "      <td>36.3</td>\n",
       "      <td>37.1</td>\n",
       "      <td>34.8</td>\n",
       "    </tr>\n",
       "    <tr>\n",
       "      <th>2016.5</th>\n",
       "      <td>다소 여가에 더 집중하고있다</td>\n",
       "      <td>28.9</td>\n",
       "      <td>24.7</td>\n",
       "      <td>23.6</td>\n",
       "      <td>19.6</td>\n",
       "      <td>22</td>\n",
       "      <td>20</td>\n",
       "      <td>21.6</td>\n",
       "    </tr>\n",
       "    <tr>\n",
       "      <th>2016.6</th>\n",
       "      <td>여가에 조금 더 집중하고 있다</td>\n",
       "      <td>18</td>\n",
       "      <td>14.7</td>\n",
       "      <td>11.3</td>\n",
       "      <td>11</td>\n",
       "      <td>10.6</td>\n",
       "      <td>10.4</td>\n",
       "      <td>10.6</td>\n",
       "    </tr>\n",
       "    <tr>\n",
       "      <th>2016.7</th>\n",
       "      <td>여가에 더 집중하고 있다</td>\n",
       "      <td>4.8</td>\n",
       "      <td>1.6</td>\n",
       "      <td>0.6</td>\n",
       "      <td>0.4</td>\n",
       "      <td>0.3</td>\n",
       "      <td>0.4</td>\n",
       "      <td>0.8</td>\n",
       "    </tr>\n",
       "  </tbody>\n",
       "</table>\n",
       "</div>"
      ],
      "text/plain": [
       "통계분류(2)           통계분류(2) 100만원 미만 100~200만원 200~300만원 300~400만원 400~500만원  \\\n",
       "2016                  표본수      861      1075      1594      2437      2231   \n",
       "2016.1        일에 더 집중하고있다      0.9       1.5       2.5       1.2       1.4   \n",
       "2016.2    일에 조금 더 집중하고 있다      4.2       8.1      10.3       9.1       8.5   \n",
       "2016.3      다소 일에 집중하고 있다     12.2      14.1      19.2      22.1        21   \n",
       "2016.4         균형을 이루고 있다       31      35.3      32.4      36.5      36.3   \n",
       "2016.5    다소 여가에 더 집중하고있다     28.9      24.7      23.6      19.6        22   \n",
       "2016.6   여가에 조금 더 집중하고 있다       18      14.7      11.3        11      10.6   \n",
       "2016.7      여가에 더 집중하고 있다      4.8       1.6       0.6       0.4       0.3   \n",
       "\n",
       "통계분류(2) 500~600만원 600만원 이상  \n",
       "2016         1356     1048  \n",
       "2016.1        1.7      2.1  \n",
       "2016.2        8.1      8.6  \n",
       "2016.3       22.4     21.6  \n",
       "2016.4       37.1     34.8  \n",
       "2016.5         20     21.6  \n",
       "2016.6       10.4     10.6  \n",
       "2016.7        0.4      0.8  "
      ]
     },
     "execution_count": 37,
     "metadata": {},
     "output_type": "execute_result"
    }
   ],
   "source": [
    "leis_가구소득별_2016"
   ]
  }
 ],
 "metadata": {
  "kernelspec": {
   "display_name": "Python 3 (ipykernel)",
   "language": "python",
   "name": "python3"
  },
  "language_info": {
   "codemirror_mode": {
    "name": "ipython",
    "version": 3
   },
   "file_extension": ".py",
   "mimetype": "text/x-python",
   "name": "python",
   "nbconvert_exporter": "python",
   "pygments_lexer": "ipython3",
   "version": "3.10.9"
  }
 },
 "nbformat": 4,
 "nbformat_minor": 5
}
